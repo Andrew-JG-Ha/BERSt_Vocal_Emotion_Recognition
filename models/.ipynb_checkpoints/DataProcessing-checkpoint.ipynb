{
 "cells": [
  {
   "cell_type": "markdown",
   "id": "3c038e68-28ee-4a50-b731-7dd5c485d8ee",
   "metadata": {},
   "source": [
    "Data Processing and Separation\n",
    "=============================="
   ]
  },
  {
   "cell_type": "code",
   "execution_count": 20,
   "id": "55992b59-36f8-49bc-9301-3864b89ca1dc",
   "metadata": {
    "tags": []
   },
   "outputs": [],
   "source": [
    "import pandas as pd\n",
    "import numpy as np"
   ]
  },
  {
   "cell_type": "code",
   "execution_count": 25,
   "id": "d3326e12-975a-4b4f-8bd9-4c6a4e73f423",
   "metadata": {
    "tags": []
   },
   "outputs": [],
   "source": [
    "valid_data = pd.read_csv(\"../valid_data.csv\")\n",
    "\n",
    "testSet = valid_data.sample(n=100, random_state=100)\n",
    "testSet.to_csv(\"../test_set.csv\")\n",
    "\n",
    "trainingSet = valid_data.drop(testSet.index)\n",
    "trainingSet.to_csv(\"../training_set.csv\")"
   ]
  },
  {
   "cell_type": "code",
   "execution_count": null,
   "id": "49f9b5c4-6b40-4fe7-9007-a60f37258b30",
   "metadata": {},
   "outputs": [],
   "source": []
  }
 ],
 "metadata": {
  "kernelspec": {
   "display_name": "Python 3 (ipykernel)",
   "language": "python",
   "name": "python3"
  },
  "language_info": {
   "codemirror_mode": {
    "name": "ipython",
    "version": 3
   },
   "file_extension": ".py",
   "mimetype": "text/x-python",
   "name": "python",
   "nbconvert_exporter": "python",
   "pygments_lexer": "ipython3",
   "version": "3.11.5"
  }
 },
 "nbformat": 4,
 "nbformat_minor": 5
}
