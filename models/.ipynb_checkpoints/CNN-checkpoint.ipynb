{
 "cells": [
  {
   "cell_type": "markdown",
   "id": "e2bb75ce-5d1d-47ab-b888-dabcf9d0ccfa",
   "metadata": {},
   "source": [
    "Convolutional Neural Network\n",
    "============================"
   ]
  },
  {
   "cell_type": "markdown",
   "id": "8a862caf",
   "metadata": {},
   "source": [
    "In this part of the project, Convolutional Neural Network model is going to be trained using Berst Dataset. The process of training would be the following:\n",
    "1. Preprocess data:  \n",
    "    Convert audio file into spectogram image  \n",
    "    Convert image as grey scale vector or some representation of vector  \n",
    "2. Train the model\n",
    "3. Test the model"
   ]
  },
  {
   "cell_type": "markdown",
   "id": "5bb9092b",
   "metadata": {},
   "source": [
    "Before preprocessing, lets import all necessary external libraries. The libraries used are listed below:\n",
    "1. [librosa](https://librosa.org/doc/main/core.html)\n",
    "2. [numpy](https://numpy.org/doc/stable/user/index.html)\n",
    "3. [pandas](https://pandas.pydata.org/docs/user_guide/index.html#user-guide)\n",
    "4. [os](https://docs.python.org/3/library/os.html)\n",
    "5. [matplotlib.pyplot](https://matplotlib.org/3.5.3/api/_as_gen/matplotlib.pyplot.html)\n",
    "6. [classification_report from sklearn.metrics](https://scikit-learn.org/stable/modules/generated/sklearn.metrics.classification_report.html#sklearn.metrics.classification_report)\n",
    "7. [confusion_matrix from sklearn.metrics](https://scikit-learn.org/stable/modules/generated/sklearn.metrics.confusion_matrix.html#sklearn.metrics.confusion_matrix)\n",
    "8. [keras](https://keras.io/api/)\n",
    "9. [tensorflow](https://www.tensorflow.org/install) : to use keras, we need tensorflow"
   ]
  },
  {
   "cell_type": "code",
   "execution_count": 1,
   "id": "72c54408",
   "metadata": {},
   "outputs": [],
   "source": [
    "#!pip install librosa\n",
    "import librosa\n",
    "import numpy as np\n",
    "import pandas as pd\n",
    "import os\n",
    "import matplotlib.pyplot as plt\n",
    "from sklearn.metrics import classification_report\n",
    "from sklearn.metrics import confusion_matrix, ConfusionMatrixDisplay\n",
    "\n",
    "#!pip install tensorflow[and-cuda]\n",
    "#!pip install --upgrade keras\n",
    "os.environ[\"KERAS_BACKEND\"] = \"tensorflow\"\n",
    "import keras\n",
    "import tensorflow as tf"
   ]
  },
  {
   "cell_type": "markdown",
   "id": "62abb8a8",
   "metadata": {},
   "source": [
    "### Data Preprocessing\n",
    "In this part, the data is going to be preprocessed to use on training model.   \n",
    "The process of data preprcoessing is following:\n",
    "1. Convert audio file into spectogram image\n",
    "2. Convert image as grey scale vector or some representation of vector"
   ]
  },
  {
   "cell_type": "code",
   "execution_count": 2,
   "id": "2963de6e",
   "metadata": {
    "scrolled": true
   },
   "outputs": [
    {
     "data": {
      "text/plain": [
       "<bound method NDFrame.head of        affect                                     phone_position  \\\n",
       "0     sadness  Place phone on the opposite side of the room i...   \n",
       "1     neutral  Hold your phone next to your face but with the...   \n",
       "2     neutral  Place phone on the opposite side of the room f...   \n",
       "3     neutral  Place phone on the opposite side of the room f...   \n",
       "4     disgust  Place phone 1-2 meters away face up on any sur...   \n",
       "...       ...                                                ...   \n",
       "2948  sadness  Place phone as far away as possible while on o...   \n",
       "2949  sadness  Place phone as far away as possible while on o...   \n",
       "2950  sadness  Place phone as far away as possible while on o...   \n",
       "2951     fear  Place phone 1-2 meters away face down on a har...   \n",
       "2952     fear  Place phone 1-2 meters away face down on a har...   \n",
       "\n",
       "                                              file_path  \n",
       "0     /dataset/shout_data_3afd7208-7987-4c73-8e01-58...  \n",
       "1     /dataset/shout_data_ae6feb35-cf7a-4805-8d05-03...  \n",
       "2     /dataset/shout_data_fdb758a5-9c86-40f7-8870-ca...  \n",
       "3     /dataset/shout_data_fdb758a5-9c86-40f7-8870-ca...  \n",
       "4     /dataset/shout_data_739dbf1c-ec21-42db-9e49-3a...  \n",
       "...                                                 ...  \n",
       "2948  /dataset/shout_data_f8d1719f-8a4b-4d7a-a2a7-ef...  \n",
       "2949  /dataset/shout_data_f8d1719f-8a4b-4d7a-a2a7-ef...  \n",
       "2950  /dataset/shout_data_f8d1719f-8a4b-4d7a-a2a7-ef...  \n",
       "2951  /dataset/shout_data_d5d4e179-d411-4652-b80b-3b...  \n",
       "2952  /dataset/shout_data_d5d4e179-d411-4652-b80b-3b...  \n",
       "\n",
       "[2953 rows x 3 columns]>"
      ]
     },
     "execution_count": 2,
     "metadata": {},
     "output_type": "execute_result"
    }
   ],
   "source": [
    "data = pd.read_csv(\"../training_set.csv\")\n",
    "data = data[['affect','phone_position','file_path']]\n",
    "data.head"
   ]
  },
  {
   "cell_type": "code",
   "execution_count": 3,
   "id": "ac9a488e",
   "metadata": {},
   "outputs": [],
   "source": [
    "emotion_dict = {\"neutral\": 0, \"anger\": 1, \"joy\":2, \"fear\":3, \"disgust\":4, \"surprise\": 5, \"sadness\": 6}\n",
    "position_dict = {\"Hold your phone next to your face with the mic facing your mouth as you would in a phone conversation 1/19\": 0,\n",
    "                \"Hold your phone next to your face but with the mic/phone facing away from your face 2/19\": 1,\n",
    "                \"Hold your phone next to your face with your hand covering the mic 3/19\": 2,\n",
    "                \"Hold your phone next to your hip with the back of phone on your palm 4/19\": 3,\n",
    "                \"Hold your phone next to your hip with your hand covering the mic 5/19\": 4,\n",
    "                \"Place your phone in your pocket 6/19\": 5,\n",
    "                \"Place your phone in a bag and hold it next to your hip 7/19\": 6,\n",
    "                \"Place phone 1-2 meters away face up on any surface 8/19\": 7,\n",
    "                \"Place phone 1-2 meters away face down on a hard surface 9/19\": 8,\n",
    "                \"Place phone 1-2 meters away face down on a soft surface 10/19\": 9,\n",
    "                \"Place phone 1-2 meters away in a bag 11/19\": 10,\n",
    "                \"Place phone on the opposite side of the room face up on any surface 12/19\": 11,\n",
    "                \"Place phone on the opposite side of the room face down on a hard surface 13/19\": 12,\n",
    "                \"Place phone on the opposite side of the room face down on a soft surface 14/19\": 13,\n",
    "                \"Place phone on the opposite side of the room in a bag 15/19\": 14,\n",
    "                \"Place phone as far away as possible while on on the opposite side of a wall from you face up on any surface 16/19\": 15,\n",
    "                \"Place phone as far away as possible while on on the opposite side of a wall from you face down on a hard surface 17/19\": 16,\n",
    "                \"Place phone as far away as possible while on on the opposite side of a wall from you face down on a soft surface 18/19\": 17,\n",
    "                \"Place phone as far away as possible while on on the opposite side of a wall from you in a bag 19/19\": 18}"
   ]
  },
  {
   "cell_type": "code",
   "execution_count": 4,
   "id": "6cb75b23-d9f2-4094-825c-414ced586e28",
   "metadata": {},
   "outputs": [
    {
     "data": {
      "text/plain": [
       "<bound method NDFrame.head of       affect  phone_position  \\\n",
       "0          6              14   \n",
       "1          0               1   \n",
       "2          0              12   \n",
       "3          0              12   \n",
       "4          4               7   \n",
       "...      ...             ...   \n",
       "2948       6              16   \n",
       "2949       6              16   \n",
       "2950       6              16   \n",
       "2951       3               8   \n",
       "2952       3               8   \n",
       "\n",
       "                                              file_path  \n",
       "0     /dataset/shout_data_3afd7208-7987-4c73-8e01-58...  \n",
       "1     /dataset/shout_data_ae6feb35-cf7a-4805-8d05-03...  \n",
       "2     /dataset/shout_data_fdb758a5-9c86-40f7-8870-ca...  \n",
       "3     /dataset/shout_data_fdb758a5-9c86-40f7-8870-ca...  \n",
       "4     /dataset/shout_data_739dbf1c-ec21-42db-9e49-3a...  \n",
       "...                                                 ...  \n",
       "2948  /dataset/shout_data_f8d1719f-8a4b-4d7a-a2a7-ef...  \n",
       "2949  /dataset/shout_data_f8d1719f-8a4b-4d7a-a2a7-ef...  \n",
       "2950  /dataset/shout_data_f8d1719f-8a4b-4d7a-a2a7-ef...  \n",
       "2951  /dataset/shout_data_d5d4e179-d411-4652-b80b-3b...  \n",
       "2952  /dataset/shout_data_d5d4e179-d411-4652-b80b-3b...  \n",
       "\n",
       "[2947 rows x 3 columns]>"
      ]
     },
     "execution_count": 4,
     "metadata": {},
     "output_type": "execute_result"
    }
   ],
   "source": [
    "data['affect'] = data['affect'].map(emotion_dict)\n",
    "data['phone_position'] = data['phone_position'].map(position_dict)\n",
    "data = data.drop(data[data.phone_position.isna()].index)\n",
    "data['phone_position'] = data['phone_position'].astype('uint8')\n",
    "data.head"
   ]
  },
  {
   "cell_type": "code",
   "execution_count": 5,
   "id": "a45009b6",
   "metadata": {},
   "outputs": [
    {
     "data": {
      "text/html": [
       "<div>\n",
       "<style scoped>\n",
       "    .dataframe tbody tr th:only-of-type {\n",
       "        vertical-align: middle;\n",
       "    }\n",
       "\n",
       "    .dataframe tbody tr th {\n",
       "        vertical-align: top;\n",
       "    }\n",
       "\n",
       "    .dataframe thead th {\n",
       "        text-align: right;\n",
       "    }\n",
       "</style>\n",
       "<table border=\"1\" class=\"dataframe\">\n",
       "  <thead>\n",
       "    <tr style=\"text-align: right;\">\n",
       "      <th></th>\n",
       "      <th>affect</th>\n",
       "      <th>phone_position</th>\n",
       "      <th>file_path</th>\n",
       "      <th>mel_rgb</th>\n",
       "      <th>spec_rgb</th>\n",
       "      <th>chrom_rgb</th>\n",
       "    </tr>\n",
       "  </thead>\n",
       "  <tbody>\n",
       "    <tr>\n",
       "      <th>0</th>\n",
       "      <td>6</td>\n",
       "      <td>14</td>\n",
       "      <td>/dataset/shout_data_3afd7208-7987-4c73-8e01-58...</td>\n",
       "      <td>[[[255, 255, 255], [255, 255, 255], [255, 255,...</td>\n",
       "      <td>[[[255, 255, 255], [255, 255, 255], [255, 255,...</td>\n",
       "      <td>[[[255, 255, 255], [255, 255, 255], [255, 255,...</td>\n",
       "    </tr>\n",
       "    <tr>\n",
       "      <th>1</th>\n",
       "      <td>0</td>\n",
       "      <td>1</td>\n",
       "      <td>/dataset/shout_data_ae6feb35-cf7a-4805-8d05-03...</td>\n",
       "      <td>[[[255, 255, 255], [255, 255, 255], [255, 255,...</td>\n",
       "      <td>[[[255, 255, 255], [255, 255, 255], [255, 255,...</td>\n",
       "      <td>[[[255, 255, 255], [255, 255, 255], [255, 255,...</td>\n",
       "    </tr>\n",
       "    <tr>\n",
       "      <th>2</th>\n",
       "      <td>0</td>\n",
       "      <td>12</td>\n",
       "      <td>/dataset/shout_data_fdb758a5-9c86-40f7-8870-ca...</td>\n",
       "      <td>[[[255, 255, 255], [255, 255, 255], [255, 255,...</td>\n",
       "      <td>[[[255, 255, 255], [255, 255, 255], [255, 255,...</td>\n",
       "      <td>[[[255, 255, 255], [255, 255, 255], [255, 255,...</td>\n",
       "    </tr>\n",
       "    <tr>\n",
       "      <th>3</th>\n",
       "      <td>0</td>\n",
       "      <td>12</td>\n",
       "      <td>/dataset/shout_data_fdb758a5-9c86-40f7-8870-ca...</td>\n",
       "      <td>[[[255, 255, 255], [255, 255, 255], [255, 255,...</td>\n",
       "      <td>[[[255, 255, 255], [255, 255, 255], [255, 255,...</td>\n",
       "      <td>[[[255, 255, 255], [255, 255, 255], [255, 255,...</td>\n",
       "    </tr>\n",
       "    <tr>\n",
       "      <th>4</th>\n",
       "      <td>4</td>\n",
       "      <td>7</td>\n",
       "      <td>/dataset/shout_data_739dbf1c-ec21-42db-9e49-3a...</td>\n",
       "      <td>[[[255, 255, 255], [255, 255, 255], [255, 255,...</td>\n",
       "      <td>[[[255, 255, 255], [255, 255, 255], [255, 255,...</td>\n",
       "      <td>[[[255, 255, 255], [255, 255, 255], [255, 255,...</td>\n",
       "    </tr>\n",
       "  </tbody>\n",
       "</table>\n",
       "</div>"
      ],
      "text/plain": [
       "   affect  phone_position                                          file_path  \\\n",
       "0       6              14  /dataset/shout_data_3afd7208-7987-4c73-8e01-58...   \n",
       "1       0               1  /dataset/shout_data_ae6feb35-cf7a-4805-8d05-03...   \n",
       "2       0              12  /dataset/shout_data_fdb758a5-9c86-40f7-8870-ca...   \n",
       "3       0              12  /dataset/shout_data_fdb758a5-9c86-40f7-8870-ca...   \n",
       "4       4               7  /dataset/shout_data_739dbf1c-ec21-42db-9e49-3a...   \n",
       "\n",
       "                                             mel_rgb  \\\n",
       "0  [[[255, 255, 255], [255, 255, 255], [255, 255,...   \n",
       "1  [[[255, 255, 255], [255, 255, 255], [255, 255,...   \n",
       "2  [[[255, 255, 255], [255, 255, 255], [255, 255,...   \n",
       "3  [[[255, 255, 255], [255, 255, 255], [255, 255,...   \n",
       "4  [[[255, 255, 255], [255, 255, 255], [255, 255,...   \n",
       "\n",
       "                                            spec_rgb  \\\n",
       "0  [[[255, 255, 255], [255, 255, 255], [255, 255,...   \n",
       "1  [[[255, 255, 255], [255, 255, 255], [255, 255,...   \n",
       "2  [[[255, 255, 255], [255, 255, 255], [255, 255,...   \n",
       "3  [[[255, 255, 255], [255, 255, 255], [255, 255,...   \n",
       "4  [[[255, 255, 255], [255, 255, 255], [255, 255,...   \n",
       "\n",
       "                                           chrom_rgb  \n",
       "0  [[[255, 255, 255], [255, 255, 255], [255, 255,...  \n",
       "1  [[[255, 255, 255], [255, 255, 255], [255, 255,...  \n",
       "2  [[[255, 255, 255], [255, 255, 255], [255, 255,...  \n",
       "3  [[[255, 255, 255], [255, 255, 255], [255, 255,...  \n",
       "4  [[[255, 255, 255], [255, 255, 255], [255, 255,...  "
      ]
     },
     "execution_count": 5,
     "metadata": {},
     "output_type": "execute_result"
    }
   ],
   "source": [
    "mel_rgb = []\n",
    "spec_rgb = []\n",
    "chrom_rgb = []\n",
    "\n",
    "for index, row in data.iterrows():\n",
    "    position = row['phone_position']\n",
    "    y, sr = librosa.load('..'+row['file_path'])\n",
    "    S = librosa.feature.melspectrogram(y=y, sr=sr)\n",
    "    S_dB = librosa.power_to_db(S, ref=np.max)\n",
    "    fig, ax = plt.subplots()\n",
    "    fig.set_size_inches(3,2)\n",
    "    image = librosa.display.specshow(S_dB, sr=sr,ax=ax)\n",
    "    fig.canvas.draw()\n",
    "    \n",
    "    # Convert the canvas to a raw RGB buffer\n",
    "    buf = fig.canvas.tostring_rgb()\n",
    "    ncols, nrows = fig.canvas.get_width_height()\n",
    "    image = np.frombuffer(buf, dtype=np.uint8).reshape(nrows, ncols, 3)\n",
    "\n",
    "    mel_rgb.append(image)\n",
    "    plt.close()\n",
    "\n",
    "    S = librosa.feature.melspectrogram(y=y, sr=sr)\n",
    "    S_dB = librosa.power_to_db(S, ref=np.max)\n",
    "    fig, ax = plt.subplots()\n",
    "    fig.set_size_inches(3,2)\n",
    "    image = librosa.display.specshow(S_dB, sr=sr,ax=ax)\n",
    "    fig.canvas.draw()\n",
    "\n",
    "    # Convert the canvas to a raw RGB buffer\n",
    "    buf = fig.canvas.tostring_rgb()\n",
    "    ncols, nrows = fig.canvas.get_width_height()\n",
    "    image = np.frombuffer(buf, dtype=np.uint8).reshape(nrows, ncols, 3)\n",
    "    \n",
    "    spec_rgb.append(image)\n",
    "    plt.close()\n",
    "\n",
    "    chromagram = librosa.feature.chroma_stft(y=y, sr=sr)\n",
    "    fig, ax = plt.subplots()\n",
    "    fig.set_size_inches(3,2)\n",
    "    image = librosa.display.specshow(chromagram, sr=sr,ax=ax)\n",
    "    fig.canvas.draw()\n",
    "\n",
    "    # Convert the canvas to a raw RGB buffer\n",
    "    buf = fig.canvas.tostring_rgb()\n",
    "    ncols, nrows = fig.canvas.get_width_height()\n",
    "    image = np.frombuffer(buf, dtype=np.uint8).reshape(nrows, ncols, 3)\n",
    "    \n",
    "    chrom_rgb.append(image)\n",
    "    plt.close()\n",
    "\n",
    "data['mel_rgb'] = mel_rgb\n",
    "data['spec_rgb'] = spec_rgb\n",
    "data['chrom_rgb'] = chrom_rgb\n",
    "\n",
    "data.head()"
   ]
  },
  {
   "cell_type": "code",
   "execution_count": 6,
   "id": "00654e3a-e7fc-491e-afce-1e8ad68b38b4",
   "metadata": {},
   "outputs": [
    {
     "data": {
      "image/png": "[encoded data removed]",
      "text/plain": [
       "<Figure size 300x200 with 1 Axes>"
      ]
     },
     "metadata": {},
     "output_type": "display_data"
    }
   ],
   "source": [
    "y, sr = librosa.load('..'+data['file_path'][1])\n",
    "S = librosa.feature.melspectrogram(y=y, sr=sr)\n",
    "S_dB = librosa.power_to_db(S, ref=np.max)\n",
    "fig, ax = plt.subplots()\n",
    "fig.set_size_inches(3,2)\n",
    "image = librosa.display.specshow(S_dB, sr=sr,ax=ax)\n",
    "fig.canvas.draw()"
   ]
  },
  {
   "cell_type": "code",
   "execution_count": 7,
   "id": "a3d1d146-3802-4460-8ad6-1d7cabc269a6",
   "metadata": {},
   "outputs": [
    {
     "data": {
      "image/png": "[encoded data removed]",
      "text/plain": [
       "<Figure size 300x200 with 1 Axes>"
      ]
     },
     "metadata": {},
     "output_type": "display_data"
    }
   ],
   "source": [
    "y, sr = librosa.load('..'+data['file_path'][1])\n",
    "S = np.abs(librosa.stft(y))\n",
    "S_dB = librosa.power_to_db(S, ref=np.max)\n",
    "fig, ax = plt.subplots()\n",
    "fig.set_size_inches(3,2)\n",
    "image = librosa.display.specshow(S_dB, sr=sr,ax=ax)\n",
    "fig.canvas.draw()"
   ]
  },
  {
   "cell_type": "code",
   "execution_count": 8,
   "id": "a7fdd8a7-102d-400b-a4a5-dbf2590cacc9",
   "metadata": {},
   "outputs": [
    {
     "data": {
      "image/png": "[encoded data removed]",
      "text/plain": [
       "<Figure size 300x200 with 1 Axes>"
      ]
     },
     "metadata": {},
     "output_type": "display_data"
    }
   ],
   "source": [
    "chromagram = librosa.feature.chroma_stft(y=y, sr=sr)\n",
    "fig, ax = plt.subplots()\n",
    "fig.set_size_inches(3,2)\n",
    "image = librosa.display.specshow(chromagram, sr=sr,ax=ax)\n",
    "fig.canvas.draw()"
   ]
  },
  {
   "cell_type": "code",
   "execution_count": 9,
   "id": "b9171ed8",
   "metadata": {},
   "outputs": [
    {
     "name": "stdout",
     "output_type": "stream",
     "text": [
      "(100, 6)\n",
      "(2847, 6)\n"
     ]
    }
   ],
   "source": [
    "valid = data.sample(n=100)\n",
    "train = data.drop(valid.index)\n",
    "print(valid.shape)\n",
    "print(train.shape)"
   ]
  },
  {
   "cell_type": "code",
   "execution_count": 10,
   "id": "f7c1074c",
   "metadata": {
    "scrolled": true
   },
   "outputs": [
    {
     "name": "stdout",
     "output_type": "stream",
     "text": [
      "(2847, 7)\n",
      "(100, 7)\n"
     ]
    }
   ],
   "source": [
    "y_train = train['affect']\n",
    "y_valid = valid['affect']\n",
    "y_train = keras.utils.to_categorical(y_train, num_classes=7)\n",
    "y_valid = keras.utils.to_categorical(y_valid, num_classes=7)\n",
    "print(y_train.shape)\n",
    "print(y_valid.shape)"
   ]
  },
  {
   "cell_type": "markdown",
   "id": "11742361-df85-4340-96ff-500c99398246",
   "metadata": {},
   "source": [
    "### CNN with Melspectrogram(RGB)"
   ]
  },
  {
   "cell_type": "code",
   "execution_count": 11,
   "id": "14ab4f02",
   "metadata": {},
   "outputs": [
    {
     "name": "stdout",
     "output_type": "stream",
     "text": [
      "(2847, 200, 300, 3)\n",
      "(100, 200, 300, 3)\n"
     ]
    }
   ],
   "source": [
    "#data for CNN\n",
    "x_train_cnn = np.asarray(train['mel_rgb'])\n",
    "x_train_cnn = np.stack(x_train_cnn, axis=0)\n",
    "x_valid_cnn = np.asarray(valid['mel_rgb'])\n",
    "x_valid_cnn = np.stack(x_valid_cnn, axis = 0)\n",
    "print(x_train_cnn.shape)\n",
    "print(x_valid_cnn.shape)"
   ]
  },
  {
   "cell_type": "markdown",
   "id": "b9d2b5dd",
   "metadata": {},
   "source": [
    "Build the CNN model using the data above"
   ]
  },
  {
   "cell_type": "code",
   "execution_count": 12,
   "id": "293cabb1",
   "metadata": {},
   "outputs": [
    {
     "name": "stdout",
     "output_type": "stream",
     "text": [
      "Model: \"sequential\"\n",
      "_________________________________________________________________\n",
      " Layer (type)                Output Shape              Param #   \n",
      "=================================================================\n",
      " conv2d (Conv2D)             (None, 196, 296, 64)      4864      \n",
      "                                                                 \n",
      " conv2d_1 (Conv2D)           (None, 194, 294, 32)      18464     \n",
      "                                                                 \n",
      " batch_normalization (BatchN  (None, 194, 294, 32)     128       \n",
      " ormalization)                                                   \n",
      "                                                                 \n",
      " max_pooling2d (MaxPooling2D  (None, 97, 147, 32)      0         \n",
      " )                                                               \n",
      "                                                                 \n",
      " dropout (Dropout)           (None, 97, 147, 32)       0         \n",
      "                                                                 \n",
      " flatten (Flatten)           (None, 456288)            0         \n",
      "                                                                 \n",
      " dense (Dense)               (None, 7)                 3194023   \n",
      "                                                                 \n",
      "=================================================================\n",
      "Total params: 3,217,479\n",
      "Trainable params: 3,217,415\n",
      "Non-trainable params: 64\n",
      "_________________________________________________________________\n"
     ]
    }
   ],
   "source": [
    "cnn = keras.Sequential()\n",
    "\n",
    "cnn.add(keras.layers.Input(shape=(200,300,3)))\n",
    "cnn.add(keras.layers.Conv2D(64, kernel_size=(5, 5), activation='relu'))\n",
    "cnn.add(keras.layers.Conv2D(32, kernel_size=(3, 3), activation='relu'))\n",
    "cnn.add(keras.layers.BatchNormalization())\n",
    "cnn.add(keras.layers.MaxPooling2D(pool_size=(2, 2)))\n",
    "cnn.add(keras.layers.Dropout(0.10))\n",
    "\n",
    "cnn.add(keras.layers.Flatten())\n",
    "cnn.add(keras.layers.Dense(7, activation='softmax'))\n",
    "\n",
    "cnn.compile(loss='categorical_crossentropy', optimizer='adam', metrics=['accuracy'])\n",
    "cnn.summary()"
   ]
  },
  {
   "cell_type": "code",
   "execution_count": 13,
   "id": "b4414fa7-d6a6-4540-bb2b-e4acd396d96a",
   "metadata": {},
   "outputs": [
    {
     "name": "stdout",
     "output_type": "stream",
     "text": [
      "Epoch 1/20\n",
      "178/178 [==============================] - 11s 42ms/step - loss: 68.7491 - accuracy: 0.1549 - val_loss: 73.3436 - val_accuracy: 0.1300\n",
      "Epoch 2/20\n",
      "178/178 [==============================] - 7s 38ms/step - loss: 36.2227 - accuracy: 0.2543 - val_loss: 60.9177 - val_accuracy: 0.1200\n",
      "Epoch 3/20\n",
      "178/178 [==============================] - 7s 38ms/step - loss: 22.3313 - accuracy: 0.4092 - val_loss: 78.8432 - val_accuracy: 0.1200\n",
      "Epoch 4/20\n",
      "178/178 [==============================] - 7s 38ms/step - loss: 10.4123 - accuracy: 0.6361 - val_loss: 58.7550 - val_accuracy: 0.1600\n",
      "Epoch 5/20\n",
      "178/178 [==============================] - 7s 38ms/step - loss: 4.2197 - accuracy: 0.8131 - val_loss: 90.9085 - val_accuracy: 0.1600\n",
      "Epoch 6/20\n",
      "178/178 [==============================] - 7s 38ms/step - loss: 3.2086 - accuracy: 0.8546 - val_loss: 40.8577 - val_accuracy: 0.2200\n",
      "Epoch 7/20\n",
      "178/178 [==============================] - 7s 38ms/step - loss: 2.5920 - accuracy: 0.8929 - val_loss: 62.8495 - val_accuracy: 0.1800\n",
      "Epoch 8/20\n",
      "178/178 [==============================] - 7s 38ms/step - loss: 1.7456 - accuracy: 0.9178 - val_loss: 43.6873 - val_accuracy: 0.2100\n",
      "Epoch 9/20\n",
      "178/178 [==============================] - 7s 38ms/step - loss: 1.1215 - accuracy: 0.9434 - val_loss: 56.7427 - val_accuracy: 0.2500\n",
      "Epoch 10/20\n",
      "178/178 [==============================] - 7s 38ms/step - loss: 0.7762 - accuracy: 0.9561 - val_loss: 61.2612 - val_accuracy: 0.2000\n",
      "Epoch 11/20\n",
      "178/178 [==============================] - 7s 38ms/step - loss: 0.9291 - accuracy: 0.9547 - val_loss: 61.9147 - val_accuracy: 0.2200\n",
      "Epoch 12/20\n",
      "178/178 [==============================] - 7s 38ms/step - loss: 0.7813 - accuracy: 0.9621 - val_loss: 70.5135 - val_accuracy: 0.2100\n",
      "Epoch 13/20\n",
      "178/178 [==============================] - 7s 38ms/step - loss: 0.7215 - accuracy: 0.9673 - val_loss: 75.7382 - val_accuracy: 0.2200\n",
      "Epoch 14/20\n",
      "178/178 [==============================] - 7s 38ms/step - loss: 0.8493 - accuracy: 0.9649 - val_loss: 66.8194 - val_accuracy: 0.2500\n",
      "Epoch 15/20\n",
      "178/178 [==============================] - 7s 38ms/step - loss: 3.4819 - accuracy: 0.9048 - val_loss: 69.3364 - val_accuracy: 0.2300\n",
      "Epoch 16/20\n",
      "178/178 [==============================] - 7s 38ms/step - loss: 4.9956 - accuracy: 0.8915 - val_loss: 85.2655 - val_accuracy: 0.2200\n",
      "Epoch 17/20\n",
      "178/178 [==============================] - 7s 38ms/step - loss: 1.4459 - accuracy: 0.9550 - val_loss: 87.3664 - val_accuracy: 0.2100\n",
      "Epoch 18/20\n",
      "178/178 [==============================] - 7s 38ms/step - loss: 1.4467 - accuracy: 0.9603 - val_loss: 159.3459 - val_accuracy: 0.1300\n",
      "Epoch 19/20\n",
      "178/178 [==============================] - 7s 38ms/step - loss: 1.3693 - accuracy: 0.9568 - val_loss: 88.5776 - val_accuracy: 0.1800\n",
      "Epoch 20/20\n",
      "178/178 [==============================] - 7s 38ms/step - loss: 0.5555 - accuracy: 0.9765 - val_loss: 89.2215 - val_accuracy: 0.2200\n"
     ]
    },
    {
     "data": {
      "text/plain": [
       "<keras.callbacks.History at 0x2d656172e80>"
      ]
     },
     "execution_count": 13,
     "metadata": {},
     "output_type": "execute_result"
    }
   ],
   "source": [
    "y_train_tensor = tf.convert_to_tensor(y_train)\n",
    "y_valid_tensor = tf.convert_to_tensor(y_valid)\n",
    "\n",
    "x_train_tensor = tf.convert_to_tensor(x_train_cnn)\n",
    "x_valid_tensor = tf.convert_to_tensor(x_valid_cnn)\n",
    "\n",
    "# training the model\n",
    "cnn.fit(x_train_tensor, y_train_tensor, batch_size=16, epochs=20, validation_data=(x_valid_tensor, y_valid_tensor))"
   ]
  },
  {
   "cell_type": "markdown",
   "id": "1fe746b3-e1a5-4d5b-9cf9-4ab15815a122",
   "metadata": {},
   "source": [
    "### CNN with Melspectrogram(Grayscale)"
   ]
  },
  {
   "cell_type": "code",
   "execution_count": 14,
   "id": "ce59749c-71d5-4504-aec4-693e007f40a4",
   "metadata": {},
   "outputs": [
    {
     "name": "stdout",
     "output_type": "stream",
     "text": [
      "(2847, 200, 300)\n",
      "(100, 200, 300)\n"
     ]
    }
   ],
   "source": [
    "def grayscale(row):\n",
    "    return(row.dot([[0.299],[0.587],[0.114]]).reshape(200,300).astype('uint8'))\n",
    "\n",
    "x_train_cnn_gray = []\n",
    "for row in train['mel_rgb']:\n",
    "    x_train_cnn_gray.append(grayscale(row))\n",
    "\n",
    "x_train_cnn_gray = np.asarray(x_train_cnn_gray)\n",
    "x_train_cnn_gray = np.stack(x_train_cnn_gray, axis=0)\n",
    "\n",
    "x_valid_cnn_gray = []\n",
    "for row in valid['mel_rgb']:\n",
    "    x_valid_cnn_gray.append(grayscale(row))\n",
    "\n",
    "x_valid_cnn_gray = np.asarray(x_valid_cnn_gray)\n",
    "x_valid_cnn_gray = np.stack(x_valid_cnn_gray, axis=0)\n",
    "\n",
    "print(x_train_cnn_gray.shape)\n",
    "print(x_valid_cnn_gray.shape)"
   ]
  },
  {
   "cell_type": "code",
   "execution_count": 15,
   "id": "4d180d7d-6ddc-4c1a-a255-deae25f9ada2",
   "metadata": {},
   "outputs": [
    {
     "name": "stdout",
     "output_type": "stream",
     "text": [
      "Model: \"sequential_1\"\n",
      "_________________________________________________________________\n",
      " Layer (type)                Output Shape              Param #   \n",
      "=================================================================\n",
      " conv2d_2 (Conv2D)           (None, 196, 296, 64)      1664      \n",
      "                                                                 \n",
      " conv2d_3 (Conv2D)           (None, 194, 294, 32)      18464     \n",
      "                                                                 \n",
      " batch_normalization_1 (Batc  (None, 194, 294, 32)     128       \n",
      " hNormalization)                                                 \n",
      "                                                                 \n",
      " max_pooling2d_1 (MaxPooling  (None, 97, 147, 32)      0         \n",
      " 2D)                                                             \n",
      "                                                                 \n",
      " dropout_1 (Dropout)         (None, 97, 147, 32)       0         \n",
      "                                                                 \n",
      " flatten_1 (Flatten)         (None, 456288)            0         \n",
      "                                                                 \n",
      " dense_1 (Dense)             (None, 7)                 3194023   \n",
      "                                                                 \n",
      "=================================================================\n",
      "Total params: 3,214,279\n",
      "Trainable params: 3,214,215\n",
      "Non-trainable params: 64\n",
      "_________________________________________________________________\n"
     ]
    }
   ],
   "source": [
    "cnn2 = keras.Sequential()\n",
    "\n",
    "cnn2.add(keras.layers.Input(shape=(200,300,1)))\n",
    "cnn2.add(keras.layers.Conv2D(64, kernel_size=(5, 5), activation='relu'))\n",
    "cnn2.add(keras.layers.Conv2D(32, kernel_size=(3, 3), activation='relu'))\n",
    "cnn2.add(keras.layers.BatchNormalization())\n",
    "cnn2.add(keras.layers.MaxPooling2D(pool_size=(2, 2)))\n",
    "cnn2.add(keras.layers.Dropout(0.10))\n",
    "\n",
    "cnn2.add(keras.layers.Flatten())\n",
    "cnn2.add(keras.layers.Dense(7, activation='softmax'))\n",
    "\n",
    "cnn2.compile(loss='categorical_crossentropy', optimizer='adam', metrics=['accuracy'])\n",
    "cnn2.summary()"
   ]
  },
  {
   "cell_type": "code",
   "execution_count": 16,
   "id": "ce961b18-01a8-4b3b-af9f-6755a6b67dbc",
   "metadata": {},
   "outputs": [
    {
     "name": "stdout",
     "output_type": "stream",
     "text": [
      "Epoch 1/20\n",
      "178/178 [==============================] - 7s 34ms/step - loss: 40.3323 - accuracy: 0.1531 - val_loss: 48.5350 - val_accuracy: 0.1900\n",
      "Epoch 2/20\n",
      "178/178 [==============================] - 6s 33ms/step - loss: 17.0791 - accuracy: 0.3418 - val_loss: 55.5204 - val_accuracy: 0.1900\n",
      "Epoch 3/20\n",
      "178/178 [==============================] - 6s 33ms/step - loss: 6.9980 - accuracy: 0.7067 - val_loss: 30.2938 - val_accuracy: 0.1600\n",
      "Epoch 4/20\n",
      "178/178 [==============================] - 6s 33ms/step - loss: 3.1313 - accuracy: 0.8451 - val_loss: 39.6799 - val_accuracy: 0.1900\n",
      "Epoch 5/20\n",
      "178/178 [==============================] - 6s 33ms/step - loss: 1.7321 - accuracy: 0.9161 - val_loss: 48.9228 - val_accuracy: 0.1900\n",
      "Epoch 6/20\n",
      "178/178 [==============================] - 6s 33ms/step - loss: 0.6291 - accuracy: 0.9526 - val_loss: 35.3621 - val_accuracy: 0.2000\n",
      "Epoch 7/20\n",
      "178/178 [==============================] - 6s 33ms/step - loss: 0.8906 - accuracy: 0.9501 - val_loss: 38.5318 - val_accuracy: 0.2200\n",
      "Epoch 8/20\n",
      "178/178 [==============================] - 6s 33ms/step - loss: 0.5114 - accuracy: 0.9715 - val_loss: 46.8247 - val_accuracy: 0.1800\n",
      "Epoch 9/20\n",
      "178/178 [==============================] - 6s 33ms/step - loss: 0.4485 - accuracy: 0.9831 - val_loss: 38.0216 - val_accuracy: 0.2300\n",
      "Epoch 10/20\n",
      "178/178 [==============================] - 6s 33ms/step - loss: 0.6425 - accuracy: 0.9624 - val_loss: 45.8343 - val_accuracy: 0.2600\n",
      "Epoch 11/20\n",
      "178/178 [==============================] - 6s 33ms/step - loss: 1.4698 - accuracy: 0.9392 - val_loss: 113.1306 - val_accuracy: 0.1700\n",
      "Epoch 12/20\n",
      "178/178 [==============================] - 6s 32ms/step - loss: 0.9471 - accuracy: 0.9628 - val_loss: 38.8076 - val_accuracy: 0.2000\n",
      "Epoch 13/20\n",
      "178/178 [==============================] - 6s 32ms/step - loss: 0.6414 - accuracy: 0.9670 - val_loss: 51.5541 - val_accuracy: 0.2100\n",
      "Epoch 14/20\n",
      "178/178 [==============================] - 6s 32ms/step - loss: 0.5450 - accuracy: 0.9730 - val_loss: 52.3324 - val_accuracy: 0.1900\n",
      "Epoch 15/20\n",
      "178/178 [==============================] - 6s 32ms/step - loss: 0.6048 - accuracy: 0.9712 - val_loss: 49.3065 - val_accuracy: 0.2000\n",
      "Epoch 16/20\n",
      "178/178 [==============================] - 6s 33ms/step - loss: 0.4982 - accuracy: 0.9768 - val_loss: 51.7359 - val_accuracy: 0.1900\n",
      "Epoch 17/20\n",
      "178/178 [==============================] - 6s 32ms/step - loss: 0.2386 - accuracy: 0.9884 - val_loss: 48.0067 - val_accuracy: 0.2300\n",
      "Epoch 18/20\n",
      "178/178 [==============================] - 6s 32ms/step - loss: 0.1695 - accuracy: 0.9923 - val_loss: 50.3403 - val_accuracy: 0.2300\n",
      "Epoch 19/20\n",
      "178/178 [==============================] - 6s 33ms/step - loss: 0.1991 - accuracy: 0.9912 - val_loss: 48.1504 - val_accuracy: 0.2300\n",
      "Epoch 20/20\n",
      "178/178 [==============================] - 6s 32ms/step - loss: 0.1545 - accuracy: 0.9933 - val_loss: 51.7513 - val_accuracy: 0.2400\n"
     ]
    },
    {
     "data": {
      "text/plain": [
       "<keras.callbacks.History at 0x2d6614f1f10>"
      ]
     },
     "execution_count": 16,
     "metadata": {},
     "output_type": "execute_result"
    }
   ],
   "source": [
    "y_train_tensor = tf.convert_to_tensor(y_train)\n",
    "y_valid_tensor = tf.convert_to_tensor(y_valid)\n",
    "\n",
    "x_train_tensor = tf.convert_to_tensor(x_train_cnn_gray)\n",
    "x_valid_tensor = tf.convert_to_tensor(x_valid_cnn_gray)\n",
    "\n",
    "# training the model\n",
    "cnn2.fit(x_train_tensor, y_train_tensor, batch_size=16, epochs=20, validation_data=(x_valid_tensor, y_valid_tensor))"
   ]
  },
  {
   "cell_type": "markdown",
   "id": "4c1c4603-9562-473b-b7c7-0dae3c1a2b57",
   "metadata": {},
   "source": [
    "### CNN with Spectrogram(RGB)"
   ]
  },
  {
   "cell_type": "code",
   "execution_count": 17,
   "id": "7591d70e-32b1-4a90-9503-9204e39c8ed0",
   "metadata": {},
   "outputs": [
    {
     "name": "stdout",
     "output_type": "stream",
     "text": [
      "(2847, 200, 300, 3)\n",
      "(100, 200, 300, 3)\n"
     ]
    }
   ],
   "source": [
    "#data for CNN\n",
    "x_train_cnn_spec = np.asarray(train['spec_rgb'])\n",
    "x_train_cnn_spec = np.stack(x_train_cnn_spec, axis=0)\n",
    "x_valid_cnn_spec = np.asarray(valid['spec_rgb'])\n",
    "x_valid_cnn_spec = np.stack(x_valid_cnn_spec, axis = 0)\n",
    "print(x_train_cnn_spec.shape)\n",
    "print(x_valid_cnn_spec.shape)"
   ]
  },
  {
   "cell_type": "code",
   "execution_count": 18,
   "id": "7b238e92-48e5-437a-818d-8a6e689f9cc7",
   "metadata": {},
   "outputs": [
    {
     "name": "stdout",
     "output_type": "stream",
     "text": [
      "Epoch 1/20\n",
      "178/178 [==============================] - 7s 38ms/step - loss: 0.5605 - accuracy: 0.9845 - val_loss: 71.7575 - val_accuracy: 0.2400\n",
      "Epoch 2/20\n",
      "178/178 [==============================] - 7s 38ms/step - loss: 0.4807 - accuracy: 0.9849 - val_loss: 88.2492 - val_accuracy: 0.2300\n",
      "Epoch 3/20\n",
      "178/178 [==============================] - 7s 38ms/step - loss: 0.4332 - accuracy: 0.9874 - val_loss: 87.4169 - val_accuracy: 0.2700\n",
      "Epoch 4/20\n",
      "178/178 [==============================] - 7s 39ms/step - loss: 0.4234 - accuracy: 0.9852 - val_loss: 96.9576 - val_accuracy: 0.2300\n",
      "Epoch 5/20\n",
      "178/178 [==============================] - 7s 38ms/step - loss: 0.4636 - accuracy: 0.9912 - val_loss: 83.1879 - val_accuracy: 0.2500\n",
      "Epoch 6/20\n",
      "178/178 [==============================] - 7s 38ms/step - loss: 0.4948 - accuracy: 0.9860 - val_loss: 84.3944 - val_accuracy: 0.2100\n",
      "Epoch 7/20\n",
      "178/178 [==============================] - 7s 38ms/step - loss: 0.3964 - accuracy: 0.9863 - val_loss: 87.2286 - val_accuracy: 0.2200\n",
      "Epoch 8/20\n",
      "178/178 [==============================] - 7s 38ms/step - loss: 0.2966 - accuracy: 0.9895 - val_loss: 74.3689 - val_accuracy: 0.2300\n",
      "Epoch 9/20\n",
      "178/178 [==============================] - 7s 38ms/step - loss: 0.2549 - accuracy: 0.9940 - val_loss: 111.9442 - val_accuracy: 0.2300\n",
      "Epoch 10/20\n",
      "178/178 [==============================] - 7s 38ms/step - loss: 0.5929 - accuracy: 0.9842 - val_loss: 106.9702 - val_accuracy: 0.2800\n",
      "Epoch 11/20\n",
      "178/178 [==============================] - 7s 38ms/step - loss: 0.6215 - accuracy: 0.9888 - val_loss: 76.9049 - val_accuracy: 0.2200\n",
      "Epoch 12/20\n",
      "178/178 [==============================] - 7s 38ms/step - loss: 0.4349 - accuracy: 0.9881 - val_loss: 100.1435 - val_accuracy: 0.2500\n",
      "Epoch 13/20\n",
      "178/178 [==============================] - 7s 38ms/step - loss: 0.5870 - accuracy: 0.9803 - val_loss: 91.6277 - val_accuracy: 0.2400\n",
      "Epoch 14/20\n",
      "178/178 [==============================] - 7s 38ms/step - loss: 0.3546 - accuracy: 0.9828 - val_loss: 83.9275 - val_accuracy: 0.1900\n",
      "Epoch 15/20\n",
      "178/178 [==============================] - 7s 38ms/step - loss: 0.4216 - accuracy: 0.9870 - val_loss: 80.8609 - val_accuracy: 0.2300\n",
      "Epoch 16/20\n",
      "178/178 [==============================] - 7s 38ms/step - loss: 0.6821 - accuracy: 0.9758 - val_loss: 74.8085 - val_accuracy: 0.2000\n",
      "Epoch 17/20\n",
      "178/178 [==============================] - 7s 38ms/step - loss: 0.9057 - accuracy: 0.9775 - val_loss: 134.6939 - val_accuracy: 0.1700\n",
      "Epoch 18/20\n",
      "178/178 [==============================] - 7s 39ms/step - loss: 1.0856 - accuracy: 0.9691 - val_loss: 102.9488 - val_accuracy: 0.2400\n",
      "Epoch 19/20\n",
      "178/178 [==============================] - 7s 38ms/step - loss: 0.6590 - accuracy: 0.9856 - val_loss: 87.8320 - val_accuracy: 0.2200\n",
      "Epoch 20/20\n",
      "178/178 [==============================] - 7s 38ms/step - loss: 0.4245 - accuracy: 0.9898 - val_loss: 96.0165 - val_accuracy: 0.1900\n"
     ]
    },
    {
     "data": {
      "text/plain": [
       "<keras.callbacks.History at 0x2d66531b760>"
      ]
     },
     "execution_count": 18,
     "metadata": {},
     "output_type": "execute_result"
    }
   ],
   "source": [
    "y_train_tensor = tf.convert_to_tensor(y_train)\n",
    "y_valid_tensor = tf.convert_to_tensor(y_valid)\n",
    "\n",
    "x_train_tensor = tf.convert_to_tensor(x_train_cnn_spec)\n",
    "x_valid_tensor = tf.convert_to_tensor(x_valid_cnn_spec)\n",
    "\n",
    "# training the model\n",
    "cnn.fit(x_train_tensor, y_train_tensor, batch_size=16, epochs=20, validation_data=(x_valid_tensor, y_valid_tensor))"
   ]
  },
  {
   "cell_type": "markdown",
   "id": "d436f2a1-be1a-433e-b731-0c882d3c6a2d",
   "metadata": {},
   "source": [
    "### CNN with chormagram"
   ]
  },
  {
   "cell_type": "code",
   "execution_count": 19,
   "id": "9888f357-ded1-40bf-ae4c-685d35fa8cd9",
   "metadata": {},
   "outputs": [
    {
     "name": "stdout",
     "output_type": "stream",
     "text": [
      "(2847, 200, 300, 3)\n",
      "(100, 200, 300, 3)\n"
     ]
    }
   ],
   "source": [
    "#data for CNN\n",
    "x_train_cnn_chrom = np.asarray(train['chrom_rgb'])\n",
    "x_train_cnn_chrom = np.stack(x_train_cnn_chrom, axis=0)\n",
    "x_valid_cnn_chrom = np.asarray(valid['chrom_rgb'])\n",
    "x_valid_cnn_chrom = np.stack(x_valid_cnn_chrom, axis = 0)\n",
    "print(x_train_cnn_chrom.shape)\n",
    "print(x_valid_cnn_chrom.shape)"
   ]
  },
  {
   "cell_type": "code",
   "execution_count": 20,
   "id": "8baa65cc-3bae-4628-8eaa-f48dc1ca01fc",
   "metadata": {},
   "outputs": [
    {
     "name": "stdout",
     "output_type": "stream",
     "text": [
      "Epoch 1/20\n",
      "178/178 [==============================] - 7s 39ms/step - loss: 20.5533 - accuracy: 0.1623 - val_loss: 4.8362 - val_accuracy: 0.1600\n",
      "Epoch 2/20\n",
      "178/178 [==============================] - 7s 39ms/step - loss: 2.1509 - accuracy: 0.2761 - val_loss: 2.2957 - val_accuracy: 0.2300\n",
      "Epoch 3/20\n",
      "178/178 [==============================] - 7s 39ms/step - loss: 1.7818 - accuracy: 0.3214 - val_loss: 2.2514 - val_accuracy: 0.2100\n",
      "Epoch 4/20\n",
      "178/178 [==============================] - 7s 39ms/step - loss: 1.6233 - accuracy: 0.3857 - val_loss: 2.1575 - val_accuracy: 0.2500\n",
      "Epoch 5/20\n",
      "178/178 [==============================] - 7s 39ms/step - loss: 1.5043 - accuracy: 0.4292 - val_loss: 2.2057 - val_accuracy: 0.2600\n",
      "Epoch 6/20\n",
      "178/178 [==============================] - 7s 39ms/step - loss: 1.3990 - accuracy: 0.4858 - val_loss: 2.5881 - val_accuracy: 0.2500\n",
      "Epoch 7/20\n",
      "178/178 [==============================] - 7s 39ms/step - loss: 1.2458 - accuracy: 0.5469 - val_loss: 2.3099 - val_accuracy: 0.2400\n",
      "Epoch 8/20\n",
      "178/178 [==============================] - 7s 39ms/step - loss: 1.0581 - accuracy: 0.6154 - val_loss: 3.3942 - val_accuracy: 0.2000\n",
      "Epoch 9/20\n",
      "178/178 [==============================] - 7s 39ms/step - loss: 0.8711 - accuracy: 0.6927 - val_loss: 3.2966 - val_accuracy: 0.2300\n",
      "Epoch 10/20\n",
      "178/178 [==============================] - 7s 39ms/step - loss: 0.6689 - accuracy: 0.7654 - val_loss: 3.5848 - val_accuracy: 0.2800\n",
      "Epoch 11/20\n",
      "178/178 [==============================] - 7s 39ms/step - loss: 0.4873 - accuracy: 0.8321 - val_loss: 3.7047 - val_accuracy: 0.2700\n",
      "Epoch 12/20\n",
      "178/178 [==============================] - 7s 39ms/step - loss: 0.3546 - accuracy: 0.8809 - val_loss: 4.9020 - val_accuracy: 0.2500\n",
      "Epoch 13/20\n",
      "178/178 [==============================] - 7s 39ms/step - loss: 0.2797 - accuracy: 0.9048 - val_loss: 5.3063 - val_accuracy: 0.2200\n",
      "Epoch 14/20\n",
      "178/178 [==============================] - 7s 39ms/step - loss: 0.1746 - accuracy: 0.9466 - val_loss: 5.2562 - val_accuracy: 0.2600\n",
      "Epoch 15/20\n",
      "178/178 [==============================] - 7s 39ms/step - loss: 0.1427 - accuracy: 0.9579 - val_loss: 8.0220 - val_accuracy: 0.2200\n",
      "Epoch 16/20\n",
      "178/178 [==============================] - 7s 39ms/step - loss: 0.1458 - accuracy: 0.9547 - val_loss: 9.9394 - val_accuracy: 0.1900\n",
      "Epoch 17/20\n",
      "178/178 [==============================] - 7s 39ms/step - loss: 0.1342 - accuracy: 0.9571 - val_loss: 6.8446 - val_accuracy: 0.2900\n",
      "Epoch 18/20\n",
      "178/178 [==============================] - 7s 39ms/step - loss: 0.1395 - accuracy: 0.9547 - val_loss: 6.4049 - val_accuracy: 0.2500\n",
      "Epoch 19/20\n",
      "178/178 [==============================] - 7s 39ms/step - loss: 0.1990 - accuracy: 0.9350 - val_loss: 7.5442 - val_accuracy: 0.2100\n",
      "Epoch 20/20\n",
      "178/178 [==============================] - 7s 39ms/step - loss: 0.1774 - accuracy: 0.9442 - val_loss: 7.4548 - val_accuracy: 0.1900\n"
     ]
    },
    {
     "data": {
      "text/plain": [
       "<keras.callbacks.History at 0x2d664f3ba30>"
      ]
     },
     "execution_count": 20,
     "metadata": {},
     "output_type": "execute_result"
    }
   ],
   "source": [
    "y_train_tensor = tf.convert_to_tensor(y_train)\n",
    "y_valid_tensor = tf.convert_to_tensor(y_valid)\n",
    "\n",
    "x_train_tensor = tf.convert_to_tensor(x_train_cnn_chrom)\n",
    "x_valid_tensor = tf.convert_to_tensor(x_valid_cnn_chrom)\n",
    "\n",
    "# training the model\n",
    "cnn.fit(x_train_tensor, y_train_tensor, batch_size=16, epochs=20, validation_data=(x_valid_tensor, y_valid_tensor))"
   ]
  },
  {
   "cell_type": "markdown",
   "id": "023fc229-21bd-407f-828c-7e3a11234afb",
   "metadata": {},
   "source": [
    "### CNN with distance feature"
   ]
  },
  {
   "cell_type": "code",
   "execution_count": 21,
   "id": "e6a24b1f-9840-4744-b4bc-20fa6d5c21cc",
   "metadata": {},
   "outputs": [
    {
     "name": "stdout",
     "output_type": "stream",
     "text": [
      "(2847, 1)\n",
      "(100, 1)\n"
     ]
    }
   ],
   "source": [
    "x_train_dis = np.asarray(train['phone_position']).reshape(-1,1)\n",
    "x_valid_dis = np.asarray(valid['phone_position']).reshape(-1,1)\n",
    "print(x_train_dis.shape)\n",
    "print(x_valid_dis.shape)"
   ]
  },
  {
   "cell_type": "code",
   "execution_count": 22,
   "id": "a9014b59-1a63-47c9-bd31-093659aaaf77",
   "metadata": {},
   "outputs": [
    {
     "name": "stdout",
     "output_type": "stream",
     "text": [
      "Model: \"model\"\n",
      "__________________________________________________________________________________________________\n",
      " Layer (type)                   Output Shape         Param #     Connected to                     \n",
      "==================================================================================================\n",
      " input_3 (InputLayer)           [(None, 200, 300, 3  0           []                               \n",
      "                                )]                                                                \n",
      "                                                                                                  \n",
      " conv2d_4 (Conv2D)              (None, 196, 296, 64  4864        ['input_3[0][0]']                \n",
      "                                )                                                                 \n",
      "                                                                                                  \n",
      " conv2d_5 (Conv2D)              (None, 194, 294, 32  18464       ['conv2d_4[0][0]']               \n",
      "                                )                                                                 \n",
      "                                                                                                  \n",
      " batch_normalization_2 (BatchNo  (None, 194, 294, 32  128        ['conv2d_5[0][0]']               \n",
      " rmalization)                   )                                                                 \n",
      "                                                                                                  \n",
      " max_pooling2d_2 (MaxPooling2D)  (None, 97, 147, 32)  0          ['batch_normalization_2[0][0]']  \n",
      "                                                                                                  \n",
      " dropout_2 (Dropout)            (None, 97, 147, 32)  0           ['max_pooling2d_2[0][0]']        \n",
      "                                                                                                  \n",
      " input_4 (InputLayer)           [(None, 1)]          0           []                               \n",
      "                                                                                                  \n",
      " flatten_2 (Flatten)            (None, 456288)       0           ['dropout_2[0][0]']              \n",
      "                                                                                                  \n",
      " flatten_3 (Flatten)            (None, 1)            0           ['input_4[0][0]']                \n",
      "                                                                                                  \n",
      " concatenate (Concatenate)      (None, 456289)       0           ['flatten_2[0][0]',              \n",
      "                                                                  'flatten_3[0][0]']              \n",
      "                                                                                                  \n",
      " dense_2 (Dense)                (None, 32)           14601280    ['concatenate[0][0]']            \n",
      "                                                                                                  \n",
      " dense_3 (Dense)                (None, 16)           528         ['dense_2[0][0]']                \n",
      "                                                                                                  \n",
      " dense_4 (Dense)                (None, 7)            119         ['dense_3[0][0]']                \n",
      "                                                                                                  \n",
      "==================================================================================================\n",
      "Total params: 14,625,383\n",
      "Trainable params: 14,625,319\n",
      "Non-trainable params: 64\n",
      "__________________________________________________________________________________________________\n"
     ]
    }
   ],
   "source": [
    "#CNN Model\n",
    "CNNInput = keras.layers.Input(shape=(200,300,3))\n",
    "CNNModel = keras.layers.Conv2D(64, kernel_size=(5, 5), activation='relu')(CNNInput)\n",
    "CNNModel = keras.layers.Conv2D(32, kernel_size=(3, 3), activation='relu')(CNNModel)\n",
    "CNNModel = keras.layers.BatchNormalization()(CNNModel)\n",
    "CNNModel = keras.layers.MaxPooling2D(pool_size=(2, 2))(CNNModel)\n",
    "CNNModel = keras.layers.Dropout(0.10)(CNNModel)\n",
    "CNNModel = keras.layers.Flatten()(CNNModel)\n",
    "\n",
    "#Distance Model\n",
    "DisInput = keras.layers.Input(shape=(1,))\n",
    "DisModel = keras.layers.Flatten()(DisInput)\n",
    "\n",
    "# merged model\n",
    "Merge = keras.layers.concatenate([CNNModel, DisModel])\n",
    "\n",
    "# adding final dense layers\n",
    "Merge = keras.layers.Dense(32, activation=\"relu\")(Merge)\n",
    "Merge = keras.layers.Dense(16, activation=\"relu\")(Merge)\n",
    "Output = keras.layers.Dense(7, activation=\"softmax\")(Merge)\n",
    "\n",
    "# forming the merged Model\n",
    "CNNDistance = keras.Model(inputs=[CNNInput, DisInput], outputs=Output)\n",
    "CNNDistance.compile(loss=\"categorical_crossentropy\", optimizer=\"adam\", metrics=[\"accuracy\"])\n",
    "\n",
    "CNNDistance.summary()"
   ]
  },
  {
   "cell_type": "code",
   "execution_count": 24,
   "id": "7c083b00-aaf0-4df7-b8a3-35da0b65e3f2",
   "metadata": {},
   "outputs": [
    {
     "name": "stdout",
     "output_type": "stream",
     "text": [
      "Epoch 1/20\n",
      "178/178 [==============================] - 8s 41ms/step - loss: 3.7300 - accuracy: 0.1384 - val_loss: 1.9467 - val_accuracy: 0.1600\n",
      "Epoch 2/20\n",
      "178/178 [==============================] - 7s 40ms/step - loss: 1.9456 - accuracy: 0.1416 - val_loss: 1.9469 - val_accuracy: 0.1600\n",
      "Epoch 3/20\n",
      "178/178 [==============================] - 7s 41ms/step - loss: 1.9456 - accuracy: 0.1496 - val_loss: 1.9470 - val_accuracy: 0.1600\n",
      "Epoch 4/20\n",
      "178/178 [==============================] - 7s 41ms/step - loss: 1.9455 - accuracy: 0.1507 - val_loss: 1.9472 - val_accuracy: 0.1600\n",
      "Epoch 5/20\n",
      "178/178 [==============================] - 7s 41ms/step - loss: 1.9454 - accuracy: 0.1507 - val_loss: 1.9474 - val_accuracy: 0.1600\n",
      "Epoch 6/20\n",
      "178/178 [==============================] - 7s 41ms/step - loss: 1.9455 - accuracy: 0.1507 - val_loss: 1.9477 - val_accuracy: 0.1600\n",
      "Epoch 7/20\n",
      "178/178 [==============================] - 7s 41ms/step - loss: 1.9454 - accuracy: 0.1507 - val_loss: 1.9476 - val_accuracy: 0.1600\n",
      "Epoch 8/20\n",
      "178/178 [==============================] - 7s 41ms/step - loss: 1.9455 - accuracy: 0.1507 - val_loss: 1.9477 - val_accuracy: 0.1600\n",
      "Epoch 9/20\n",
      "178/178 [==============================] - 7s 41ms/step - loss: 1.9454 - accuracy: 0.1507 - val_loss: 1.9479 - val_accuracy: 0.1600\n",
      "Epoch 10/20\n",
      "178/178 [==============================] - 7s 41ms/step - loss: 1.9454 - accuracy: 0.1507 - val_loss: 1.9482 - val_accuracy: 0.1600\n",
      "Epoch 11/20\n",
      "178/178 [==============================] - 7s 41ms/step - loss: 1.9454 - accuracy: 0.1507 - val_loss: 1.9482 - val_accuracy: 0.1600\n",
      "Epoch 12/20\n",
      "178/178 [==============================] - 7s 41ms/step - loss: 1.9453 - accuracy: 0.1507 - val_loss: 1.9480 - val_accuracy: 0.1600\n",
      "Epoch 13/20\n",
      "178/178 [==============================] - 7s 41ms/step - loss: 1.9454 - accuracy: 0.1507 - val_loss: 1.9481 - val_accuracy: 0.1600\n",
      "Epoch 14/20\n",
      "178/178 [==============================] - 7s 41ms/step - loss: 1.9454 - accuracy: 0.1507 - val_loss: 1.9482 - val_accuracy: 0.1600\n",
      "Epoch 15/20\n",
      "178/178 [==============================] - 7s 41ms/step - loss: 1.9454 - accuracy: 0.1507 - val_loss: 1.9479 - val_accuracy: 0.1600\n",
      "Epoch 16/20\n",
      "178/178 [==============================] - 7s 41ms/step - loss: 1.9454 - accuracy: 0.1507 - val_loss: 1.9482 - val_accuracy: 0.1600\n",
      "Epoch 17/20\n",
      "178/178 [==============================] - 7s 41ms/step - loss: 1.9454 - accuracy: 0.1507 - val_loss: 1.9480 - val_accuracy: 0.1600\n",
      "Epoch 18/20\n",
      "178/178 [==============================] - 7s 41ms/step - loss: 1.9454 - accuracy: 0.1507 - val_loss: 1.9480 - val_accuracy: 0.1600\n",
      "Epoch 19/20\n",
      "178/178 [==============================] - 7s 41ms/step - loss: 1.9453 - accuracy: 0.1507 - val_loss: 1.9480 - val_accuracy: 0.1600\n",
      "Epoch 20/20\n",
      "178/178 [==============================] - 7s 41ms/step - loss: 1.9454 - accuracy: 0.1507 - val_loss: 1.9481 - val_accuracy: 0.1600\n"
     ]
    },
    {
     "data": {
      "text/plain": [
       "<keras.callbacks.History at 0x2d62f4b1880>"
      ]
     },
     "execution_count": 24,
     "metadata": {},
     "output_type": "execute_result"
    }
   ],
   "source": [
    "y_train_tensor = tf.convert_to_tensor(y_train)\n",
    "y_valid_tensor = tf.convert_to_tensor(y_valid)\n",
    "\n",
    "x_train_tensor1 = tf.convert_to_tensor(x_train_cnn_spec)\n",
    "x_valid_tensor1 = tf.convert_to_tensor(x_valid_cnn_spec)\n",
    "x_train_tensor2 = tf.convert_to_tensor(x_train_dis)\n",
    "x_valid_tensor2 = tf.convert_to_tensor(x_valid_dis)\n",
    "\n",
    "# training the model\n",
    "CNNDistance.fit([x_train_tensor1,x_train_tensor2], y_train_tensor, batch_size=16, epochs=20, validation_data=([x_valid_tensor1, x_valid_tensor2], y_valid_tensor))"
   ]
  },
  {
   "cell_type": "code",
   "execution_count": null,
   "id": "ac3cdbae-fad2-459a-86e4-b69e37215e52",
   "metadata": {},
   "outputs": [],
   "source": []
  }
 ],
 "metadata": {
  "kernelspec": {
   "display_name": "Python 3 (ipykernel)",
   "language": "python",
   "name": "python3"
  },
  "language_info": {
   "codemirror_mode": {
    "name": "ipython",
    "version": 3
   },
   "file_extension": ".py",
   "mimetype": "text/x-python",
   "name": "python",
   "nbconvert_exporter": "python",
   "pygments_lexer": "ipython3",
   "version": "3.9.19"
  }
 },
 "nbformat": 4,
 "nbformat_minor": 5
}
