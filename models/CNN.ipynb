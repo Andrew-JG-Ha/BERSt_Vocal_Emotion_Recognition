{
 "cells": [
  {
   "cell_type": "markdown",
   "id": "e2bb75ce-5d1d-47ab-b888-dabcf9d0ccfa",
   "metadata": {},
   "source": [
    "Convolutional Neural Network\n",
    "============================"
   ]
  },
  {
   "cell_type": "markdown",
   "id": "8a862caf",
   "metadata": {},
   "source": [
    "In this part of the project, Convolutional Neural Network model is going to be trained using Berst Dataset. The process of training would be the following:\n",
    "1. Preprocess data:  \n",
    "    Convert audio file into spectogram image  \n",
    "    Convert image as grey scale vector or some representation of vector  \n",
    "2. Train the model\n",
    "3. Test the model"
   ]
  },
  {
   "cell_type": "markdown",
   "id": "5bb9092b",
   "metadata": {},
   "source": [
    "Before preprocessing, lets import all necessary external libraries. The libraries used are listed below:\n",
    "1. [librosa](https://librosa.org/doc/main/core.html)\n",
    "2. [numpy](https://numpy.org/doc/stable/user/index.html)\n",
    "3. [pandas](https://pandas.pydata.org/docs/user_guide/index.html#user-guide)\n",
    "4. [os](https://docs.python.org/3/library/os.html)\n",
    "5. [matplotlib.pyplot](https://matplotlib.org/3.5.3/api/_as_gen/matplotlib.pyplot.html)\n",
    "6. [classification_report from sklearn.metrics](https://scikit-learn.org/stable/modules/generated/sklearn.metrics.classification_report.html#sklearn.metrics.classification_report)\n",
    "7. [confusion_matrix from sklearn.metrics](https://scikit-learn.org/stable/modules/generated/sklearn.metrics.confusion_matrix.html#sklearn.metrics.confusion_matrix)\n",
    "8. [keras](https://keras.io/api/)\n",
    "9. [tensorflow](https://www.tensorflow.org/install) : to use keras, we need tensorflow"
   ]
  },
  {
   "cell_type": "code",
   "execution_count": 1,
   "id": "72c54408",
   "metadata": {},
   "outputs": [],
   "source": [
    "#!pip install librosa\n",
    "import librosa\n",
    "import numpy as np\n",
    "import pandas as pd\n",
    "import os\n",
    "import matplotlib.pyplot as plt\n",
    "from sklearn.metrics import classification_report\n",
    "from sklearn.metrics import confusion_matrix, ConfusionMatrixDisplay\n",
    "\n",
    "#!pip install tensorflow[and-cuda]\n",
    "#!pip install --upgrade keras\n",
    "os.environ[\"KERAS_BACKEND\"] = \"tensorflow\"\n",
    "import keras\n",
    "import tensorflow as tf"
   ]
  },
  {
   "cell_type": "markdown",
   "id": "62abb8a8",
   "metadata": {},
   "source": [
    "### Data Preprocessing\n",
    "In this part, the data is going to be preprocessed to use on training model.   \n",
    "The process of data preprcoessing is following:\n",
    "1. Convert audio file into spectogram image\n",
    "2. Convert image as grey scale vector or some representation of vector"
   ]
  },
  {
   "cell_type": "code",
   "execution_count": 2,
   "id": "ac9a488e",
   "metadata": {},
   "outputs": [],
   "source": [
    "emotion_dict = {\"neutral\": 0, \"anger\": 1, \"joy\":2, \"fear\":3, \"disgust\":4, \"surprise\": 5, \"sadness\": 6}"
   ]
  },
  {
   "cell_type": "code",
   "execution_count": 3,
   "id": "2963de6e",
   "metadata": {
    "scrolled": true
   },
   "outputs": [
    {
     "data": {
      "text/html": [
       "<div>\n",
       "<style scoped>\n",
       "    .dataframe tbody tr th:only-of-type {\n",
       "        vertical-align: middle;\n",
       "    }\n",
       "\n",
       "    .dataframe tbody tr th {\n",
       "        vertical-align: top;\n",
       "    }\n",
       "\n",
       "    .dataframe thead th {\n",
       "        text-align: right;\n",
       "    }\n",
       "</style>\n",
       "<table border=\"1\" class=\"dataframe\">\n",
       "  <thead>\n",
       "    <tr style=\"text-align: right;\">\n",
       "      <th></th>\n",
       "      <th>Unnamed: 0</th>\n",
       "      <th>age</th>\n",
       "      <th>current_language</th>\n",
       "      <th>first_language</th>\n",
       "      <th>gender</th>\n",
       "      <th>script</th>\n",
       "      <th>affect</th>\n",
       "      <th>phone_position</th>\n",
       "      <th>file_name</th>\n",
       "      <th>chunk_name</th>\n",
       "      <th>phone_model</th>\n",
       "      <th>file_path</th>\n",
       "    </tr>\n",
       "  </thead>\n",
       "  <tbody>\n",
       "    <tr>\n",
       "      <th>0</th>\n",
       "      <td>0</td>\n",
       "      <td>25-39</td>\n",
       "      <td>English</td>\n",
       "      <td>English</td>\n",
       "      <td>Woman</td>\n",
       "      <td>another dog secretary show</td>\n",
       "      <td>sadness</td>\n",
       "      <td>Place phone on the opposite side of the room i...</td>\n",
       "      <td>/media/data/shout-data/shout_data_3afd7208-798...</td>\n",
       "      <td>/final/chunk42.wav</td>\n",
       "      <td>iPhone 12</td>\n",
       "      <td>/dataset/shout_data_3afd7208-7987-4c73-8e01-58...</td>\n",
       "    </tr>\n",
       "    <tr>\n",
       "      <th>1</th>\n",
       "      <td>1</td>\n",
       "      <td>40-60</td>\n",
       "      <td>English</td>\n",
       "      <td>Italian</td>\n",
       "      <td>Man</td>\n",
       "      <td>five special guest treasures</td>\n",
       "      <td>neutral</td>\n",
       "      <td>Hold your phone next to your face but with the...</td>\n",
       "      <td>/media/data/shout-data/shout_data_ae6feb35-cf7...</td>\n",
       "      <td>/final/chunk20.wav</td>\n",
       "      <td>iPhone 6</td>\n",
       "      <td>/dataset/shout_data_ae6feb35-cf7a-4805-8d05-03...</td>\n",
       "    </tr>\n",
       "    <tr>\n",
       "      <th>2</th>\n",
       "      <td>2</td>\n",
       "      <td>18-24</td>\n",
       "      <td>English</td>\n",
       "      <td>English</td>\n",
       "      <td>Woman</td>\n",
       "      <td>wolf ring lights are fantastic</td>\n",
       "      <td>neutral</td>\n",
       "      <td>Place phone on the opposite side of the room f...</td>\n",
       "      <td>/media/data/shout-data/shout_data_fdb758a5-9c8...</td>\n",
       "      <td>/final/chunk20.wav</td>\n",
       "      <td>Iphone</td>\n",
       "      <td>/dataset/shout_data_fdb758a5-9c86-40f7-8870-ca...</td>\n",
       "    </tr>\n",
       "    <tr>\n",
       "      <th>3</th>\n",
       "      <td>3</td>\n",
       "      <td>18-24</td>\n",
       "      <td>English</td>\n",
       "      <td>English</td>\n",
       "      <td>Woman</td>\n",
       "      <td>wolf ring lights are fantastic</td>\n",
       "      <td>neutral</td>\n",
       "      <td>Place phone on the opposite side of the room f...</td>\n",
       "      <td>/media/data/shout-data/shout_data_fdb758a5-9c8...</td>\n",
       "      <td>/final/chunk30.wav</td>\n",
       "      <td>Iphone</td>\n",
       "      <td>/dataset/shout_data_fdb758a5-9c86-40f7-8870-ca...</td>\n",
       "    </tr>\n",
       "    <tr>\n",
       "      <th>4</th>\n",
       "      <td>4</td>\n",
       "      <td>25-39</td>\n",
       "      <td>English</td>\n",
       "      <td>English</td>\n",
       "      <td>Woman</td>\n",
       "      <td>birds make new jingles</td>\n",
       "      <td>disgust</td>\n",
       "      <td>Place phone 1-2 meters away face up on any sur...</td>\n",
       "      <td>/media/data/shout-data/shout_data_739dbf1c-ec2...</td>\n",
       "      <td>/final/chunk11.wav</td>\n",
       "      <td>Samsung Galaxy s8+</td>\n",
       "      <td>/dataset/shout_data_739dbf1c-ec21-42db-9e49-3a...</td>\n",
       "    </tr>\n",
       "  </tbody>\n",
       "</table>\n",
       "</div>"
      ],
      "text/plain": [
       "   Unnamed: 0    age current_language first_language gender  \\\n",
       "0           0  25-39          English        English  Woman   \n",
       "1           1  40-60          English        Italian    Man   \n",
       "2           2  18-24          English        English  Woman   \n",
       "3           3  18-24          English        English  Woman   \n",
       "4           4  25-39          English        English  Woman   \n",
       "\n",
       "                           script   affect  \\\n",
       "0      another dog secretary show  sadness   \n",
       "1    five special guest treasures  neutral   \n",
       "2  wolf ring lights are fantastic  neutral   \n",
       "3  wolf ring lights are fantastic  neutral   \n",
       "4          birds make new jingles  disgust   \n",
       "\n",
       "                                      phone_position  \\\n",
       "0  Place phone on the opposite side of the room i...   \n",
       "1  Hold your phone next to your face but with the...   \n",
       "2  Place phone on the opposite side of the room f...   \n",
       "3  Place phone on the opposite side of the room f...   \n",
       "4  Place phone 1-2 meters away face up on any sur...   \n",
       "\n",
       "                                           file_name          chunk_name  \\\n",
       "0  /media/data/shout-data/shout_data_3afd7208-798...  /final/chunk42.wav   \n",
       "1  /media/data/shout-data/shout_data_ae6feb35-cf7...  /final/chunk20.wav   \n",
       "2  /media/data/shout-data/shout_data_fdb758a5-9c8...  /final/chunk20.wav   \n",
       "3  /media/data/shout-data/shout_data_fdb758a5-9c8...  /final/chunk30.wav   \n",
       "4  /media/data/shout-data/shout_data_739dbf1c-ec2...  /final/chunk11.wav   \n",
       "\n",
       "          phone_model                                          file_path  \n",
       "0           iPhone 12  /dataset/shout_data_3afd7208-7987-4c73-8e01-58...  \n",
       "1            iPhone 6  /dataset/shout_data_ae6feb35-cf7a-4805-8d05-03...  \n",
       "2              Iphone  /dataset/shout_data_fdb758a5-9c86-40f7-8870-ca...  \n",
       "3              Iphone  /dataset/shout_data_fdb758a5-9c86-40f7-8870-ca...  \n",
       "4  Samsung Galaxy s8+  /dataset/shout_data_739dbf1c-ec21-42db-9e49-3a...  "
      ]
     },
     "execution_count": 3,
     "metadata": {},
     "output_type": "execute_result"
    }
   ],
   "source": [
    "#Read file to get the data\n",
    "file_path = os.getcwd()\n",
    "file_path = os.path.abspath(os.path.join(file_path, os.pardir))\n",
    "df = pd.read_csv(file_path+\"/training_set.csv\")\n",
    "df.head()"
   ]
  },
  {
   "cell_type": "code",
   "execution_count": 4,
   "id": "a45009b6",
   "metadata": {},
   "outputs": [
    {
     "data": {
      "text/html": [
       "<div>\n",
       "<style scoped>\n",
       "    .dataframe tbody tr th:only-of-type {\n",
       "        vertical-align: middle;\n",
       "    }\n",
       "\n",
       "    .dataframe tbody tr th {\n",
       "        vertical-align: top;\n",
       "    }\n",
       "\n",
       "    .dataframe thead th {\n",
       "        text-align: right;\n",
       "    }\n",
       "</style>\n",
       "<table border=\"1\" class=\"dataframe\">\n",
       "  <thead>\n",
       "    <tr style=\"text-align: right;\">\n",
       "      <th></th>\n",
       "      <th>affect</th>\n",
       "      <th>rgb</th>\n",
       "      <th>position</th>\n",
       "    </tr>\n",
       "  </thead>\n",
       "  <tbody>\n",
       "    <tr>\n",
       "      <th>0</th>\n",
       "      <td>sadness</td>\n",
       "      <td>[[[255, 255, 255], [255, 255, 255], [255, 255,...</td>\n",
       "      <td>Place phone on the opposite side of the room i...</td>\n",
       "    </tr>\n",
       "    <tr>\n",
       "      <th>1</th>\n",
       "      <td>neutral</td>\n",
       "      <td>[[[255, 255, 255], [255, 255, 255], [255, 255,...</td>\n",
       "      <td>Hold your phone next to your face but with the...</td>\n",
       "    </tr>\n",
       "    <tr>\n",
       "      <th>2</th>\n",
       "      <td>neutral</td>\n",
       "      <td>[[[255, 255, 255], [255, 255, 255], [255, 255,...</td>\n",
       "      <td>Place phone on the opposite side of the room f...</td>\n",
       "    </tr>\n",
       "    <tr>\n",
       "      <th>3</th>\n",
       "      <td>neutral</td>\n",
       "      <td>[[[255, 255, 255], [255, 255, 255], [255, 255,...</td>\n",
       "      <td>Place phone on the opposite side of the room f...</td>\n",
       "    </tr>\n",
       "    <tr>\n",
       "      <th>4</th>\n",
       "      <td>disgust</td>\n",
       "      <td>[[[255, 255, 255], [255, 255, 255], [255, 255,...</td>\n",
       "      <td>Place phone 1-2 meters away face up on any sur...</td>\n",
       "    </tr>\n",
       "  </tbody>\n",
       "</table>\n",
       "</div>"
      ],
      "text/plain": [
       "    affect                                                rgb  \\\n",
       "0  sadness  [[[255, 255, 255], [255, 255, 255], [255, 255,...   \n",
       "1  neutral  [[[255, 255, 255], [255, 255, 255], [255, 255,...   \n",
       "2  neutral  [[[255, 255, 255], [255, 255, 255], [255, 255,...   \n",
       "3  neutral  [[[255, 255, 255], [255, 255, 255], [255, 255,...   \n",
       "4  disgust  [[[255, 255, 255], [255, 255, 255], [255, 255,...   \n",
       "\n",
       "                                            position  \n",
       "0  Place phone on the opposite side of the room i...  \n",
       "1  Hold your phone next to your face but with the...  \n",
       "2  Place phone on the opposite side of the room f...  \n",
       "3  Place phone on the opposite side of the room f...  \n",
       "4  Place phone 1-2 meters away face up on any sur...  "
      ]
     },
     "execution_count": 4,
     "metadata": {},
     "output_type": "execute_result"
    }
   ],
   "source": [
    "data = pd.DataFrame(columns=[\"affect\", \"rgb\", \"position\"])\n",
    "for index, row in df.iterrows():\n",
    "    affect = row['affect']\n",
    "    position = row['phone_position']\n",
    "    path = file_path + row['file_path']\n",
    "    y, sr = librosa.load(path)\n",
    "    S = librosa.feature.melspectrogram(y=y, sr=sr)\n",
    "    S_dB = librosa.power_to_db(S, ref=np.max)\n",
    "    fig, ax = plt.subplots()\n",
    "    fig.set_size_inches(3,2)\n",
    "    image = librosa.display.specshow(S_dB, sr=sr,ax=ax)\n",
    "    fig.canvas.draw()\n",
    "    \n",
    "    # Convert the canvas to a raw RGB buffer\n",
    "    buf = fig.canvas.tostring_rgb()\n",
    "    ncols, nrows = fig.canvas.get_width_height()\n",
    "    image = np.frombuffer(buf, dtype=np.uint8).reshape(nrows, ncols, 3)\n",
    "    \n",
    "    data.loc[len(data.index)] = [affect, image, position]\n",
    "    \n",
    "    plt.close()\n",
    "\n",
    "data.head()"
   ]
  },
  {
   "cell_type": "code",
   "execution_count": 56,
   "id": "00654e3a-e7fc-491e-afce-1e8ad68b38b4",
   "metadata": {},
   "outputs": [
    {
     "data": {
      "image/png": "[encoded data removed]",
      "text/plain": [
       "<Figure size 300x200 with 1 Axes>"
      ]
     },
     "metadata": {},
     "output_type": "display_data"
    }
   ],
   "source": [
    "path = file_path + row['file_path']\n",
    "y, sr = librosa.load(path)\n",
    "S = librosa.feature.melspectrogram(y=y, sr=sr)\n",
    "S_dB = librosa.power_to_db(S, ref=np.max)\n",
    "fig, ax = plt.subplots()\n",
    "fig.set_size_inches(3,2)\n",
    "image = librosa.display.specshow(S_dB, sr=sr,ax=ax)\n",
    "fig.canvas.draw()"
   ]
  },
  {
   "cell_type": "code",
   "execution_count": 36,
   "id": "b4a86976",
   "metadata": {},
   "outputs": [
    {
     "ename": "KeyboardInterrupt",
     "evalue": "",
     "output_type": "error",
     "traceback": [
      "\u001b[1;31m---------------------------------------------------------------------------\u001b[0m",
      "\u001b[1;31mKeyboardInterrupt\u001b[0m                         Traceback (most recent call last)",
      "Cell \u001b[1;32mIn[36], line 10\u001b[0m\n\u001b[0;32m      8\u001b[0m file \u001b[38;5;241m=\u001b[39m file \u001b[38;5;241m+\u001b[39m row[\u001b[38;5;124m\"\u001b[39m\u001b[38;5;124mchunk_name\u001b[39m\u001b[38;5;124m\"\u001b[39m]\n\u001b[0;32m      9\u001b[0m path \u001b[38;5;241m=\u001b[39m file_path \u001b[38;5;241m+\u001b[39m file\n\u001b[1;32m---> 10\u001b[0m y, sr \u001b[38;5;241m=\u001b[39m \u001b[43mlibrosa\u001b[49m\u001b[38;5;241;43m.\u001b[39;49m\u001b[43mload\u001b[49m\u001b[43m(\u001b[49m\u001b[43mpath\u001b[49m\u001b[43m)\u001b[49m\n\u001b[0;32m     11\u001b[0m S \u001b[38;5;241m=\u001b[39m librosa\u001b[38;5;241m.\u001b[39mfeature\u001b[38;5;241m.\u001b[39mmelspectrogram(y\u001b[38;5;241m=\u001b[39my, sr\u001b[38;5;241m=\u001b[39msr)\n\u001b[0;32m     12\u001b[0m S_dB \u001b[38;5;241m=\u001b[39m librosa\u001b[38;5;241m.\u001b[39mpower_to_db(S, ref\u001b[38;5;241m=\u001b[39mnp\u001b[38;5;241m.\u001b[39mmax)\n",
      "File \u001b[1;32m~\\miniconda3\\envs\\tf\\lib\\site-packages\\librosa\\core\\audio.py:192\u001b[0m, in \u001b[0;36mload\u001b[1;34m(path, sr, mono, offset, duration, dtype, res_type)\u001b[0m\n\u001b[0;32m    189\u001b[0m     y \u001b[38;5;241m=\u001b[39m to_mono(y)\n\u001b[0;32m    191\u001b[0m \u001b[38;5;28;01mif\u001b[39;00m sr \u001b[38;5;129;01mis\u001b[39;00m \u001b[38;5;129;01mnot\u001b[39;00m \u001b[38;5;28;01mNone\u001b[39;00m:\n\u001b[1;32m--> 192\u001b[0m     y \u001b[38;5;241m=\u001b[39m \u001b[43mresample\u001b[49m\u001b[43m(\u001b[49m\u001b[43my\u001b[49m\u001b[43m,\u001b[49m\u001b[43m \u001b[49m\u001b[43morig_sr\u001b[49m\u001b[38;5;241;43m=\u001b[39;49m\u001b[43msr_native\u001b[49m\u001b[43m,\u001b[49m\u001b[43m \u001b[49m\u001b[43mtarget_sr\u001b[49m\u001b[38;5;241;43m=\u001b[39;49m\u001b[43msr\u001b[49m\u001b[43m,\u001b[49m\u001b[43m \u001b[49m\u001b[43mres_type\u001b[49m\u001b[38;5;241;43m=\u001b[39;49m\u001b[43mres_type\u001b[49m\u001b[43m)\u001b[49m\n\u001b[0;32m    194\u001b[0m \u001b[38;5;28;01melse\u001b[39;00m:\n\u001b[0;32m    195\u001b[0m     sr \u001b[38;5;241m=\u001b[39m sr_native\n",
      "File \u001b[1;32m~\\miniconda3\\envs\\tf\\lib\\site-packages\\librosa\\core\\audio.py:668\u001b[0m, in \u001b[0;36mresample\u001b[1;34m(y, orig_sr, target_sr, res_type, fix, scale, axis, **kwargs)\u001b[0m\n\u001b[0;32m    662\u001b[0m     y_hat \u001b[38;5;241m=\u001b[39m np\u001b[38;5;241m.\u001b[39mapply_along_axis(\n\u001b[0;32m    663\u001b[0m         samplerate\u001b[38;5;241m.\u001b[39mresample, axis\u001b[38;5;241m=\u001b[39maxis, arr\u001b[38;5;241m=\u001b[39my, ratio\u001b[38;5;241m=\u001b[39mratio, converter_type\u001b[38;5;241m=\u001b[39mres_type\n\u001b[0;32m    664\u001b[0m     )\n\u001b[0;32m    665\u001b[0m \u001b[38;5;28;01melif\u001b[39;00m res_type\u001b[38;5;241m.\u001b[39mstartswith(\u001b[38;5;124m\"\u001b[39m\u001b[38;5;124msoxr\u001b[39m\u001b[38;5;124m\"\u001b[39m):\n\u001b[0;32m    666\u001b[0m     \u001b[38;5;66;03m# Use numpy to vectorize the resampler along the target axis\u001b[39;00m\n\u001b[0;32m    667\u001b[0m     \u001b[38;5;66;03m# This is because soxr does not support ndim>2 generally.\u001b[39;00m\n\u001b[1;32m--> 668\u001b[0m     y_hat \u001b[38;5;241m=\u001b[39m \u001b[43mnp\u001b[49m\u001b[38;5;241;43m.\u001b[39;49m\u001b[43mapply_along_axis\u001b[49m\u001b[43m(\u001b[49m\n\u001b[0;32m    669\u001b[0m \u001b[43m        \u001b[49m\u001b[43msoxr\u001b[49m\u001b[38;5;241;43m.\u001b[39;49m\u001b[43mresample\u001b[49m\u001b[43m,\u001b[49m\n\u001b[0;32m    670\u001b[0m \u001b[43m        \u001b[49m\u001b[43maxis\u001b[49m\u001b[38;5;241;43m=\u001b[39;49m\u001b[43maxis\u001b[49m\u001b[43m,\u001b[49m\n\u001b[0;32m    671\u001b[0m \u001b[43m        \u001b[49m\u001b[43marr\u001b[49m\u001b[38;5;241;43m=\u001b[39;49m\u001b[43my\u001b[49m\u001b[43m,\u001b[49m\n\u001b[0;32m    672\u001b[0m \u001b[43m        \u001b[49m\u001b[43min_rate\u001b[49m\u001b[38;5;241;43m=\u001b[39;49m\u001b[43morig_sr\u001b[49m\u001b[43m,\u001b[49m\n\u001b[0;32m    673\u001b[0m \u001b[43m        \u001b[49m\u001b[43mout_rate\u001b[49m\u001b[38;5;241;43m=\u001b[39;49m\u001b[43mtarget_sr\u001b[49m\u001b[43m,\u001b[49m\n\u001b[0;32m    674\u001b[0m \u001b[43m        \u001b[49m\u001b[43mquality\u001b[49m\u001b[38;5;241;43m=\u001b[39;49m\u001b[43mres_type\u001b[49m\u001b[43m,\u001b[49m\n\u001b[0;32m    675\u001b[0m \u001b[43m    \u001b[49m\u001b[43m)\u001b[49m\n\u001b[0;32m    676\u001b[0m \u001b[38;5;28;01melse\u001b[39;00m:\n\u001b[0;32m    677\u001b[0m     y_hat \u001b[38;5;241m=\u001b[39m resampy\u001b[38;5;241m.\u001b[39mresample(y, orig_sr, target_sr, \u001b[38;5;28mfilter\u001b[39m\u001b[38;5;241m=\u001b[39mres_type, axis\u001b[38;5;241m=\u001b[39maxis)\n",
      "File \u001b[1;32m~\\miniconda3\\envs\\tf\\lib\\site-packages\\numpy\\lib\\shape_base.py:379\u001b[0m, in \u001b[0;36mapply_along_axis\u001b[1;34m(func1d, axis, arr, *args, **kwargs)\u001b[0m\n\u001b[0;32m    375\u001b[0m \u001b[38;5;28;01mexcept\u001b[39;00m \u001b[38;5;167;01mStopIteration\u001b[39;00m:\n\u001b[0;32m    376\u001b[0m     \u001b[38;5;28;01mraise\u001b[39;00m \u001b[38;5;167;01mValueError\u001b[39;00m(\n\u001b[0;32m    377\u001b[0m         \u001b[38;5;124m'\u001b[39m\u001b[38;5;124mCannot apply_along_axis when any iteration dimensions are 0\u001b[39m\u001b[38;5;124m'\u001b[39m\n\u001b[0;32m    378\u001b[0m     ) \u001b[38;5;28;01mfrom\u001b[39;00m \u001b[38;5;28;01mNone\u001b[39;00m\n\u001b[1;32m--> 379\u001b[0m res \u001b[38;5;241m=\u001b[39m asanyarray(func1d(inarr_view[ind0], \u001b[38;5;241m*\u001b[39margs, \u001b[38;5;241m*\u001b[39m\u001b[38;5;241m*\u001b[39mkwargs))\n\u001b[0;32m    381\u001b[0m \u001b[38;5;66;03m# build a buffer for storing evaluations of func1d.\u001b[39;00m\n\u001b[0;32m    382\u001b[0m \u001b[38;5;66;03m# remove the requested axis, and add the new ones on the end.\u001b[39;00m\n\u001b[0;32m    383\u001b[0m \u001b[38;5;66;03m# laid out so that each write is contiguous.\u001b[39;00m\n\u001b[0;32m    384\u001b[0m \u001b[38;5;66;03m# for a tuple index inds, buff[inds] = func1d(inarr_view[inds])\u001b[39;00m\n\u001b[0;32m    385\u001b[0m buff \u001b[38;5;241m=\u001b[39m zeros(inarr_view\u001b[38;5;241m.\u001b[39mshape[:\u001b[38;5;241m-\u001b[39m\u001b[38;5;241m1\u001b[39m] \u001b[38;5;241m+\u001b[39m res\u001b[38;5;241m.\u001b[39mshape, res\u001b[38;5;241m.\u001b[39mdtype)\n",
      "File \u001b[1;32m~\\miniconda3\\envs\\tf\\lib\\site-packages\\soxr\\__init__.py:159\u001b[0m, in \u001b[0;36mresample\u001b[1;34m(x, in_rate, out_rate, quality)\u001b[0m\n\u001b[0;32m    156\u001b[0m x \u001b[38;5;241m=\u001b[39m np\u001b[38;5;241m.\u001b[39mascontiguousarray(x)    \u001b[38;5;66;03m# make array C-contiguous\u001b[39;00m\n\u001b[0;32m    158\u001b[0m \u001b[38;5;28;01mif\u001b[39;00m x\u001b[38;5;241m.\u001b[39mndim \u001b[38;5;241m==\u001b[39m \u001b[38;5;241m1\u001b[39m:\n\u001b[1;32m--> 159\u001b[0m     y \u001b[38;5;241m=\u001b[39m \u001b[43mcysoxr\u001b[49m\u001b[38;5;241;43m.\u001b[39;49m\u001b[43mcysoxr_divide_proc\u001b[49m\u001b[43m(\u001b[49m\u001b[43min_rate\u001b[49m\u001b[43m,\u001b[49m\u001b[43m \u001b[49m\u001b[43mout_rate\u001b[49m\u001b[43m,\u001b[49m\u001b[43m \u001b[49m\u001b[43mx\u001b[49m\u001b[43m[\u001b[49m\u001b[43m:\u001b[49m\u001b[43m,\u001b[49m\u001b[43m \u001b[49m\u001b[43mnp\u001b[49m\u001b[38;5;241;43m.\u001b[39;49m\u001b[43mnewaxis\u001b[49m\u001b[43m]\u001b[49m\u001b[43m,\u001b[49m\u001b[43m \u001b[49m\u001b[43mq\u001b[49m\u001b[43m)\u001b[49m\n\u001b[0;32m    160\u001b[0m     \u001b[38;5;28;01mreturn\u001b[39;00m np\u001b[38;5;241m.\u001b[39msqueeze(y, axis\u001b[38;5;241m=\u001b[39m\u001b[38;5;241m1\u001b[39m)\n\u001b[0;32m    161\u001b[0m \u001b[38;5;28;01melif\u001b[39;00m x\u001b[38;5;241m.\u001b[39mndim \u001b[38;5;241m==\u001b[39m \u001b[38;5;241m2\u001b[39m:\n",
      "\u001b[1;31mKeyboardInterrupt\u001b[0m: "
     ]
    }
   ],
   "source": [
    "valid = pd.DataFrame(columns=[\"affect\", \"rgb\", \"position\"])\n",
    "valid_csv = pd.read_csv(file_path+\"/valid_data.csv\")\n",
    "for index, row in valid_csv.iterrows():\n",
    "    affect = row['affect']\n",
    "    position = row['phone_position']\n",
    "    file = row[\"file_name\"].replace(\"/media/data/shout-data/\", \"/dataset/\")\n",
    "    file = file.replace(\".wav\", \"\")\n",
    "    file = file + row[\"chunk_name\"]\n",
    "    path = file_path + file\n",
    "    y, sr = librosa.load(path)\n",
    "    S = librosa.feature.melspectrogram(y=y, sr=sr)\n",
    "    S_dB = librosa.power_to_db(S, ref=np.max)\n",
    "    fig, ax = plt.subplots()\n",
    "    image = librosa.display.specshow(S_dB, sr=sr,ax=ax)\n",
    "    fig.canvas.draw()\n",
    "    \n",
    "    # Convert the canvas to a raw RGB buffer\n",
    "    buf = fig.canvas.tostring_rgb()\n",
    "    ncols, nrows = fig.canvas.get_width_height()\n",
    "    image = np.frombuffer(buf, dtype=np.uint8).reshape(nrows, ncols, 3)\n",
    "    \n",
    "    valid.loc[len(valid.index)] = [affect, image, position]\n",
    "    \n",
    "    plt.close()\n",
    "\n",
    "valid.head()"
   ]
  },
  {
   "cell_type": "code",
   "execution_count": 5,
   "id": "2bdabd9a",
   "metadata": {},
   "outputs": [
    {
     "data": {
      "text/plain": [
       "<bound method NDFrame.head of        affect                                                rgb  position\n",
       "0     sadness  [[[255, 255, 255], [255, 255, 255], [255, 255,...      14.0\n",
       "1     neutral  [[[255, 255, 255], [255, 255, 255], [255, 255,...       1.0\n",
       "2     neutral  [[[255, 255, 255], [255, 255, 255], [255, 255,...      12.0\n",
       "3     neutral  [[[255, 255, 255], [255, 255, 255], [255, 255,...      12.0\n",
       "4     disgust  [[[255, 255, 255], [255, 255, 255], [255, 255,...       7.0\n",
       "...       ...                                                ...       ...\n",
       "2948  sadness  [[[255, 255, 255], [255, 255, 255], [255, 255,...      16.0\n",
       "2949  sadness  [[[255, 255, 255], [255, 255, 255], [255, 255,...      16.0\n",
       "2950  sadness  [[[255, 255, 255], [255, 255, 255], [255, 255,...      16.0\n",
       "2951     fear  [[[255, 255, 255], [255, 255, 255], [255, 255,...       8.0\n",
       "2952     fear  [[[255, 255, 255], [255, 255, 255], [255, 255,...       8.0\n",
       "\n",
       "[2953 rows x 3 columns]>"
      ]
     },
     "execution_count": 5,
     "metadata": {},
     "output_type": "execute_result"
    }
   ],
   "source": [
    "position_dict = {\"Hold your phone next to your face with the mic facing your mouth as you would in a phone conversation 1/19\": 0,\n",
    "                \"Hold your phone next to your face but with the mic/phone facing away from your face 2/19\": 1,\n",
    "                \"Hold your phone next to your face with your hand covering the mic 3/19\": 2,\n",
    "                \"Hold your phone next to your hip with the back of phone on your palm 4/19\": 3,\n",
    "                \"Hold your phone next to your hip with your hand covering the mic 5/19\": 4,\n",
    "                \"Place your phone in your pocket 6/19\": 5,\n",
    "                \"Place your phone in a bag and hold it next to your hip 7/19\": 6,\n",
    "                \"Place phone 1-2 meters away face up on any surface 8/19\": 7,\n",
    "                \"Place phone 1-2 meters away face down on a hard surface 9/19\": 8,\n",
    "                \"Place phone 1-2 meters away face down on a soft surface 10/19\": 9,\n",
    "                \"Place phone 1-2 meters away in a bag 11/19\": 10,\n",
    "                \"Place phone on the opposite side of the room face up on any surface 12/19\": 11,\n",
    "                \"Place phone on the opposite side of the room face down on a hard surface 13/19\": 12,\n",
    "                \"Place phone on the opposite side of the room face down on a soft surface 14/19\": 13,\n",
    "                \"Place phone on the opposite side of the room in a bag 15/19\": 14,\n",
    "                \"Place phone as far away as possible while on on the opposite side of a wall from you face up on any surface 16/19\": 15,\n",
    "                \"Place phone as far away as possible while on on the opposite side of a wall from you face down on a hard surface 17/19\": 16,\n",
    "                \"Place phone as far away as possible while on on the opposite side of a wall from you face down on a soft surface 18/19\": 17,\n",
    "                \"Place phone as far away as possible while on on the opposite side of a wall from you in a bag 19/19\": 18}\n",
    "data['position'] = data['position'].map(position_dict)\n",
    "data.head"
   ]
  },
  {
   "cell_type": "code",
   "execution_count": 6,
   "id": "54b6f34f",
   "metadata": {},
   "outputs": [],
   "source": [
    "data = data.drop(data[data.position.isna()].index)\n",
    "data['position'] = data['position'].astype('uint8')"
   ]
  },
  {
   "cell_type": "code",
   "execution_count": 8,
   "id": "47d00755",
   "metadata": {},
   "outputs": [
    {
     "data": {
      "text/plain": [
       "<bound method NDFrame.head of        affect                                                rgb  position  \\\n",
       "0     sadness  [[[255, 255, 255], [255, 255, 255], [255, 255,...        14   \n",
       "1     neutral  [[[255, 255, 255], [255, 255, 255], [255, 255,...         1   \n",
       "2     neutral  [[[255, 255, 255], [255, 255, 255], [255, 255,...        12   \n",
       "3     neutral  [[[255, 255, 255], [255, 255, 255], [255, 255,...        12   \n",
       "4     disgust  [[[255, 255, 255], [255, 255, 255], [255, 255,...         7   \n",
       "...       ...                                                ...       ...   \n",
       "2948  sadness  [[[255, 255, 255], [255, 255, 255], [255, 255,...        16   \n",
       "2949  sadness  [[[255, 255, 255], [255, 255, 255], [255, 255,...        16   \n",
       "2950  sadness  [[[255, 255, 255], [255, 255, 255], [255, 255,...        16   \n",
       "2951     fear  [[[255, 255, 255], [255, 255, 255], [255, 255,...         8   \n",
       "2952     fear  [[[255, 255, 255], [255, 255, 255], [255, 255,...         8   \n",
       "\n",
       "                                                   gray  \n",
       "0     [[255, 255, 255, 255, 255, 255, 255, 255, 255,...  \n",
       "1     [[255, 255, 255, 255, 255, 255, 255, 255, 255,...  \n",
       "2     [[255, 255, 255, 255, 255, 255, 255, 255, 255,...  \n",
       "3     [[255, 255, 255, 255, 255, 255, 255, 255, 255,...  \n",
       "4     [[255, 255, 255, 255, 255, 255, 255, 255, 255,...  \n",
       "...                                                 ...  \n",
       "2948  [[255, 255, 255, 255, 255, 255, 255, 255, 255,...  \n",
       "2949  [[255, 255, 255, 255, 255, 255, 255, 255, 255,...  \n",
       "2950  [[255, 255, 255, 255, 255, 255, 255, 255, 255,...  \n",
       "2951  [[255, 255, 255, 255, 255, 255, 255, 255, 255,...  \n",
       "2952  [[255, 255, 255, 255, 255, 255, 255, 255, 255,...  \n",
       "\n",
       "[2947 rows x 4 columns]>"
      ]
     },
     "execution_count": 8,
     "metadata": {},
     "output_type": "execute_result"
    }
   ],
   "source": [
    "def grayscale(row):\n",
    "    return(row['rgb'].dot([[0.299],[0.587],[0.114]]).reshape(200,300).astype('uint8'))\n",
    "    \n",
    "data['gray'] = data.apply(grayscale, axis=1)\n",
    "data.head"
   ]
  },
  {
   "cell_type": "code",
   "execution_count": 7,
   "id": "b9171ed8",
   "metadata": {},
   "outputs": [
    {
     "name": "stdout",
     "output_type": "stream",
     "text": [
      "<bound method NDFrame.head of         affect                                                rgb  position\n",
      "1160   neutral  [[[255, 255, 255], [255, 255, 255], [255, 255,...         5\n",
      "652   surprise  [[[255, 255, 255], [255, 255, 255], [255, 255,...         3\n",
      "2686   neutral  [[[255, 255, 255], [255, 255, 255], [255, 255,...         5\n",
      "2248   sadness  [[[255, 255, 255], [255, 255, 255], [255, 255,...         2\n",
      "1445   disgust  [[[255, 255, 255], [255, 255, 255], [255, 255,...         5\n",
      "...        ...                                                ...       ...\n",
      "2716       joy  [[[255, 255, 255], [255, 255, 255], [255, 255,...        13\n",
      "1689       joy  [[[255, 255, 255], [255, 255, 255], [255, 255,...         6\n",
      "843    neutral  [[[255, 255, 255], [255, 255, 255], [255, 255,...         4\n",
      "1993   sadness  [[[255, 255, 255], [255, 255, 255], [255, 255,...         6\n",
      "2367      fear  [[[255, 255, 255], [255, 255, 255], [255, 255,...        12\n",
      "\n",
      "[100 rows x 3 columns]>\n",
      "<bound method NDFrame.head of        affect                                                rgb  position\n",
      "0     sadness  [[[255, 255, 255], [255, 255, 255], [255, 255,...        14\n",
      "1     neutral  [[[255, 255, 255], [255, 255, 255], [255, 255,...         1\n",
      "2     neutral  [[[255, 255, 255], [255, 255, 255], [255, 255,...        12\n",
      "4     disgust  [[[255, 255, 255], [255, 255, 255], [255, 255,...         7\n",
      "5     disgust  [[[255, 255, 255], [255, 255, 255], [255, 255,...         7\n",
      "...       ...                                                ...       ...\n",
      "2948  sadness  [[[255, 255, 255], [255, 255, 255], [255, 255,...        16\n",
      "2949  sadness  [[[255, 255, 255], [255, 255, 255], [255, 255,...        16\n",
      "2950  sadness  [[[255, 255, 255], [255, 255, 255], [255, 255,...        16\n",
      "2951     fear  [[[255, 255, 255], [255, 255, 255], [255, 255,...         8\n",
      "2952     fear  [[[255, 255, 255], [255, 255, 255], [255, 255,...         8\n",
      "\n",
      "[2847 rows x 3 columns]>\n"
     ]
    }
   ],
   "source": [
    "valid = data.sample(n=100)\n",
    "train = data.drop(valid.index)\n",
    "print(valid.head)\n",
    "print(train.head)"
   ]
  },
  {
   "cell_type": "code",
   "execution_count": 8,
   "id": "f7c1074c",
   "metadata": {
    "scrolled": true
   },
   "outputs": [
    {
     "name": "stdout",
     "output_type": "stream",
     "text": [
      "(2847, 7)\n",
      "(100, 7)\n"
     ]
    }
   ],
   "source": [
    "y_train = train['affect'].map(emotion_dict)\n",
    "y_valid = valid['affect'].map(emotion_dict)\n",
    "y_train = keras.utils.to_categorical(y_train, num_classes=7)\n",
    "y_valid = keras.utils.to_categorical(y_valid, num_classes=7)\n",
    "print(y_train.shape)\n",
    "print(y_valid.shape)"
   ]
  },
  {
   "cell_type": "code",
   "execution_count": 9,
   "id": "14ab4f02",
   "metadata": {},
   "outputs": [
    {
     "name": "stdout",
     "output_type": "stream",
     "text": [
      "(2847, 200, 300, 3)\n",
      "(100, 200, 300, 3)\n"
     ]
    }
   ],
   "source": [
    "x_train = np.asarray(train['rgb'])\n",
    "x_train = np.stack(x_train, axis=0)\n",
    "x_valid = np.asarray(valid['rgb'])\n",
    "x_valid = np.stack(x_valid, axis = 0)\n",
    "print(x_train.shape)\n",
    "print(x_valid.shape)"
   ]
  },
  {
   "cell_type": "markdown",
   "id": "b9d2b5dd",
   "metadata": {},
   "source": [
    "Build the CNN model using the data above"
   ]
  },
  {
   "cell_type": "code",
   "execution_count": 73,
   "id": "293cabb1",
   "metadata": {},
   "outputs": [
    {
     "name": "stdout",
     "output_type": "stream",
     "text": [
      "Epoch 1/15\n",
      "178/178 [==============================] - 4s 20ms/step - loss: 35.9400 - accuracy: 0.1865 - val_loss: 23.0984 - val_accuracy: 0.1000\n",
      "Epoch 2/15\n",
      "178/178 [==============================] - 3s 19ms/step - loss: 5.4765 - accuracy: 0.5609 - val_loss: 9.8393 - val_accuracy: 0.2600\n",
      "Epoch 3/15\n",
      "178/178 [==============================] - 3s 18ms/step - loss: 2.1677 - accuracy: 0.7896 - val_loss: 14.5928 - val_accuracy: 0.1500\n",
      "Epoch 4/15\n",
      "178/178 [==============================] - 3s 19ms/step - loss: 1.3751 - accuracy: 0.8925 - val_loss: 23.6351 - val_accuracy: 0.1600\n",
      "Epoch 5/15\n",
      "178/178 [==============================] - 3s 19ms/step - loss: 1.0273 - accuracy: 0.9150 - val_loss: 17.1218 - val_accuracy: 0.1700\n",
      "Epoch 6/15\n",
      "178/178 [==============================] - 3s 18ms/step - loss: 0.9610 - accuracy: 0.9273 - val_loss: 49.8122 - val_accuracy: 0.0800\n",
      "Epoch 7/15\n",
      "178/178 [==============================] - 3s 18ms/step - loss: 1.0774 - accuracy: 0.9298 - val_loss: 41.7384 - val_accuracy: 0.1300\n",
      "Epoch 8/15\n",
      "178/178 [==============================] - 3s 19ms/step - loss: 1.3725 - accuracy: 0.9290 - val_loss: 23.1361 - val_accuracy: 0.2400\n",
      "Epoch 9/15\n",
      "178/178 [==============================] - 3s 19ms/step - loss: 0.6669 - accuracy: 0.9547 - val_loss: 31.6698 - val_accuracy: 0.1100\n",
      "Epoch 10/15\n",
      "178/178 [==============================] - 3s 18ms/step - loss: 0.3193 - accuracy: 0.9733 - val_loss: 28.6877 - val_accuracy: 0.2200\n",
      "Epoch 11/15\n",
      "178/178 [==============================] - 3s 19ms/step - loss: 0.7875 - accuracy: 0.9638 - val_loss: 34.0336 - val_accuracy: 0.2000\n",
      "Epoch 12/15\n",
      "178/178 [==============================] - 3s 18ms/step - loss: 0.6679 - accuracy: 0.9659 - val_loss: 33.7826 - val_accuracy: 0.1600\n",
      "Epoch 13/15\n",
      "178/178 [==============================] - 3s 18ms/step - loss: 0.4008 - accuracy: 0.9800 - val_loss: 37.1975 - val_accuracy: 0.1400\n",
      "Epoch 14/15\n",
      "178/178 [==============================] - 3s 18ms/step - loss: 0.3975 - accuracy: 0.9814 - val_loss: 32.8143 - val_accuracy: 0.1600\n",
      "Epoch 15/15\n",
      "178/178 [==============================] - 3s 19ms/step - loss: 0.3103 - accuracy: 0.9867 - val_loss: 35.4092 - val_accuracy: 0.2200\n"
     ]
    }
   ],
   "source": [
    "with tf.device(\"CPU\"):\n",
    "    train_cnn = tf.data.Dataset.from_tensor_slices((x_train, y_train)).shuffle(4*16).batch(16)\n",
    "    validate_cnn = tf.data.Dataset.from_tensor_slices((x_valid, y_valid)).batch(16)\n",
    "\n",
    "cnn = keras.Sequential()\n",
    "\n",
    "cnn.add(keras.layers.Input(shape=(200,300,3)))\n",
    "cnn.add(keras.layers.Conv2D(32, kernel_size=(5, 5), activation='relu'))\n",
    "cnn.add(keras.layers.BatchNormalization())\n",
    "cnn.add(keras.layers.MaxPooling2D(pool_size=(2, 2)))\n",
    "cnn.add(keras.layers.Dropout(0.10))\n",
    "\n",
    "#cnn.add(keras.layers.Conv2D(64, kernel_size=(3, 3), activation='relu'))\n",
    "#cnn.add(keras.layers.MaxPooling2D(pool_size=(2, 2)))\n",
    "\n",
    "#cnn.add(keras.layers.Conv2D(128, kernel_size=(3, 3), activation='relu'))\n",
    "#cnn.add(keras.layers.MaxPooling2D(pool_size=(2, 2)))\n",
    "\n",
    "cnn.add(keras.layers.Flatten())\n",
    "cnn.add(keras.layers.Dense(7, activation='softmax'))\n",
    "\n",
    "cnn.compile(loss='categorical_crossentropy', optimizer='adam', metrics=['accuracy'])\n",
    "history = cnn.fit(train_cnn, epochs=15, validation_data=validate_cnn)"
   ]
  },
  {
   "cell_type": "code",
   "execution_count": 17,
   "id": "5b13039b",
   "metadata": {},
   "outputs": [
    {
     "name": "stdout",
     "output_type": "stream",
     "text": [
      "(2847, 480, 640, 1)\n",
      "(100, 480, 640, 1)\n"
     ]
    }
   ],
   "source": [
    "x_train = np.asarray(train['gray'])\n",
    "x_train = np.stack(x_train, axis=0)\n",
    "x_train = x_train.reshape(-1,200,300,1)\n",
    "x_valid = np.asarray(valid['gray'])\n",
    "x_valid = np.stack(x_valid, axis = 0)\n",
    "x_valid = x_valid.reshape(-1,200,300,1)\n",
    "print(x_train.shape)\n",
    "print(x_valid.shape)"
   ]
  },
  {
   "cell_type": "code",
   "execution_count": 36,
   "id": "3116bcbf",
   "metadata": {},
   "outputs": [
    {
     "name": "stdout",
     "output_type": "stream",
     "text": [
      "Epoch 1/15\n",
      "\u001b[1m23/23\u001b[0m \u001b[32m━━━━━━━━━━━━━━━━━━━━\u001b[0m\u001b[37m\u001b[0m \u001b[1m354s\u001b[0m 13s/step - accuracy: 0.1506 - loss: 779.6714 - val_accuracy: 0.1700 - val_loss: 393.8850\n",
      "Epoch 2/15\n",
      "\u001b[1m23/23\u001b[0m \u001b[32m━━━━━━━━━━━━━━━━━━━━\u001b[0m\u001b[37m\u001b[0m \u001b[1m338s\u001b[0m 13s/step - accuracy: 0.2452 - loss: 250.5077 - val_accuracy: 0.2000 - val_loss: 147.4224\n",
      "Epoch 3/15\n",
      "\u001b[1m23/23\u001b[0m \u001b[32m━━━━━━━━━━━━━━━━━━━━\u001b[0m\u001b[37m\u001b[0m \u001b[1m296s\u001b[0m 12s/step - accuracy: 0.7378 - loss: 16.6073 - val_accuracy: 0.1900 - val_loss: 123.4992\n",
      "Epoch 4/15\n",
      "\u001b[1m23/23\u001b[0m \u001b[32m━━━━━━━━━━━━━━━━━━━━\u001b[0m\u001b[37m\u001b[0m \u001b[1m349s\u001b[0m 14s/step - accuracy: 0.9584 - loss: 1.7869 - val_accuracy: 0.2100 - val_loss: 109.9813\n",
      "Epoch 5/15\n",
      "\u001b[1m23/23\u001b[0m \u001b[32m━━━━━━━━━━━━━━━━━━━━\u001b[0m\u001b[37m\u001b[0m \u001b[1m379s\u001b[0m 16s/step - accuracy: 0.9819 - loss: 0.4235 - val_accuracy: 0.2100 - val_loss: 94.4396\n",
      "Epoch 6/15\n",
      "\u001b[1m23/23\u001b[0m \u001b[32m━━━━━━━━━━━━━━━━━━━━\u001b[0m\u001b[37m\u001b[0m \u001b[1m313s\u001b[0m 13s/step - accuracy: 0.9905 - loss: 0.2387 - val_accuracy: 0.2000 - val_loss: 69.3933\n",
      "Epoch 7/15\n",
      "\u001b[1m23/23\u001b[0m \u001b[32m━━━━━━━━━━━━━━━━━━━━\u001b[0m\u001b[37m\u001b[0m \u001b[1m383s\u001b[0m 16s/step - accuracy: 0.9962 - loss: 0.1235 - val_accuracy: 0.1900 - val_loss: 61.2413\n",
      "Epoch 8/15\n",
      "\u001b[1m23/23\u001b[0m \u001b[32m━━━━━━━━━━━━━━━━━━━━\u001b[0m\u001b[37m\u001b[0m \u001b[1m403s\u001b[0m 17s/step - accuracy: 0.9986 - loss: 0.0938 - val_accuracy: 0.2000 - val_loss: 62.0735\n",
      "Epoch 9/15\n",
      "\u001b[1m23/23\u001b[0m \u001b[32m━━━━━━━━━━━━━━━━━━━━\u001b[0m\u001b[37m\u001b[0m \u001b[1m361s\u001b[0m 15s/step - accuracy: 0.9965 - loss: 0.0651 - val_accuracy: 0.1600 - val_loss: 51.1657\n",
      "Epoch 10/15\n",
      "\u001b[1m23/23\u001b[0m \u001b[32m━━━━━━━━━━━━━━━━━━━━\u001b[0m\u001b[37m\u001b[0m \u001b[1m342s\u001b[0m 14s/step - accuracy: 0.9953 - loss: 0.1346 - val_accuracy: 0.2100 - val_loss: 48.4846\n",
      "Epoch 11/15\n",
      "\u001b[1m23/23\u001b[0m \u001b[32m━━━━━━━━━━━━━━━━━━━━\u001b[0m\u001b[37m\u001b[0m \u001b[1m300s\u001b[0m 13s/step - accuracy: 0.9967 - loss: 0.0946 - val_accuracy: 0.2000 - val_loss: 44.6793\n",
      "Epoch 12/15\n",
      "\u001b[1m23/23\u001b[0m \u001b[32m━━━━━━━━━━━━━━━━━━━━\u001b[0m\u001b[37m\u001b[0m \u001b[1m344s\u001b[0m 14s/step - accuracy: 0.9972 - loss: 0.0359 - val_accuracy: 0.2300 - val_loss: 43.3871\n",
      "Epoch 13/15\n",
      "\u001b[1m23/23\u001b[0m \u001b[32m━━━━━━━━━━━━━━━━━━━━\u001b[0m\u001b[37m\u001b[0m \u001b[1m310s\u001b[0m 13s/step - accuracy: 0.9971 - loss: 0.0816 - val_accuracy: 0.2000 - val_loss: 35.5483\n",
      "Epoch 14/15\n",
      "\u001b[1m23/23\u001b[0m \u001b[32m━━━━━━━━━━━━━━━━━━━━\u001b[0m\u001b[37m\u001b[0m \u001b[1m313s\u001b[0m 13s/step - accuracy: 0.9976 - loss: 0.0748 - val_accuracy: 0.2000 - val_loss: 30.0532\n",
      "Epoch 15/15\n",
      "\u001b[1m23/23\u001b[0m \u001b[32m━━━━━━━━━━━━━━━━━━━━\u001b[0m\u001b[37m\u001b[0m \u001b[1m300s\u001b[0m 13s/step - accuracy: 0.9996 - loss: 0.0393 - val_accuracy: 0.2200 - val_loss: 32.4323\n"
     ]
    }
   ],
   "source": [
    "cnn2 = keras.Sequential()\n",
    "\n",
    "cnn2.add(keras.layers.Input(shape=(200,300,1)))\n",
    "cnn2.add(keras.layers.Conv2D(32, kernel_size=(5, 5), activation='relu'))\n",
    "cnn2.add(keras.layers.BatchNormalization())\n",
    "cnn2.add(keras.layers.MaxPooling2D(pool_size=(2, 2)))\n",
    "cnn2.add(keras.layers.Dropout(0.10))\n",
    "\n",
    "cnn2.add(keras.layers.Flatten())\n",
    "cnn2.add(keras.layers.Dense(7, activation='softmax'))\n",
    "\n",
    "cnn2.compile(loss='categorical_crossentropy', optimizer='adam', metrics=['accuracy'])\n",
    "history = cnn2.fit(x_train,y_train, batch_size=128, epochs=15, validation_data=(x_valid,y_valid))"
   ]
  },
  {
   "cell_type": "code",
   "execution_count": 10,
   "id": "7e9277dc",
   "metadata": {},
   "outputs": [],
   "source": [
    "x_train_pos = np.asarray(train['position']).reshape(-1,1)\n",
    "x_valid_pos = np.asarray(valid['position']).reshape(-1,1)"
   ]
  },
  {
   "cell_type": "code",
   "execution_count": 11,
   "id": "85d3df22-80fc-49ae-9eab-a9dc11b16568",
   "metadata": {},
   "outputs": [
    {
     "name": "stdout",
     "output_type": "stream",
     "text": [
      "(2847, 200, 300, 3)\n",
      "(2847, 1)\n",
      "(2847, 7)\n"
     ]
    }
   ],
   "source": [
    "print(x_train.shape)\n",
    "print(x_train_pos.shape)\n",
    "print(y_train.shape)"
   ]
  },
  {
   "cell_type": "code",
   "execution_count": 16,
   "id": "cea08b66",
   "metadata": {},
   "outputs": [
    {
     "name": "stdout",
     "output_type": "stream",
     "text": [
      "Epoch 1/15\n",
      "178/178 [==============================] - 4s 18ms/step - loss: 12.9997 - accuracy: 0.1391 - val_loss: 1.9477 - val_accuracy: 0.1500\n",
      "Epoch 2/15\n",
      "178/178 [==============================] - 3s 18ms/step - loss: 1.9445 - accuracy: 0.1503 - val_loss: 1.9474 - val_accuracy: 0.1000\n",
      "Epoch 3/15\n",
      "178/178 [==============================] - 3s 18ms/step - loss: 1.9446 - accuracy: 0.1545 - val_loss: 1.9478 - val_accuracy: 0.1000\n",
      "Epoch 4/15\n",
      "178/178 [==============================] - 3s 18ms/step - loss: 1.9430 - accuracy: 0.1553 - val_loss: 1.9477 - val_accuracy: 0.1000\n",
      "Epoch 5/15\n",
      "178/178 [==============================] - 3s 18ms/step - loss: 1.9423 - accuracy: 0.1545 - val_loss: 1.9481 - val_accuracy: 0.1000\n",
      "Epoch 6/15\n",
      "178/178 [==============================] - 3s 18ms/step - loss: 1.9416 - accuracy: 0.1553 - val_loss: 1.9479 - val_accuracy: 0.1000\n",
      "Epoch 7/15\n",
      "178/178 [==============================] - 3s 18ms/step - loss: 1.9456 - accuracy: 0.1545 - val_loss: 1.9479 - val_accuracy: 0.1000\n",
      "Epoch 8/15\n",
      "178/178 [==============================] - 3s 18ms/step - loss: 1.9448 - accuracy: 0.1542 - val_loss: 1.9479 - val_accuracy: 0.1000\n",
      "Epoch 9/15\n",
      "178/178 [==============================] - 3s 18ms/step - loss: 1.9428 - accuracy: 0.1542 - val_loss: 1.9480 - val_accuracy: 0.1000\n",
      "Epoch 10/15\n",
      "178/178 [==============================] - 3s 18ms/step - loss: 1.9431 - accuracy: 0.1542 - val_loss: 1.9478 - val_accuracy: 0.1000\n",
      "Epoch 11/15\n",
      "178/178 [==============================] - 3s 18ms/step - loss: 1.9427 - accuracy: 0.1542 - val_loss: 1.9483 - val_accuracy: 0.1000\n",
      "Epoch 12/15\n",
      "178/178 [==============================] - 3s 18ms/step - loss: 1.9425 - accuracy: 0.1542 - val_loss: 1.9481 - val_accuracy: 0.1000\n",
      "Epoch 13/15\n",
      "178/178 [==============================] - 3s 18ms/step - loss: 1.9426 - accuracy: 0.1542 - val_loss: 1.9478 - val_accuracy: 0.1000\n",
      "Epoch 14/15\n",
      "178/178 [==============================] - 3s 18ms/step - loss: 1.9426 - accuracy: 0.1542 - val_loss: 1.9477 - val_accuracy: 0.1000\n",
      "Epoch 15/15\n",
      "178/178 [==============================] - 3s 18ms/step - loss: 1.9426 - accuracy: 0.1542 - val_loss: 1.9481 - val_accuracy: 0.1000\n"
     ]
    }
   ],
   "source": [
    "with tf.device(\"CPU\"):\n",
    "    train_cnn = tf.data.Dataset.from_tensor_slices(({\"input_rgb\": x_train, \"input_pos\":x_train_pos}, y_train)).shuffle(4*16).batch(16)\n",
    "    validate_cnn = tf.data.Dataset.from_tensor_slices(({\"input_rgb\":x_valid, \"input_pos\": x_valid_pos}, y_valid)).batch(16)\n",
    "\n",
    "input_rgb = keras.layers.Input(shape=(200, 300, 3))\n",
    "input_pos = keras.layers.Input(shape=(1,))\n",
    "\n",
    "conv1 = keras.layers.Conv2D(32, kernel_size=(3, 3), activation='relu')(input_rgb)\n",
    "norm1 = keras.layers.BatchNormalization()(conv1)\n",
    "pool1 = keras.layers.MaxPooling2D(pool_size=(2, 2))(norm1)\n",
    "drop1 = keras.layers.Dropout(0.10)(pool1)\n",
    "flat1 = keras.layers.Flatten()(drop1)\n",
    "\n",
    "flat2 = keras.layers.Flatten()(input_pos)\n",
    "\n",
    "merged = keras.layers.concatenate([flat1, flat2])\n",
    "\n",
    "dense = keras.layers.Dense(64, activation='relu')(merged)\n",
    "output = keras.layers.Dense(7, activation='softmax')(dense)\n",
    "\n",
    "cnn3 = keras.Model(inputs=[input_rgb, input_pos], outputs=output)\n",
    "\n",
    "cnn3.compile(loss='categorical_crossentropy', optimizer='adam', metrics=['accuracy'])\n",
    "history = cnn3.fit([x_train, x_train_pos], y_train, batch_size=16, epochs=15, validation_data=([x_valid, x_valid_pos], y_valid))"
   ]
  },
  {
   "cell_type": "code",
   "execution_count": null,
   "id": "fdf6b97c",
   "metadata": {},
   "outputs": [],
   "source": []
  }
 ],
 "metadata": {
  "kernelspec": {
   "display_name": "Python 3 (ipykernel)",
   "language": "python",
   "name": "python3"
  },
  "language_info": {
   "codemirror_mode": {
    "name": "ipython",
    "version": 3
   },
   "file_extension": ".py",
   "mimetype": "text/x-python",
   "name": "python",
   "nbconvert_exporter": "python",
   "pygments_lexer": "ipython3",
   "version": "3.9.19"
  }
 },
 "nbformat": 4,
 "nbformat_minor": 5
}
