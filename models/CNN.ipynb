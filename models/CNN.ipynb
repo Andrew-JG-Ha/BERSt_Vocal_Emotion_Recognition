{
 "cells": [
  {
   "cell_type": "markdown",
   "id": "e2bb75ce-5d1d-47ab-b888-dabcf9d0ccfa",
   "metadata": {},
   "source": [
    "Convolutional Neural Network\n",
    "============================"
   ]
  },
  {
   "cell_type": "code",
   "execution_count": null,
   "id": "7ab0a955-b7a2-4dd2-8a43-78b511e70d62",
   "metadata": {},
   "outputs": [],
   "source": []
  }
 ],
 "metadata": {
  "kernelspec": {
   "display_name": "Python 3 (ipykernel)",
   "language": "python",
   "name": "python3"
  },
  "language_info": {
   "codemirror_mode": {
    "name": "ipython",
    "version": 3
   },
   "file_extension": ".py",
   "mimetype": "text/x-python",
   "name": "python",
   "nbconvert_exporter": "python",
   "pygments_lexer": "ipython3",
   "version": "3.11.5"
  }
 },
 "nbformat": 4,
 "nbformat_minor": 5
}
