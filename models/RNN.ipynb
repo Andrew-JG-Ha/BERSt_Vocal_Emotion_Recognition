{
 "cells": [
  {
   "cell_type": "code",
   "execution_count": 792,
   "id": "73b98d0b-c4be-486f-9845-afae743bab62",
   "metadata": {},
   "outputs": [],
   "source": [
    "import pandas as pd\n",
    "import numpy as np\n",
    "import tensorflow as tf\n",
    "import keras as kr\n",
    "import librosa as lib\n",
    "import IPython.display as ipd\n",
    "import matplotlib.pyplot as plt\n",
    "import sklearn.metrics as sk\n",
    "import seaborn as sns"
   ]
  },
  {
   "cell_type": "code",
   "execution_count": 793,
   "id": "4d12a20e",
   "metadata": {},
   "outputs": [
    {
     "name": "stderr",
     "output_type": "stream",
     "text": [
      "C:\\Users\\ellis\\AppData\\Local\\Temp\\ipykernel_69776\\115148476.py:79: RuntimeWarning: invalid value encountered in scalar divide\n",
      "  ber_current = sum_low/sum_high\n",
      "C:\\Users\\ellis\\AppData\\Local\\Temp\\ipykernel_69776\\115148476.py:118: SettingWithCopyWarning: \n",
      "A value is trying to be set on a copy of a slice from a DataFrame.\n",
      "Try using .loc[row_indexer,col_indexer] = value instead\n",
      "\n",
      "See the caveats in the documentation: https://pandas.pydata.org/pandas-docs/stable/user_guide/indexing.html#returning-a-view-versus-a-copy\n",
      "  processingSet[\"Timings\"] = timings\n",
      "C:\\Users\\ellis\\AppData\\Local\\Temp\\ipykernel_69776\\115148476.py:119: SettingWithCopyWarning: \n",
      "A value is trying to be set on a copy of a slice from a DataFrame.\n",
      "Try using .loc[row_indexer,col_indexer] = value instead\n",
      "\n",
      "See the caveats in the documentation: https://pandas.pydata.org/pandas-docs/stable/user_guide/indexing.html#returning-a-view-versus-a-copy\n",
      "  processingSet[\"Amplitude_Envelope\"] = amplitudeEnvelopeList\n",
      "C:\\Users\\ellis\\AppData\\Local\\Temp\\ipykernel_69776\\115148476.py:120: SettingWithCopyWarning: \n",
      "A value is trying to be set on a copy of a slice from a DataFrame.\n",
      "Try using .loc[row_indexer,col_indexer] = value instead\n",
      "\n",
      "See the caveats in the documentation: https://pandas.pydata.org/pandas-docs/stable/user_guide/indexing.html#returning-a-view-versus-a-copy\n",
      "  processingSet[\"Root_Mean_Square_Energy\"] = rootMeanSquareEnergyList\n",
      "C:\\Users\\ellis\\AppData\\Local\\Temp\\ipykernel_69776\\115148476.py:121: SettingWithCopyWarning: \n",
      "A value is trying to be set on a copy of a slice from a DataFrame.\n",
      "Try using .loc[row_indexer,col_indexer] = value instead\n",
      "\n",
      "See the caveats in the documentation: https://pandas.pydata.org/pandas-docs/stable/user_guide/indexing.html#returning-a-view-versus-a-copy\n",
      "  processingSet[\"Zero-Crossing Rate\"] = zeroCrossingRateList\n",
      "C:\\Users\\ellis\\AppData\\Local\\Temp\\ipykernel_69776\\115148476.py:122: SettingWithCopyWarning: \n",
      "A value is trying to be set on a copy of a slice from a DataFrame.\n",
      "Try using .loc[row_indexer,col_indexer] = value instead\n",
      "\n",
      "See the caveats in the documentation: https://pandas.pydata.org/pandas-docs/stable/user_guide/indexing.html#returning-a-view-versus-a-copy\n",
      "  processingSet[\"Spectral Centroid\"] = spectralCentroidList\n",
      "C:\\Users\\ellis\\AppData\\Local\\Temp\\ipykernel_69776\\115148476.py:123: SettingWithCopyWarning: \n",
      "A value is trying to be set on a copy of a slice from a DataFrame.\n",
      "Try using .loc[row_indexer,col_indexer] = value instead\n",
      "\n",
      "See the caveats in the documentation: https://pandas.pydata.org/pandas-docs/stable/user_guide/indexing.html#returning-a-view-versus-a-copy\n",
      "  processingSet[\"Spectral Bandwidth\"] = spectralBandwidthList\n",
      "C:\\Users\\ellis\\AppData\\Local\\Temp\\ipykernel_69776\\115148476.py:124: SettingWithCopyWarning: \n",
      "A value is trying to be set on a copy of a slice from a DataFrame.\n",
      "Try using .loc[row_indexer,col_indexer] = value instead\n",
      "\n",
      "See the caveats in the documentation: https://pandas.pydata.org/pandas-docs/stable/user_guide/indexing.html#returning-a-view-versus-a-copy\n",
      "  processingSet[\"Band Energy Ratio\"] = bandEnergyRatioList\n"
     ]
    },
    {
     "data": {
      "text/html": [
       "<div>\n",
       "<style scoped>\n",
       "    .dataframe tbody tr th:only-of-type {\n",
       "        vertical-align: middle;\n",
       "    }\n",
       "\n",
       "    .dataframe tbody tr th {\n",
       "        vertical-align: top;\n",
       "    }\n",
       "\n",
       "    .dataframe thead th {\n",
       "        text-align: right;\n",
       "    }\n",
       "</style>\n",
       "<table border=\"1\" class=\"dataframe\">\n",
       "  <thead>\n",
       "    <tr style=\"text-align: right;\">\n",
       "      <th></th>\n",
       "      <th>affect</th>\n",
       "      <th>file_path</th>\n",
       "      <th>phone_position</th>\n",
       "      <th>Timings</th>\n",
       "      <th>Amplitude_Envelope</th>\n",
       "      <th>Root_Mean_Square_Energy</th>\n",
       "      <th>Zero-Crossing Rate</th>\n",
       "      <th>Spectral Centroid</th>\n",
       "      <th>Spectral Bandwidth</th>\n",
       "      <th>Band Energy Ratio</th>\n",
       "    </tr>\n",
       "  </thead>\n",
       "  <tbody>\n",
       "    <tr>\n",
       "      <th>0</th>\n",
       "      <td>sadness</td>\n",
       "      <td>../dataset/shout_data_3afd7208-7987-4c73-8e01-...</td>\n",
       "      <td>Place phone on the opposite side of the room i...</td>\n",
       "      <td>[0.0, 0.011609977324263039, 0.0232199546485260...</td>\n",
       "      <td>[0.0, 0.0, 0.0, 0.0, 0.0, 0.0, 0.0, 0.0, 0.0, ...</td>\n",
       "      <td>[0.0, 0.0, 0.0, 0.0, 0.0, 0.0, 0.0, 0.0, 0.0, ...</td>\n",
       "      <td>[0.0, 0.0, 0.0, 0.0, 0.0, 0.0, 0.0, 0.0, 0.0, ...</td>\n",
       "      <td>[0.0, 0.0, 0.0, 0.0, 0.0, 0.0, 0.0, 0.0, 0.0, ...</td>\n",
       "      <td>[0.0, 0.0, 0.0, 0.0, 0.0, 0.0, 0.0, 0.0, 0.0, ...</td>\n",
       "      <td>[nan, nan, nan, nan, nan, nan, nan, nan, nan, ...</td>\n",
       "    </tr>\n",
       "    <tr>\n",
       "      <th>1</th>\n",
       "      <td>neutral</td>\n",
       "      <td>../dataset/shout_data_ae6feb35-cf7a-4805-8d05-...</td>\n",
       "      <td>Hold your phone next to your face but with the...</td>\n",
       "      <td>[0.0, 0.011609977324263039, 0.0232199546485260...</td>\n",
       "      <td>[0.0, 0.0, 0.0, 0.0, 0.0, 0.0, 0.0, 0.0, 0.0, ...</td>\n",
       "      <td>[0.0, 0.0, 0.0, 0.0, 0.0, 0.0, 0.0, 0.0, 0.0, ...</td>\n",
       "      <td>[0.0, 0.0, 0.0, 0.0, 0.0, 0.0, 0.0, 0.0, 0.0, ...</td>\n",
       "      <td>[0.0, 0.0, 0.0, 0.0, 0.0, 0.0, 0.0, 0.0, 0.0, ...</td>\n",
       "      <td>[0.0, 0.0, 0.0, 0.0, 0.0, 0.0, 0.0, 0.0, 0.0, ...</td>\n",
       "      <td>[nan, nan, nan, nan, nan, nan, nan, nan, nan, ...</td>\n",
       "    </tr>\n",
       "    <tr>\n",
       "      <th>2</th>\n",
       "      <td>neutral</td>\n",
       "      <td>../dataset/shout_data_fdb758a5-9c86-40f7-8870-...</td>\n",
       "      <td>Place phone on the opposite side of the room f...</td>\n",
       "      <td>[0.0, 0.011609977324263039, 0.0232199546485260...</td>\n",
       "      <td>[0.0, 0.0, 0.0, 0.0, 0.0, 0.0, 0.0, 0.0, 0.0, ...</td>\n",
       "      <td>[0.0, 0.0, 0.0, 0.0, 0.0, 0.0, 0.0, 0.0, 0.0, ...</td>\n",
       "      <td>[0.0, 0.0, 0.0, 0.0, 0.0, 0.0, 0.0, 0.0, 0.0, ...</td>\n",
       "      <td>[0.0, 0.0, 0.0, 0.0, 0.0, 0.0, 0.0, 0.0, 0.0, ...</td>\n",
       "      <td>[0.0, 0.0, 0.0, 0.0, 0.0, 0.0, 0.0, 0.0, 0.0, ...</td>\n",
       "      <td>[nan, nan, nan, nan, nan, nan, nan, nan, nan, ...</td>\n",
       "    </tr>\n",
       "    <tr>\n",
       "      <th>3</th>\n",
       "      <td>neutral</td>\n",
       "      <td>../dataset/shout_data_fdb758a5-9c86-40f7-8870-...</td>\n",
       "      <td>Place phone on the opposite side of the room f...</td>\n",
       "      <td>[0.0, 0.011609977324263039, 0.0232199546485260...</td>\n",
       "      <td>[0.0, 0.0, 0.0, 0.0, 0.0, 0.0, 0.0, 0.0, 0.0, ...</td>\n",
       "      <td>[0.0, 0.0, 0.0, 0.0, 0.0, 0.0, 0.0, 0.0, 0.0, ...</td>\n",
       "      <td>[0.0, 0.0, 0.0, 0.0, 0.0, 0.0, 0.0, 0.0, 0.0, ...</td>\n",
       "      <td>[0.0, 0.0, 0.0, 0.0, 0.0, 0.0, 0.0, 0.0, 0.0, ...</td>\n",
       "      <td>[0.0, 0.0, 0.0, 0.0, 0.0, 0.0, 0.0, 0.0, 0.0, ...</td>\n",
       "      <td>[nan, nan, nan, nan, nan, nan, nan, nan, nan, ...</td>\n",
       "    </tr>\n",
       "    <tr>\n",
       "      <th>4</th>\n",
       "      <td>disgust</td>\n",
       "      <td>../dataset/shout_data_739dbf1c-ec21-42db-9e49-...</td>\n",
       "      <td>Place phone 1-2 meters away face up on any sur...</td>\n",
       "      <td>[0.0, 0.011609977324263039, 0.0232199546485260...</td>\n",
       "      <td>[0.0, 0.0, 0.0, 0.0, 0.0, 0.0, 0.0, 0.0, 0.0, ...</td>\n",
       "      <td>[0.0, 0.0, 0.0, 0.0, 0.0, 0.0, 0.0, 0.0, 0.0, ...</td>\n",
       "      <td>[0.0, 0.0, 0.0, 0.0, 0.0, 0.0, 0.0, 0.0, 0.0, ...</td>\n",
       "      <td>[0.0, 0.0, 0.0, 0.0, 0.0, 0.0, 0.0, 0.0, 0.0, ...</td>\n",
       "      <td>[0.0, 0.0, 0.0, 0.0, 0.0, 0.0, 0.0, 0.0, 0.0, ...</td>\n",
       "      <td>[nan, nan, nan, nan, nan, nan, nan, nan, nan, ...</td>\n",
       "    </tr>\n",
       "    <tr>\n",
       "      <th>...</th>\n",
       "      <td>...</td>\n",
       "      <td>...</td>\n",
       "      <td>...</td>\n",
       "      <td>...</td>\n",
       "      <td>...</td>\n",
       "      <td>...</td>\n",
       "      <td>...</td>\n",
       "      <td>...</td>\n",
       "      <td>...</td>\n",
       "      <td>...</td>\n",
       "    </tr>\n",
       "    <tr>\n",
       "      <th>3048</th>\n",
       "      <td>sadness</td>\n",
       "      <td>../dataset/shout_data_f8d1719f-8a4b-4d7a-a2a7-...</td>\n",
       "      <td>Place phone as far away as possible while on o...</td>\n",
       "      <td>[0.0, 0.011609977324263039, 0.0232199546485260...</td>\n",
       "      <td>[0.0, 0.0, 0.0, 0.0, 0.0, 0.0, 0.0, 0.0, 0.0, ...</td>\n",
       "      <td>[0.0, 0.0, 0.0, 0.0, 0.0, 0.0, 0.0, 0.0, 0.0, ...</td>\n",
       "      <td>[0.0, 0.0, 0.0, 0.0, 0.0, 0.0, 0.0, 0.0, 0.0, ...</td>\n",
       "      <td>[0.0, 0.0, 0.0, 0.0, 0.0, 0.0, 0.0, 0.0, 0.0, ...</td>\n",
       "      <td>[0.0, 0.0, 0.0, 0.0, 0.0, 0.0, 0.0, 0.0, 0.0, ...</td>\n",
       "      <td>[nan, nan, nan, nan, nan, nan, nan, nan, nan, ...</td>\n",
       "    </tr>\n",
       "    <tr>\n",
       "      <th>3049</th>\n",
       "      <td>sadness</td>\n",
       "      <td>../dataset/shout_data_f8d1719f-8a4b-4d7a-a2a7-...</td>\n",
       "      <td>Place phone as far away as possible while on o...</td>\n",
       "      <td>[0.0, 0.011609977324263039, 0.0232199546485260...</td>\n",
       "      <td>[0.0, 0.0, 0.0, 0.0, 0.0, 0.0, 0.0, 0.0, 0.0, ...</td>\n",
       "      <td>[0.0, 0.0, 0.0, 0.0, 0.0, 0.0, 0.0, 0.0, 0.0, ...</td>\n",
       "      <td>[0.0, 0.0, 0.0, 0.0, 0.0, 0.0, 0.0, 0.0, 0.0, ...</td>\n",
       "      <td>[0.0, 0.0, 0.0, 0.0, 0.0, 0.0, 0.0, 0.0, 0.0, ...</td>\n",
       "      <td>[0.0, 0.0, 0.0, 0.0, 0.0, 0.0, 0.0, 0.0, 0.0, ...</td>\n",
       "      <td>[nan, nan, nan, nan, nan, nan, nan, nan, nan, ...</td>\n",
       "    </tr>\n",
       "    <tr>\n",
       "      <th>3050</th>\n",
       "      <td>sadness</td>\n",
       "      <td>../dataset/shout_data_f8d1719f-8a4b-4d7a-a2a7-...</td>\n",
       "      <td>Place phone as far away as possible while on o...</td>\n",
       "      <td>[0.0, 0.011609977324263039, 0.0232199546485260...</td>\n",
       "      <td>[0.0, 0.0, 0.0, 0.0, 0.0, 0.0, 0.0, 0.0, 0.0, ...</td>\n",
       "      <td>[0.0, 0.0, 0.0, 0.0, 0.0, 0.0, 0.0, 0.0, 0.0, ...</td>\n",
       "      <td>[0.0, 0.0, 0.0, 0.0, 0.0, 0.0, 0.0, 0.0, 0.0, ...</td>\n",
       "      <td>[0.0, 0.0, 0.0, 0.0, 0.0, 0.0, 0.0, 0.0, 0.0, ...</td>\n",
       "      <td>[0.0, 0.0, 0.0, 0.0, 0.0, 0.0, 0.0, 0.0, 0.0, ...</td>\n",
       "      <td>[nan, nan, nan, nan, nan, nan, nan, nan, nan, ...</td>\n",
       "    </tr>\n",
       "    <tr>\n",
       "      <th>3051</th>\n",
       "      <td>fear</td>\n",
       "      <td>../dataset/shout_data_d5d4e179-d411-4652-b80b-...</td>\n",
       "      <td>Place phone 1-2 meters away face down on a har...</td>\n",
       "      <td>[0.0, 0.011609977324263039, 0.0232199546485260...</td>\n",
       "      <td>[0.0, 0.0, 0.0, 0.0, 0.0, 0.0, 0.0, 0.0, 0.0, ...</td>\n",
       "      <td>[0.0, 0.0, 0.0, 0.0, 0.0, 0.0, 0.0, 0.0, 0.0, ...</td>\n",
       "      <td>[0.0, 0.0, 0.0, 0.0, 0.0, 0.0, 0.0, 0.0, 0.0, ...</td>\n",
       "      <td>[0.0, 0.0, 0.0, 0.0, 0.0, 0.0, 0.0, 0.0, 0.0, ...</td>\n",
       "      <td>[0.0, 0.0, 0.0, 0.0, 0.0, 0.0, 0.0, 0.0, 0.0, ...</td>\n",
       "      <td>[nan, nan, nan, nan, nan, nan, nan, nan, nan, ...</td>\n",
       "    </tr>\n",
       "    <tr>\n",
       "      <th>3052</th>\n",
       "      <td>fear</td>\n",
       "      <td>../dataset/shout_data_d5d4e179-d411-4652-b80b-...</td>\n",
       "      <td>Place phone 1-2 meters away face down on a har...</td>\n",
       "      <td>[0.0, 0.011609977324263039, 0.0232199546485260...</td>\n",
       "      <td>[0.0, 0.0, 0.0, 0.0, 0.0, 0.0, 0.0, 0.0, 0.0, ...</td>\n",
       "      <td>[0.0, 0.0, 0.0, 0.0, 0.0, 0.0, 0.0, 0.0, 0.0, ...</td>\n",
       "      <td>[0.0, 0.0, 0.0, 0.0, 0.0, 0.0, 0.0, 0.0, 0.0, ...</td>\n",
       "      <td>[0.0, 0.0, 0.0, 0.0, 0.0, 0.0, 0.0, 0.0, 0.0, ...</td>\n",
       "      <td>[0.0, 0.0, 0.0, 0.0, 0.0, 0.0, 0.0, 0.0, 0.0, ...</td>\n",
       "      <td>[nan, nan, nan, nan, nan, nan, nan, nan, nan, ...</td>\n",
       "    </tr>\n",
       "  </tbody>\n",
       "</table>\n",
       "<p>3053 rows × 10 columns</p>\n",
       "</div>"
      ],
      "text/plain": [
       "       affect                                          file_path  \\\n",
       "0     sadness  ../dataset/shout_data_3afd7208-7987-4c73-8e01-...   \n",
       "1     neutral  ../dataset/shout_data_ae6feb35-cf7a-4805-8d05-...   \n",
       "2     neutral  ../dataset/shout_data_fdb758a5-9c86-40f7-8870-...   \n",
       "3     neutral  ../dataset/shout_data_fdb758a5-9c86-40f7-8870-...   \n",
       "4     disgust  ../dataset/shout_data_739dbf1c-ec21-42db-9e49-...   \n",
       "...       ...                                                ...   \n",
       "3048  sadness  ../dataset/shout_data_f8d1719f-8a4b-4d7a-a2a7-...   \n",
       "3049  sadness  ../dataset/shout_data_f8d1719f-8a4b-4d7a-a2a7-...   \n",
       "3050  sadness  ../dataset/shout_data_f8d1719f-8a4b-4d7a-a2a7-...   \n",
       "3051     fear  ../dataset/shout_data_d5d4e179-d411-4652-b80b-...   \n",
       "3052     fear  ../dataset/shout_data_d5d4e179-d411-4652-b80b-...   \n",
       "\n",
       "                                         phone_position  \\\n",
       "0     Place phone on the opposite side of the room i...   \n",
       "1     Hold your phone next to your face but with the...   \n",
       "2     Place phone on the opposite side of the room f...   \n",
       "3     Place phone on the opposite side of the room f...   \n",
       "4     Place phone 1-2 meters away face up on any sur...   \n",
       "...                                                 ...   \n",
       "3048  Place phone as far away as possible while on o...   \n",
       "3049  Place phone as far away as possible while on o...   \n",
       "3050  Place phone as far away as possible while on o...   \n",
       "3051  Place phone 1-2 meters away face down on a har...   \n",
       "3052  Place phone 1-2 meters away face down on a har...   \n",
       "\n",
       "                                                Timings  \\\n",
       "0     [0.0, 0.011609977324263039, 0.0232199546485260...   \n",
       "1     [0.0, 0.011609977324263039, 0.0232199546485260...   \n",
       "2     [0.0, 0.011609977324263039, 0.0232199546485260...   \n",
       "3     [0.0, 0.011609977324263039, 0.0232199546485260...   \n",
       "4     [0.0, 0.011609977324263039, 0.0232199546485260...   \n",
       "...                                                 ...   \n",
       "3048  [0.0, 0.011609977324263039, 0.0232199546485260...   \n",
       "3049  [0.0, 0.011609977324263039, 0.0232199546485260...   \n",
       "3050  [0.0, 0.011609977324263039, 0.0232199546485260...   \n",
       "3051  [0.0, 0.011609977324263039, 0.0232199546485260...   \n",
       "3052  [0.0, 0.011609977324263039, 0.0232199546485260...   \n",
       "\n",
       "                                     Amplitude_Envelope  \\\n",
       "0     [0.0, 0.0, 0.0, 0.0, 0.0, 0.0, 0.0, 0.0, 0.0, ...   \n",
       "1     [0.0, 0.0, 0.0, 0.0, 0.0, 0.0, 0.0, 0.0, 0.0, ...   \n",
       "2     [0.0, 0.0, 0.0, 0.0, 0.0, 0.0, 0.0, 0.0, 0.0, ...   \n",
       "3     [0.0, 0.0, 0.0, 0.0, 0.0, 0.0, 0.0, 0.0, 0.0, ...   \n",
       "4     [0.0, 0.0, 0.0, 0.0, 0.0, 0.0, 0.0, 0.0, 0.0, ...   \n",
       "...                                                 ...   \n",
       "3048  [0.0, 0.0, 0.0, 0.0, 0.0, 0.0, 0.0, 0.0, 0.0, ...   \n",
       "3049  [0.0, 0.0, 0.0, 0.0, 0.0, 0.0, 0.0, 0.0, 0.0, ...   \n",
       "3050  [0.0, 0.0, 0.0, 0.0, 0.0, 0.0, 0.0, 0.0, 0.0, ...   \n",
       "3051  [0.0, 0.0, 0.0, 0.0, 0.0, 0.0, 0.0, 0.0, 0.0, ...   \n",
       "3052  [0.0, 0.0, 0.0, 0.0, 0.0, 0.0, 0.0, 0.0, 0.0, ...   \n",
       "\n",
       "                                Root_Mean_Square_Energy  \\\n",
       "0     [0.0, 0.0, 0.0, 0.0, 0.0, 0.0, 0.0, 0.0, 0.0, ...   \n",
       "1     [0.0, 0.0, 0.0, 0.0, 0.0, 0.0, 0.0, 0.0, 0.0, ...   \n",
       "2     [0.0, 0.0, 0.0, 0.0, 0.0, 0.0, 0.0, 0.0, 0.0, ...   \n",
       "3     [0.0, 0.0, 0.0, 0.0, 0.0, 0.0, 0.0, 0.0, 0.0, ...   \n",
       "4     [0.0, 0.0, 0.0, 0.0, 0.0, 0.0, 0.0, 0.0, 0.0, ...   \n",
       "...                                                 ...   \n",
       "3048  [0.0, 0.0, 0.0, 0.0, 0.0, 0.0, 0.0, 0.0, 0.0, ...   \n",
       "3049  [0.0, 0.0, 0.0, 0.0, 0.0, 0.0, 0.0, 0.0, 0.0, ...   \n",
       "3050  [0.0, 0.0, 0.0, 0.0, 0.0, 0.0, 0.0, 0.0, 0.0, ...   \n",
       "3051  [0.0, 0.0, 0.0, 0.0, 0.0, 0.0, 0.0, 0.0, 0.0, ...   \n",
       "3052  [0.0, 0.0, 0.0, 0.0, 0.0, 0.0, 0.0, 0.0, 0.0, ...   \n",
       "\n",
       "                                     Zero-Crossing Rate  \\\n",
       "0     [0.0, 0.0, 0.0, 0.0, 0.0, 0.0, 0.0, 0.0, 0.0, ...   \n",
       "1     [0.0, 0.0, 0.0, 0.0, 0.0, 0.0, 0.0, 0.0, 0.0, ...   \n",
       "2     [0.0, 0.0, 0.0, 0.0, 0.0, 0.0, 0.0, 0.0, 0.0, ...   \n",
       "3     [0.0, 0.0, 0.0, 0.0, 0.0, 0.0, 0.0, 0.0, 0.0, ...   \n",
       "4     [0.0, 0.0, 0.0, 0.0, 0.0, 0.0, 0.0, 0.0, 0.0, ...   \n",
       "...                                                 ...   \n",
       "3048  [0.0, 0.0, 0.0, 0.0, 0.0, 0.0, 0.0, 0.0, 0.0, ...   \n",
       "3049  [0.0, 0.0, 0.0, 0.0, 0.0, 0.0, 0.0, 0.0, 0.0, ...   \n",
       "3050  [0.0, 0.0, 0.0, 0.0, 0.0, 0.0, 0.0, 0.0, 0.0, ...   \n",
       "3051  [0.0, 0.0, 0.0, 0.0, 0.0, 0.0, 0.0, 0.0, 0.0, ...   \n",
       "3052  [0.0, 0.0, 0.0, 0.0, 0.0, 0.0, 0.0, 0.0, 0.0, ...   \n",
       "\n",
       "                                      Spectral Centroid  \\\n",
       "0     [0.0, 0.0, 0.0, 0.0, 0.0, 0.0, 0.0, 0.0, 0.0, ...   \n",
       "1     [0.0, 0.0, 0.0, 0.0, 0.0, 0.0, 0.0, 0.0, 0.0, ...   \n",
       "2     [0.0, 0.0, 0.0, 0.0, 0.0, 0.0, 0.0, 0.0, 0.0, ...   \n",
       "3     [0.0, 0.0, 0.0, 0.0, 0.0, 0.0, 0.0, 0.0, 0.0, ...   \n",
       "4     [0.0, 0.0, 0.0, 0.0, 0.0, 0.0, 0.0, 0.0, 0.0, ...   \n",
       "...                                                 ...   \n",
       "3048  [0.0, 0.0, 0.0, 0.0, 0.0, 0.0, 0.0, 0.0, 0.0, ...   \n",
       "3049  [0.0, 0.0, 0.0, 0.0, 0.0, 0.0, 0.0, 0.0, 0.0, ...   \n",
       "3050  [0.0, 0.0, 0.0, 0.0, 0.0, 0.0, 0.0, 0.0, 0.0, ...   \n",
       "3051  [0.0, 0.0, 0.0, 0.0, 0.0, 0.0, 0.0, 0.0, 0.0, ...   \n",
       "3052  [0.0, 0.0, 0.0, 0.0, 0.0, 0.0, 0.0, 0.0, 0.0, ...   \n",
       "\n",
       "                                     Spectral Bandwidth  \\\n",
       "0     [0.0, 0.0, 0.0, 0.0, 0.0, 0.0, 0.0, 0.0, 0.0, ...   \n",
       "1     [0.0, 0.0, 0.0, 0.0, 0.0, 0.0, 0.0, 0.0, 0.0, ...   \n",
       "2     [0.0, 0.0, 0.0, 0.0, 0.0, 0.0, 0.0, 0.0, 0.0, ...   \n",
       "3     [0.0, 0.0, 0.0, 0.0, 0.0, 0.0, 0.0, 0.0, 0.0, ...   \n",
       "4     [0.0, 0.0, 0.0, 0.0, 0.0, 0.0, 0.0, 0.0, 0.0, ...   \n",
       "...                                                 ...   \n",
       "3048  [0.0, 0.0, 0.0, 0.0, 0.0, 0.0, 0.0, 0.0, 0.0, ...   \n",
       "3049  [0.0, 0.0, 0.0, 0.0, 0.0, 0.0, 0.0, 0.0, 0.0, ...   \n",
       "3050  [0.0, 0.0, 0.0, 0.0, 0.0, 0.0, 0.0, 0.0, 0.0, ...   \n",
       "3051  [0.0, 0.0, 0.0, 0.0, 0.0, 0.0, 0.0, 0.0, 0.0, ...   \n",
       "3052  [0.0, 0.0, 0.0, 0.0, 0.0, 0.0, 0.0, 0.0, 0.0, ...   \n",
       "\n",
       "                                      Band Energy Ratio  \n",
       "0     [nan, nan, nan, nan, nan, nan, nan, nan, nan, ...  \n",
       "1     [nan, nan, nan, nan, nan, nan, nan, nan, nan, ...  \n",
       "2     [nan, nan, nan, nan, nan, nan, nan, nan, nan, ...  \n",
       "3     [nan, nan, nan, nan, nan, nan, nan, nan, nan, ...  \n",
       "4     [nan, nan, nan, nan, nan, nan, nan, nan, nan, ...  \n",
       "...                                                 ...  \n",
       "3048  [nan, nan, nan, nan, nan, nan, nan, nan, nan, ...  \n",
       "3049  [nan, nan, nan, nan, nan, nan, nan, nan, nan, ...  \n",
       "3050  [nan, nan, nan, nan, nan, nan, nan, nan, nan, ...  \n",
       "3051  [nan, nan, nan, nan, nan, nan, nan, nan, nan, ...  \n",
       "3052  [nan, nan, nan, nan, nan, nan, nan, nan, nan, ...  \n",
       "\n",
       "[3053 rows x 10 columns]"
      ]
     },
     "execution_count": 793,
     "metadata": {},
     "output_type": "execute_result"
    }
   ],
   "source": [
    "# Data processing\n",
    "valid_data = pd.read_csv(\"../valid_data.csv\")\n",
    "\n",
    "# we need phone position, affect, file_path, then the local file path\n",
    "valid_data[\"file_path\"] = valid_data[\"file_name\"].str.replace(\"/media/data/shout-data/\", \"/dataset/\")\n",
    "valid_data[\"file_path\"] = valid_data[\"file_path\"].str.replace(\".wav\", \"\")\n",
    "valid_data[\"file_path\"] = valid_data[\"file_path\"].astype(str) + valid_data[\"chunk_name\"].astype(str)\n",
    "\n",
    "processingSet = valid_data[[\"affect\", \"file_path\", \"phone_position\"]]\n",
    "\n",
    "testSet = valid_data.sample(n=100, random_state=100)\n",
    "testSet.to_csv(\"../test_set.csv\")\n",
    "\n",
    "trainingSet = valid_data.drop(testSet.index)\n",
    "trainingSet.to_csv(\"../training_set.csv\")\n",
    "valid_data = pd.read_csv(\"../valid_data.csv\")\n",
    "\n",
    "# we need phone position, affect, file_path, then the local file path\n",
    "valid_data[\"file_path\"] = valid_data[\"file_name\"].str.replace(\"/media/data/shout-data/\", \"../dataset/\")\n",
    "valid_data[\"file_path\"] = valid_data[\"file_path\"].str.replace(\".wav\", \"\")\n",
    "valid_data[\"file_path\"] = valid_data[\"file_path\"].astype(str) + valid_data[\"chunk_name\"].astype(str)\n",
    "\n",
    "processingSet = valid_data[[\"affect\", \"file_path\", \"phone_position\"]]\n",
    "processingSet\n",
    "FRAME_SIZE = 512 # the size of the frame\n",
    "HOP_LENGTH = 256 # the distance each frame jumps by\n",
    "FRAME_LENGTH = 512 # length of a frame\n",
    "\n",
    "def getFeatures(audioSignal, sample_rate):\n",
    "    \n",
    "    # duration of 1 sample\n",
    "    oneSampleDuration = 1/sample_rate\n",
    "    \n",
    "    # duration of audio signal in seconds\n",
    "    sampleDuration = oneSampleDuration*len(audioFile)\n",
    "    \n",
    "    ae, time = getAmplitudeEnvelope(audioSignal)\n",
    "    rms = getRMS(audioSignal)\n",
    "    zcr = getZCR(audioSignal)\n",
    "    \n",
    "    return time, ae, rms, zcr\n",
    "    \n",
    "def getAmplitudeEnvelope(audioSignal):\n",
    "    amplitudeEnvelope = []\n",
    "    \n",
    "    for i in range(0, len(audioSignal), HOP_LENGTH):\n",
    "        currentFrameAE = max(audioSignal[i:i+FRAME_SIZE])\n",
    "        amplitudeEnvelope.append(currentFrameAE)\n",
    "        \n",
    "    amplitudeEnvelope = np.array(amplitudeEnvelope)\n",
    "    amplitudeFrames = range(0, amplitudeEnvelope.size)\n",
    "    time = lib.frames_to_time(amplitudeFrames, hop_length=HOP_LENGTH)\n",
    "    \n",
    "    return amplitudeEnvelope, time\n",
    "    \n",
    "def getRMS(audioSignal):\n",
    "    rms = []\n",
    "    for i in range(0, len(audioSignal), HOP_LENGTH):\n",
    "        rms_current = np.sqrt(np.sum(audioSignal[i:i+FRAME_LENGTH]**2) / FRAME_LENGTH)\n",
    "        rms.append(rms_current)\n",
    "    return rms\n",
    "\n",
    "def getZCR(audioSignal):\n",
    "    return lib.feature.zero_crossing_rate(audioSignal, frame_length=FRAME_LENGTH, hop_length=HOP_LENGTH)[0]\n",
    "\n",
    "def calc_sfb(spec, freq, sr):\n",
    "    freq_range = sr/2\n",
    "    freq_delta = freq_range / spec.shape[0]\n",
    "    return int(np.floor(freq / freq_delta))\n",
    "def calc_ber(spec, freq, sr):\n",
    "    sfb = calc_sfb(spec, freq, sr)\n",
    "    pSpec = np.abs(spec) ** 2\n",
    "    pSpec = pSpec.T\n",
    "    ber = []\n",
    "\n",
    "    for freqs in pSpec:\n",
    "        sum_low = np.sum(freqs[:sfb])\n",
    "        sum_high = np.sum(freqs[sfb:])\n",
    "        ber_current = sum_low/sum_high\n",
    "        ber.append(ber_current)\n",
    "\n",
    "    return np.array(ber)\n",
    "def getFrequencyFeatures(audioSignal, sample_rate):\n",
    "    audio_spec = lib.stft(audioFile, n_fft=FRAME_SIZE, hop_length=HOP_LENGTH)\n",
    "    centroid = lib.feature.spectral_centroid(y=audioFile, sr=sample_rate, n_fft=FRAME_SIZE, hop_length=HOP_LENGTH)[0]\n",
    "    bandwidth = lib.feature.spectral_bandwidth(y=audioFile, sr=sample_rate, n_fft=FRAME_SIZE, hop_length=HOP_LENGTH)[0]\n",
    "    ber = calc_ber(audio_spec, 2000, sample_rate)\n",
    "    return centroid, bandwidth, ber\n",
    "\n",
    "zeroCrossingRateList = []\n",
    "amplitudeEnvelopeList = []\n",
    "rootMeanSquareEnergyList = []\n",
    "spectralCentroidList = []\n",
    "spectralBandwidthList = []\n",
    "bandEnergyRatioList = []\n",
    "timings = []\n",
    "audioFileLengths = []\n",
    "\n",
    "for fileDir in processingSet[\"file_path\"]:\n",
    "    audioFile, sample_rate = lib.load(fileDir)\n",
    "    audioFileLengths.append(len(audioFile))\n",
    "\n",
    "maxAudioLength = max(audioFileLengths)    \n",
    "\n",
    "for fileDir in processingSet[\"file_path\"]:\n",
    "    audioFile, sample_rate = lib.load(fileDir)\n",
    "    audioFile = lib.util.pad_center(audioFile, size=maxAudioLength)\n",
    "    time, ae, rmse, zcr = getFeatures(audioFile, sample_rate)\n",
    "    centroid, bandwidth, ber = getFrequencyFeatures(audioFile, sample_rate)\n",
    "    zeroCrossingRateList.append(zcr)\n",
    "    amplitudeEnvelopeList.append(ae)\n",
    "    rootMeanSquareEnergyList.append(rmse)\n",
    "    spectralCentroidList.append(centroid)\n",
    "    spectralBandwidthList.append(bandwidth)\n",
    "    bandEnergyRatioList.append(ber)\n",
    "    timings.append(time)\n",
    "    \n",
    "processingSet[\"Timings\"] = timings\n",
    "processingSet[\"Amplitude_Envelope\"] = amplitudeEnvelopeList\n",
    "processingSet[\"Root_Mean_Square_Energy\"] = rootMeanSquareEnergyList\n",
    "processingSet[\"Zero-Crossing Rate\"] = zeroCrossingRateList\n",
    "processingSet[\"Spectral Centroid\"] = spectralCentroidList\n",
    "processingSet[\"Spectral Bandwidth\"] = spectralBandwidthList\n",
    "processingSet[\"Band Energy Ratio\"] = bandEnergyRatioList\n",
    "trainingSetProcessed = processingSet.drop(testSet.index)\n",
    "testSetProcessed = processingSet.drop(trainingSetProcessed.index)\n",
    "processingSet"
   ]
  },
  {
   "cell_type": "markdown",
   "id": "8490ecc0-6f21-4139-bf33-bd30c7387f71",
   "metadata": {},
   "source": [
    "Recurrent Neural Network\n",
    "========================"
   ]
  },
  {
   "cell_type": "code",
   "execution_count": 794,
   "id": "223574fd",
   "metadata": {},
   "outputs": [],
   "source": [
    "emotions = {\"neutral\": 0, \"anger\": 1, \"joy\":2, \"fear\":3, \"disgust\":4, \"surprise\": 5, \"sadness\": 6}\n",
    "emotions2 = {\"Neutral\": 0, \"Anger\": 1, \"Joy\":2, \"Fear\":3, \"Disgust\":4, \"Surprise\": 5, \"Sadness\": 6}\n",
    "positions = {\"Hold your phone next to your face with the mic facing your mouth as you would in a phone conversation 1/19\": 0,\n",
    "            \"Hold your phone next to your face but with the mic/phone facing away from your face 2/19\": 1,\n",
    "            \"Hold your phone next to your face with your hand covering the mic 3/19\": 2,\n",
    "            \"Hold your phone next to your hip with the back of phone on your palm 4/19\": 3,\n",
    "            \"Hold your phone next to your hip with your hand covering the mic 5/19\": 4,\n",
    "            \"Place your phone in your pocket 6/19\": 5,\n",
    "            \"Place your phone in a bag and hold it next to your hip 7/19\": 6,\n",
    "            \"Place phone 1-2 meters away face up on any surface 8/19\": 7,\n",
    "            \"Place phone 1-2 meters away face down on a hard surface 9/19\": 8,\n",
    "            \"Place phone 1-2 meters away face down on a soft surface 10/19\": 9,\n",
    "            \"Place phone 1-2 meters away in a bag 11/19\": 10,\n",
    "            \"Place phone on the opposite side of the room face up on any surface 12/19\": 11,\n",
    "            \"Place phone on the opposite side of the room face down on a hard surface 13/19\": 12,\n",
    "            \"Place phone on the opposite side of the room face down on a soft surface 14/19\": 13,\n",
    "            \"Place phone on the opposite side of the room in a bag 15/19\": 14,\n",
    "            \"Place phone as far away as possible while on on the opposite side of a wall from you face up on any surface 16/19\": 15,\n",
    "            \"Place phone as far away as possible while on on the opposite side of a wall from you face down on a hard surface 17/19\": 16,\n",
    "            \"Place phone as far away as possible while on on the opposite side of a wall from you face down on a soft surface 18/19\": 17,\n",
    "            \"Place phone as far away as possible while on on the opposite side of a wall from you in a bag 19/19\": 18}"
   ]
  },
  {
   "cell_type": "code",
   "execution_count": 795,
   "id": "09c27b4a",
   "metadata": {},
   "outputs": [],
   "source": [
    "# Read in processed audio data\n",
    "validSet = trainingSetProcessed.sample(n = 100, random_state=100)\n",
    "trainSet = trainingSetProcessed.drop(validSet.index)\n",
    "testSet = testSetProcessed\n",
    "validSet[\"phone_position\"] = validSet[\"phone_position\"].map(positions)\n",
    "trainSet[\"phone_position\"] = trainSet[\"phone_position\"].map(positions)\n",
    "testSet[\"phone_position\"] = testSet[\"phone_position\"].map(positions)\n",
    "trainSetY = trainSet['affect']\n",
    "trainSetY = trainSetY.map(emotions)\n",
    "validSetY = validSet['affect']\n",
    "validSetY = validSetY.map(emotions)\n",
    "testSetY = testSet['affect']\n",
    "testSetY = testSetY.map(emotions)"
   ]
  },
  {
   "cell_type": "code",
   "execution_count": 796,
   "id": "d0a8b673",
   "metadata": {},
   "outputs": [],
   "source": [
    "# Process feature data into an input\n",
    "trainData = []\n",
    "trainDataP = []\n",
    "for datapoint in np.array(trainSet[[\"Amplitude_Envelope\", \"Root_Mean_Square_Energy\", \"Zero-Crossing Rate\", \"Spectral Centroid\", \"Spectral Bandwidth\", \"phone_position\"]]):\n",
    "    AE, RMSE, ZCR, SC, SB, P = datapoint\n",
    "    trainData.append([AE, RMSE, ZCR, SC, SB])\n",
    "    trainDataP.append([P])\n",
    "trainX = np.array(trainData)\n",
    "trainXP = np.array(trainDataP)\n",
    "validData = []\n",
    "validDataP = []\n",
    "for datapoint in np.array(validSet[[\"Amplitude_Envelope\", \"Root_Mean_Square_Energy\", \"Zero-Crossing Rate\", \"Spectral Centroid\", \"Spectral Bandwidth\", \"phone_position\"]]):\n",
    "    AE, RMSE, ZCR, SC, SB, P = datapoint\n",
    "    validData.append([AE, RMSE, ZCR, SC, SB])\n",
    "    validDataP.append([P])\n",
    "validX = np.array(validData)\n",
    "validXP = np.array(validDataP)\n",
    "testData = []\n",
    "testDataP = []\n",
    "for datapoint in np.array(testSet[[\"Amplitude_Envelope\", \"Root_Mean_Square_Energy\", \"Zero-Crossing Rate\", \"Spectral Centroid\", \"Spectral Bandwidth\", \"phone_position\"]]):\n",
    "    AE, RMSE, ZCR, SC, SB, P = datapoint\n",
    "    testData.append([AE, RMSE, ZCR, SC, SB])\n",
    "    testDataP.append([P])\n",
    "testX = np.array(testData)\n",
    "testXP = np.array(testDataP)"
   ]
  },
  {
   "cell_type": "code",
   "execution_count": 797,
   "id": "7ca1b341",
   "metadata": {},
   "outputs": [],
   "source": [
    "trainXT = tf.convert_to_tensor(trainX)\n",
    "trainSetY = kr.utils.to_categorical(trainSetY, num_classes=7)\n",
    "trainYT = tf.convert_to_tensor(trainSetY)\n",
    "validXT = tf.convert_to_tensor(validX)\n",
    "validSetY = kr.utils.to_categorical(validSetY, num_classes=7)\n",
    "validYT = tf.convert_to_tensor(validSetY)\n",
    "testXT = tf.convert_to_tensor(testX)\n",
    "testSetY = kr.utils.to_categorical(testSetY, num_classes=7)\n",
    "testYT = tf.convert_to_tensor(testSetY)\n",
    "trainXPT = tf.convert_to_tensor(trainXP)\n",
    "validXPT = tf.convert_to_tensor(validXP)\n",
    "testXPT = tf.convert_to_tensor(testXP)"
   ]
  },
  {
   "cell_type": "markdown",
   "id": "cb2a2920",
   "metadata": {},
   "source": [
    "Emotion Recognition"
   ]
  },
  {
   "cell_type": "code",
   "execution_count": 712,
   "id": "70beee4f",
   "metadata": {},
   "outputs": [
    {
     "data": {
      "text/html": [
       "<pre style=\"white-space:pre;overflow-x:auto;line-height:normal;font-family:Menlo,'DejaVu Sans Mono',consolas,'Courier New',monospace\"><span style=\"font-weight: bold\">Model: \"sequential_72\"</span>\n",
       "</pre>\n"
      ],
      "text/plain": [
       "\u001b[1mModel: \"sequential_72\"\u001b[0m\n"
      ]
     },
     "metadata": {},
     "output_type": "display_data"
    },
    {
     "data": {
      "text/html": [
       "<pre style=\"white-space:pre;overflow-x:auto;line-height:normal;font-family:Menlo,'DejaVu Sans Mono',consolas,'Courier New',monospace\">┏━━━━━━━━━━━━━━━━━━━━━━━━━━━━━━━━━┳━━━━━━━━━━━━━━━━━━━━━━━━┳━━━━━━━━━━━━━━━┓\n",
       "┃<span style=\"font-weight: bold\"> Layer (type)                    </span>┃<span style=\"font-weight: bold\"> Output Shape           </span>┃<span style=\"font-weight: bold\">       Param # </span>┃\n",
       "┡━━━━━━━━━━━━━━━━━━━━━━━━━━━━━━━━━╇━━━━━━━━━━━━━━━━━━━━━━━━╇━━━━━━━━━━━━━━━┩\n",
       "│ simple_rnn_216 (<span style=\"color: #0087ff; text-decoration-color: #0087ff\">SimpleRNN</span>)      │ (<span style=\"color: #00d7ff; text-decoration-color: #00d7ff\">None</span>, <span style=\"color: #00af00; text-decoration-color: #00af00\">5</span>, <span style=\"color: #00af00; text-decoration-color: #00af00\">250</span>)         │       <span style=\"color: #00af00; text-decoration-color: #00af00\">222,500</span> │\n",
       "├─────────────────────────────────┼────────────────────────┼───────────────┤\n",
       "│ simple_rnn_217 (<span style=\"color: #0087ff; text-decoration-color: #0087ff\">SimpleRNN</span>)      │ (<span style=\"color: #00d7ff; text-decoration-color: #00d7ff\">None</span>, <span style=\"color: #00af00; text-decoration-color: #00af00\">5</span>, <span style=\"color: #00af00; text-decoration-color: #00af00\">100</span>)         │        <span style=\"color: #00af00; text-decoration-color: #00af00\">35,100</span> │\n",
       "├─────────────────────────────────┼────────────────────────┼───────────────┤\n",
       "│ simple_rnn_218 (<span style=\"color: #0087ff; text-decoration-color: #0087ff\">SimpleRNN</span>)      │ (<span style=\"color: #00d7ff; text-decoration-color: #00d7ff\">None</span>, <span style=\"color: #00af00; text-decoration-color: #00af00\">25</span>)             │         <span style=\"color: #00af00; text-decoration-color: #00af00\">3,150</span> │\n",
       "├─────────────────────────────────┼────────────────────────┼───────────────┤\n",
       "│ dropout_72 (<span style=\"color: #0087ff; text-decoration-color: #0087ff\">Dropout</span>)            │ (<span style=\"color: #00d7ff; text-decoration-color: #00d7ff\">None</span>, <span style=\"color: #00af00; text-decoration-color: #00af00\">25</span>)             │             <span style=\"color: #00af00; text-decoration-color: #00af00\">0</span> │\n",
       "├─────────────────────────────────┼────────────────────────┼───────────────┤\n",
       "│ dense_216 (<span style=\"color: #0087ff; text-decoration-color: #0087ff\">Dense</span>)               │ (<span style=\"color: #00d7ff; text-decoration-color: #00d7ff\">None</span>, <span style=\"color: #00af00; text-decoration-color: #00af00\">64</span>)             │         <span style=\"color: #00af00; text-decoration-color: #00af00\">1,664</span> │\n",
       "├─────────────────────────────────┼────────────────────────┼───────────────┤\n",
       "│ dense_217 (<span style=\"color: #0087ff; text-decoration-color: #0087ff\">Dense</span>)               │ (<span style=\"color: #00d7ff; text-decoration-color: #00d7ff\">None</span>, <span style=\"color: #00af00; text-decoration-color: #00af00\">32</span>)             │         <span style=\"color: #00af00; text-decoration-color: #00af00\">2,080</span> │\n",
       "├─────────────────────────────────┼────────────────────────┼───────────────┤\n",
       "│ dense_218 (<span style=\"color: #0087ff; text-decoration-color: #0087ff\">Dense</span>)               │ (<span style=\"color: #00d7ff; text-decoration-color: #00d7ff\">None</span>, <span style=\"color: #00af00; text-decoration-color: #00af00\">7</span>)              │           <span style=\"color: #00af00; text-decoration-color: #00af00\">231</span> │\n",
       "└─────────────────────────────────┴────────────────────────┴───────────────┘\n",
       "</pre>\n"
      ],
      "text/plain": [
       "┏━━━━━━━━━━━━━━━━━━━━━━━━━━━━━━━━━┳━━━━━━━━━━━━━━━━━━━━━━━━┳━━━━━━━━━━━━━━━┓\n",
       "┃\u001b[1m \u001b[0m\u001b[1mLayer (type)                   \u001b[0m\u001b[1m \u001b[0m┃\u001b[1m \u001b[0m\u001b[1mOutput Shape          \u001b[0m\u001b[1m \u001b[0m┃\u001b[1m \u001b[0m\u001b[1m      Param #\u001b[0m\u001b[1m \u001b[0m┃\n",
       "┡━━━━━━━━━━━━━━━━━━━━━━━━━━━━━━━━━╇━━━━━━━━━━━━━━━━━━━━━━━━╇━━━━━━━━━━━━━━━┩\n",
       "│ simple_rnn_216 (\u001b[38;5;33mSimpleRNN\u001b[0m)      │ (\u001b[38;5;45mNone\u001b[0m, \u001b[38;5;34m5\u001b[0m, \u001b[38;5;34m250\u001b[0m)         │       \u001b[38;5;34m222,500\u001b[0m │\n",
       "├─────────────────────────────────┼────────────────────────┼───────────────┤\n",
       "│ simple_rnn_217 (\u001b[38;5;33mSimpleRNN\u001b[0m)      │ (\u001b[38;5;45mNone\u001b[0m, \u001b[38;5;34m5\u001b[0m, \u001b[38;5;34m100\u001b[0m)         │        \u001b[38;5;34m35,100\u001b[0m │\n",
       "├─────────────────────────────────┼────────────────────────┼───────────────┤\n",
       "│ simple_rnn_218 (\u001b[38;5;33mSimpleRNN\u001b[0m)      │ (\u001b[38;5;45mNone\u001b[0m, \u001b[38;5;34m25\u001b[0m)             │         \u001b[38;5;34m3,150\u001b[0m │\n",
       "├─────────────────────────────────┼────────────────────────┼───────────────┤\n",
       "│ dropout_72 (\u001b[38;5;33mDropout\u001b[0m)            │ (\u001b[38;5;45mNone\u001b[0m, \u001b[38;5;34m25\u001b[0m)             │             \u001b[38;5;34m0\u001b[0m │\n",
       "├─────────────────────────────────┼────────────────────────┼───────────────┤\n",
       "│ dense_216 (\u001b[38;5;33mDense\u001b[0m)               │ (\u001b[38;5;45mNone\u001b[0m, \u001b[38;5;34m64\u001b[0m)             │         \u001b[38;5;34m1,664\u001b[0m │\n",
       "├─────────────────────────────────┼────────────────────────┼───────────────┤\n",
       "│ dense_217 (\u001b[38;5;33mDense\u001b[0m)               │ (\u001b[38;5;45mNone\u001b[0m, \u001b[38;5;34m32\u001b[0m)             │         \u001b[38;5;34m2,080\u001b[0m │\n",
       "├─────────────────────────────────┼────────────────────────┼───────────────┤\n",
       "│ dense_218 (\u001b[38;5;33mDense\u001b[0m)               │ (\u001b[38;5;45mNone\u001b[0m, \u001b[38;5;34m7\u001b[0m)              │           \u001b[38;5;34m231\u001b[0m │\n",
       "└─────────────────────────────────┴────────────────────────┴───────────────┘\n"
      ]
     },
     "metadata": {},
     "output_type": "display_data"
    },
    {
     "data": {
      "text/html": [
       "<pre style=\"white-space:pre;overflow-x:auto;line-height:normal;font-family:Menlo,'DejaVu Sans Mono',consolas,'Courier New',monospace\"><span style=\"font-weight: bold\"> Total params: </span><span style=\"color: #00af00; text-decoration-color: #00af00\">264,725</span> (1.01 MB)\n",
       "</pre>\n"
      ],
      "text/plain": [
       "\u001b[1m Total params: \u001b[0m\u001b[38;5;34m264,725\u001b[0m (1.01 MB)\n"
      ]
     },
     "metadata": {},
     "output_type": "display_data"
    },
    {
     "data": {
      "text/html": [
       "<pre style=\"white-space:pre;overflow-x:auto;line-height:normal;font-family:Menlo,'DejaVu Sans Mono',consolas,'Courier New',monospace\"><span style=\"font-weight: bold\"> Trainable params: </span><span style=\"color: #00af00; text-decoration-color: #00af00\">264,725</span> (1.01 MB)\n",
       "</pre>\n"
      ],
      "text/plain": [
       "\u001b[1m Trainable params: \u001b[0m\u001b[38;5;34m264,725\u001b[0m (1.01 MB)\n"
      ]
     },
     "metadata": {},
     "output_type": "display_data"
    },
    {
     "data": {
      "text/html": [
       "<pre style=\"white-space:pre;overflow-x:auto;line-height:normal;font-family:Menlo,'DejaVu Sans Mono',consolas,'Courier New',monospace\"><span style=\"font-weight: bold\"> Non-trainable params: </span><span style=\"color: #00af00; text-decoration-color: #00af00\">0</span> (0.00 B)\n",
       "</pre>\n"
      ],
      "text/plain": [
       "\u001b[1m Non-trainable params: \u001b[0m\u001b[38;5;34m0\u001b[0m (0.00 B)\n"
      ]
     },
     "metadata": {},
     "output_type": "display_data"
    }
   ],
   "source": [
    "# Construct the Recurrent Neural Net\n",
    "RNN = kr.Sequential()\n",
    "RNN.add(kr.layers.Input(shape=(5, len(trainingSetProcessed[\"Timings\"][0]))))\n",
    "RNN.add(kr.layers.SimpleRNN(250, return_sequences=True))\n",
    "RNN.add(kr.layers.SimpleRNN(100, return_sequences=True))\n",
    "RNN.add(kr.layers.SimpleRNN(25))\n",
    "RNN.add(kr.layers.Dropout(0.01))\n",
    "RNN.add(kr.layers.Dense(64, activation='relu'))\n",
    "RNN.add(kr.layers.Dense(32, activation='relu'))\n",
    "RNN.add(kr.layers.Dense(7, activation='softmax'))\n",
    "sgd = kr.optimizers.SGD(0.001)\n",
    "RNN.compile(optimizer='sgd', loss='categorical_crossentropy', metrics=['accuracy'])\n",
    "RNN.summary()"
   ]
  },
  {
   "cell_type": "code",
   "execution_count": 713,
   "id": "b3b3db4e",
   "metadata": {},
   "outputs": [
    {
     "name": "stdout",
     "output_type": "stream",
     "text": [
      "Epoch 1/20\n"
     ]
    },
    {
     "name": "stdout",
     "output_type": "stream",
     "text": [
      "\u001b[1m20/20\u001b[0m \u001b[32m━━━━━━━━━━━━━━━━━━━━\u001b[0m\u001b[37m\u001b[0m \u001b[1m2s\u001b[0m 19ms/step - accuracy: 0.1358 - loss: 1.9929 - val_accuracy: 0.1300 - val_loss: 1.9698\n",
      "Epoch 2/20\n",
      "\u001b[1m20/20\u001b[0m \u001b[32m━━━━━━━━━━━━━━━━━━━━\u001b[0m\u001b[37m\u001b[0m \u001b[1m0s\u001b[0m 6ms/step - accuracy: 0.1606 - loss: 1.9630 - val_accuracy: 0.1600 - val_loss: 1.9727\n",
      "Epoch 3/20\n",
      "\u001b[1m20/20\u001b[0m \u001b[32m━━━━━━━━━━━━━━━━━━━━\u001b[0m\u001b[37m\u001b[0m \u001b[1m0s\u001b[0m 6ms/step - accuracy: 0.1406 - loss: 1.9587 - val_accuracy: 0.0800 - val_loss: 1.9630\n",
      "Epoch 4/20\n",
      "\u001b[1m20/20\u001b[0m \u001b[32m━━━━━━━━━━━━━━━━━━━━\u001b[0m\u001b[37m\u001b[0m \u001b[1m0s\u001b[0m 6ms/step - accuracy: 0.1314 - loss: 1.9576 - val_accuracy: 0.1700 - val_loss: 1.9588\n",
      "Epoch 5/20\n",
      "\u001b[1m20/20\u001b[0m \u001b[32m━━━━━━━━━━━━━━━━━━━━\u001b[0m\u001b[37m\u001b[0m \u001b[1m0s\u001b[0m 6ms/step - accuracy: 0.1515 - loss: 1.9503 - val_accuracy: 0.2200 - val_loss: 1.9363\n",
      "Epoch 6/20\n",
      "\u001b[1m20/20\u001b[0m \u001b[32m━━━━━━━━━━━━━━━━━━━━\u001b[0m\u001b[37m\u001b[0m \u001b[1m0s\u001b[0m 6ms/step - accuracy: 0.1467 - loss: 1.9581 - val_accuracy: 0.2100 - val_loss: 1.9506\n",
      "Epoch 7/20\n",
      "\u001b[1m20/20\u001b[0m \u001b[32m━━━━━━━━━━━━━━━━━━━━\u001b[0m\u001b[37m\u001b[0m \u001b[1m0s\u001b[0m 6ms/step - accuracy: 0.1559 - loss: 1.9484 - val_accuracy: 0.1800 - val_loss: 1.9526\n",
      "Epoch 8/20\n",
      "\u001b[1m20/20\u001b[0m \u001b[32m━━━━━━━━━━━━━━━━━━━━\u001b[0m\u001b[37m\u001b[0m \u001b[1m0s\u001b[0m 6ms/step - accuracy: 0.1458 - loss: 1.9509 - val_accuracy: 0.1900 - val_loss: 1.9416\n",
      "Epoch 9/20\n",
      "\u001b[1m20/20\u001b[0m \u001b[32m━━━━━━━━━━━━━━━━━━━━\u001b[0m\u001b[37m\u001b[0m \u001b[1m0s\u001b[0m 6ms/step - accuracy: 0.1516 - loss: 1.9512 - val_accuracy: 0.2200 - val_loss: 1.9296\n",
      "Epoch 10/20\n",
      "\u001b[1m20/20\u001b[0m \u001b[32m━━━━━━━━━━━━━━━━━━━━\u001b[0m\u001b[37m\u001b[0m \u001b[1m0s\u001b[0m 6ms/step - accuracy: 0.1535 - loss: 1.9499 - val_accuracy: 0.1300 - val_loss: 1.9496\n",
      "Epoch 11/20\n",
      "\u001b[1m20/20\u001b[0m \u001b[32m━━━━━━━━━━━━━━━━━━━━\u001b[0m\u001b[37m\u001b[0m \u001b[1m0s\u001b[0m 6ms/step - accuracy: 0.1690 - loss: 1.9472 - val_accuracy: 0.1400 - val_loss: 1.9506\n",
      "Epoch 12/20\n",
      "\u001b[1m20/20\u001b[0m \u001b[32m━━━━━━━━━━━━━━━━━━━━\u001b[0m\u001b[37m\u001b[0m \u001b[1m0s\u001b[0m 6ms/step - accuracy: 0.1536 - loss: 1.9509 - val_accuracy: 0.1400 - val_loss: 1.9541\n",
      "Epoch 13/20\n",
      "\u001b[1m20/20\u001b[0m \u001b[32m━━━━━━━━━━━━━━━━━━━━\u001b[0m\u001b[37m\u001b[0m \u001b[1m0s\u001b[0m 6ms/step - accuracy: 0.1380 - loss: 1.9502 - val_accuracy: 0.1400 - val_loss: 1.9550\n",
      "Epoch 14/20\n",
      "\u001b[1m20/20\u001b[0m \u001b[32m━━━━━━━━━━━━━━━━━━━━\u001b[0m\u001b[37m\u001b[0m \u001b[1m0s\u001b[0m 6ms/step - accuracy: 0.1467 - loss: 1.9490 - val_accuracy: 0.1200 - val_loss: 1.9477\n",
      "Epoch 15/20\n",
      "\u001b[1m20/20\u001b[0m \u001b[32m━━━━━━━━━━━━━━━━━━━━\u001b[0m\u001b[37m\u001b[0m \u001b[1m0s\u001b[0m 6ms/step - accuracy: 0.1566 - loss: 1.9453 - val_accuracy: 0.1000 - val_loss: 1.9619\n",
      "Epoch 16/20\n",
      "\u001b[1m20/20\u001b[0m \u001b[32m━━━━━━━━━━━━━━━━━━━━\u001b[0m\u001b[37m\u001b[0m \u001b[1m0s\u001b[0m 6ms/step - accuracy: 0.1588 - loss: 1.9449 - val_accuracy: 0.1200 - val_loss: 1.9643\n",
      "Epoch 17/20\n",
      "\u001b[1m20/20\u001b[0m \u001b[32m━━━━━━━━━━━━━━━━━━━━\u001b[0m\u001b[37m\u001b[0m \u001b[1m0s\u001b[0m 6ms/step - accuracy: 0.1559 - loss: 1.9493 - val_accuracy: 0.1200 - val_loss: 1.9668\n",
      "Epoch 18/20\n",
      "\u001b[1m20/20\u001b[0m \u001b[32m━━━━━━━━━━━━━━━━━━━━\u001b[0m\u001b[37m\u001b[0m \u001b[1m0s\u001b[0m 6ms/step - accuracy: 0.1567 - loss: 1.9464 - val_accuracy: 0.1400 - val_loss: 1.9642\n",
      "Epoch 19/20\n",
      "\u001b[1m20/20\u001b[0m \u001b[32m━━━━━━━━━━━━━━━━━━━━\u001b[0m\u001b[37m\u001b[0m \u001b[1m0s\u001b[0m 6ms/step - accuracy: 0.1489 - loss: 1.9523 - val_accuracy: 0.1500 - val_loss: 1.9696\n",
      "Epoch 20/20\n",
      "\u001b[1m20/20\u001b[0m \u001b[32m━━━━━━━━━━━━━━━━━━━━\u001b[0m\u001b[37m\u001b[0m \u001b[1m0s\u001b[0m 6ms/step - accuracy: 0.1562 - loss: 1.9453 - val_accuracy: 0.1000 - val_loss: 1.9624\n",
      "\n",
      "\u001b[1m4/4\u001b[0m \u001b[32m━━━━━━━━━━━━━━━━━━━━\u001b[0m\u001b[37m\u001b[0m \u001b[1m0s\u001b[0m 1ms/step - accuracy: 0.1477 - loss: 1.9657 \n"
     ]
    },
    {
     "data": {
      "text/plain": [
       "[1.9748376607894897, 0.14000000059604645]"
      ]
     },
     "execution_count": 713,
     "metadata": {},
     "output_type": "execute_result"
    }
   ],
   "source": [
    "# Fit the Recurrent Neural Net to the Data\n",
    "RNN.fit(trainXT, trainYT, validation_data=(validXT, validYT), epochs=20, batch_size=150)\n",
    "# Evaluate the Recurrent Neural Net\n",
    "print()\n",
    "RNN.evaluate(testXT, testYT)"
   ]
  },
  {
   "cell_type": "code",
   "execution_count": 714,
   "id": "57d2134f",
   "metadata": {},
   "outputs": [
    {
     "name": "stdout",
     "output_type": "stream",
     "text": [
      "\u001b[1m4/4\u001b[0m \u001b[32m━━━━━━━━━━━━━━━━━━━━\u001b[0m\u001b[37m\u001b[0m \u001b[1m0s\u001b[0m 66ms/step\n",
      "              precision    recall  f1-score   support\n",
      "\n",
      "           0       0.10      0.07      0.08        15\n",
      "           1       0.11      0.27      0.15        11\n",
      "           2       0.00      0.00      0.00        16\n",
      "           3       0.00      0.00      0.00        14\n",
      "           4       0.00      0.00      0.00        15\n",
      "           5       0.15      0.62      0.25        13\n",
      "           6       0.40      0.12      0.19        16\n",
      "\n",
      "    accuracy                           0.14       100\n",
      "   macro avg       0.11      0.15      0.10       100\n",
      "weighted avg       0.11      0.14      0.09       100\n",
      "\n"
     ]
    },
    {
     "data": {
      "text/plain": [
       "<Axes: >"
      ]
     },
     "execution_count": 714,
     "metadata": {},
     "output_type": "execute_result"
    },
    {
     "data": {
      "image/png": "[encoded data removed]",
      "text/plain": [
       "<Figure size 640x480 with 2 Axes>"
      ]
     },
     "metadata": {},
     "output_type": "display_data"
    }
   ],
   "source": [
    "predict = np.argmax(RNN.predict(testXT), axis=1)\n",
    "testYT = np.argmax(testYT, axis=1)\n",
    "print(sk.classification_report(testYT, predict))\n",
    "cm = sk.confusion_matrix(testYT, predict)\n",
    "cmDisplay = pd.DataFrame(data=cm, columns=['neutral', 'anger', 'joy', 'fear', 'disgust', 'surprise', 'sadness'], index=['neutral', 'anger', 'joy', 'fear', 'disgust', 'surprise', 'sadness'])\n",
    "sns.heatmap(cmDisplay, annot=True, fmt='d', cmap='viridis')"
   ]
  },
  {
   "cell_type": "code",
   "execution_count": 715,
   "id": "74d34926",
   "metadata": {},
   "outputs": [
    {
     "name": "stdout",
     "output_type": "stream",
     "text": [
      "Epoch 1/20\n",
      "\u001b[1m29/29\u001b[0m \u001b[32m━━━━━━━━━━━━━━━━━━━━\u001b[0m\u001b[37m\u001b[0m \u001b[1m0s\u001b[0m 5ms/step - accuracy: 0.1572 - loss: 1.9423 - val_accuracy: 0.1500 - val_loss: 1.9660\n",
      "Epoch 2/20\n",
      "\u001b[1m29/29\u001b[0m \u001b[32m━━━━━━━━━━━━━━━━━━━━\u001b[0m\u001b[37m\u001b[0m \u001b[1m0s\u001b[0m 5ms/step - accuracy: 0.1594 - loss: 1.9429 - val_accuracy: 0.1300 - val_loss: 1.9571\n",
      "Epoch 3/20\n",
      "\u001b[1m29/29\u001b[0m \u001b[32m━━━━━━━━━━━━━━━━━━━━\u001b[0m\u001b[37m\u001b[0m \u001b[1m0s\u001b[0m 5ms/step - accuracy: 0.1704 - loss: 1.9422 - val_accuracy: 0.1600 - val_loss: 1.9541\n",
      "Epoch 4/20\n",
      "\u001b[1m29/29\u001b[0m \u001b[32m━━━━━━━━━━━━━━━━━━━━\u001b[0m\u001b[37m\u001b[0m \u001b[1m0s\u001b[0m 5ms/step - accuracy: 0.1658 - loss: 1.9410 - val_accuracy: 0.1500 - val_loss: 1.9509\n",
      "Epoch 5/20\n",
      "\u001b[1m29/29\u001b[0m \u001b[32m━━━━━━━━━━━━━━━━━━━━\u001b[0m\u001b[37m\u001b[0m \u001b[1m0s\u001b[0m 5ms/step - accuracy: 0.1643 - loss: 1.9387 - val_accuracy: 0.1100 - val_loss: 1.9507\n",
      "Epoch 6/20\n",
      "\u001b[1m29/29\u001b[0m \u001b[32m━━━━━━━━━━━━━━━━━━━━\u001b[0m\u001b[37m\u001b[0m \u001b[1m0s\u001b[0m 5ms/step - accuracy: 0.1675 - loss: 1.9387 - val_accuracy: 0.2000 - val_loss: 1.9455\n",
      "Epoch 7/20\n",
      "\u001b[1m29/29\u001b[0m \u001b[32m━━━━━━━━━━━━━━━━━━━━\u001b[0m\u001b[37m\u001b[0m \u001b[1m0s\u001b[0m 5ms/step - accuracy: 0.1662 - loss: 1.9394 - val_accuracy: 0.1400 - val_loss: 1.9607\n",
      "Epoch 8/20\n",
      "\u001b[1m29/29\u001b[0m \u001b[32m━━━━━━━━━━━━━━━━━━━━\u001b[0m\u001b[37m\u001b[0m \u001b[1m0s\u001b[0m 5ms/step - accuracy: 0.1664 - loss: 1.9377 - val_accuracy: 0.1200 - val_loss: 1.9622\n",
      "Epoch 9/20\n",
      "\u001b[1m29/29\u001b[0m \u001b[32m━━━━━━━━━━━━━━━━━━━━\u001b[0m\u001b[37m\u001b[0m \u001b[1m0s\u001b[0m 4ms/step - accuracy: 0.1628 - loss: 1.9378 - val_accuracy: 0.1100 - val_loss: 1.9598\n",
      "Epoch 10/20\n",
      "\u001b[1m29/29\u001b[0m \u001b[32m━━━━━━━━━━━━━━━━━━━━\u001b[0m\u001b[37m\u001b[0m \u001b[1m0s\u001b[0m 4ms/step - accuracy: 0.1639 - loss: 1.9372 - val_accuracy: 0.1600 - val_loss: 1.9488\n",
      "Epoch 11/20\n",
      "\u001b[1m29/29\u001b[0m \u001b[32m━━━━━━━━━━━━━━━━━━━━\u001b[0m\u001b[37m\u001b[0m \u001b[1m0s\u001b[0m 5ms/step - accuracy: 0.1719 - loss: 1.9387 - val_accuracy: 0.1000 - val_loss: 1.9553\n",
      "Epoch 12/20\n",
      "\u001b[1m29/29\u001b[0m \u001b[32m━━━━━━━━━━━━━━━━━━━━\u001b[0m\u001b[37m\u001b[0m \u001b[1m0s\u001b[0m 5ms/step - accuracy: 0.1743 - loss: 1.9377 - val_accuracy: 0.1400 - val_loss: 1.9528\n",
      "Epoch 13/20\n",
      "\u001b[1m29/29\u001b[0m \u001b[32m━━━━━━━━━━━━━━━━━━━━\u001b[0m\u001b[37m\u001b[0m \u001b[1m0s\u001b[0m 5ms/step - accuracy: 0.1696 - loss: 1.9372 - val_accuracy: 0.1600 - val_loss: 1.9471\n",
      "Epoch 14/20\n",
      "\u001b[1m29/29\u001b[0m \u001b[32m━━━━━━━━━━━━━━━━━━━━\u001b[0m\u001b[37m\u001b[0m \u001b[1m0s\u001b[0m 5ms/step - accuracy: 0.1729 - loss: 1.9328 - val_accuracy: 0.1100 - val_loss: 1.9611\n",
      "Epoch 15/20\n",
      "\u001b[1m29/29\u001b[0m \u001b[32m━━━━━━━━━━━━━━━━━━━━\u001b[0m\u001b[37m\u001b[0m \u001b[1m0s\u001b[0m 5ms/step - accuracy: 0.1795 - loss: 1.9313 - val_accuracy: 0.1100 - val_loss: 1.9586\n",
      "Epoch 16/20\n",
      "\u001b[1m29/29\u001b[0m \u001b[32m━━━━━━━━━━━━━━━━━━━━\u001b[0m\u001b[37m\u001b[0m \u001b[1m0s\u001b[0m 4ms/step - accuracy: 0.1815 - loss: 1.9312 - val_accuracy: 0.1500 - val_loss: 1.9484\n",
      "Epoch 17/20\n",
      "\u001b[1m29/29\u001b[0m \u001b[32m━━━━━━━━━━━━━━━━━━━━\u001b[0m\u001b[37m\u001b[0m \u001b[1m0s\u001b[0m 4ms/step - accuracy: 0.1714 - loss: 1.9333 - val_accuracy: 0.0900 - val_loss: 1.9612\n",
      "Epoch 18/20\n",
      "\u001b[1m29/29\u001b[0m \u001b[32m━━━━━━━━━━━━━━━━━━━━\u001b[0m\u001b[37m\u001b[0m \u001b[1m0s\u001b[0m 5ms/step - accuracy: 0.1677 - loss: 1.9344 - val_accuracy: 0.0700 - val_loss: 1.9580\n",
      "Epoch 19/20\n",
      "\u001b[1m29/29\u001b[0m \u001b[32m━━━━━━━━━━━━━━━━━━━━\u001b[0m\u001b[37m\u001b[0m \u001b[1m0s\u001b[0m 5ms/step - accuracy: 0.2005 - loss: 1.9315 - val_accuracy: 0.1200 - val_loss: 1.9628\n",
      "Epoch 20/20\n",
      "\u001b[1m29/29\u001b[0m \u001b[32m━━━━━━━━━━━━━━━━━━━━\u001b[0m\u001b[37m\u001b[0m \u001b[1m0s\u001b[0m 4ms/step - accuracy: 0.1812 - loss: 1.9300 - val_accuracy: 0.1400 - val_loss: 1.9481\n",
      "\n",
      "\u001b[1m4/4\u001b[0m \u001b[32m━━━━━━━━━━━━━━━━━━━━\u001b[0m\u001b[37m\u001b[0m \u001b[1m0s\u001b[0m 1ms/step - accuracy: 0.2187 - loss: 1.9384 \n",
      "\u001b[1m4/4\u001b[0m \u001b[32m━━━━━━━━━━━━━━━━━━━━\u001b[0m\u001b[37m\u001b[0m \u001b[1m0s\u001b[0m 1ms/step \n"
     ]
    }
   ],
   "source": [
    "annotated_data = pd.read_csv(\"../test_set_annotated.csv\")\n",
    "testAY = annotated_data[\"Actual_Determined_Label\"]\n",
    "testAY = testAY.map(emotions2)\n",
    "testAY = kr.utils.to_categorical(testAY, num_classes=7)\n",
    "testAYT = tf.convert_to_tensor(testAY)\n",
    "# Fit the Recurrent Neural Net to the Data\n",
    "RNN.fit(trainXT, trainYT, validation_data=(validXT, validYT), epochs=20, batch_size=100)\n",
    "# Evaluate the Recurrent Neural Net\n",
    "print()\n",
    "RNN.evaluate(testXT, testAYT)\n",
    "predict = np.argmax(RNN.predict(testXT), axis=1)\n",
    "testAYT = np.argmax(testAYT, axis=1)\n"
   ]
  },
  {
   "cell_type": "code",
   "execution_count": 716,
   "id": "0a441468",
   "metadata": {},
   "outputs": [
    {
     "data": {
      "text/plain": [
       "Text(50.722222222222214, 0.5, 'Actual Label')"
      ]
     },
     "execution_count": 716,
     "metadata": {},
     "output_type": "execute_result"
    },
    {
     "data": {
      "image/png": "[encoded data removed]",
      "text/plain": [
       "<Figure size 640x480 with 2 Axes>"
      ]
     },
     "metadata": {},
     "output_type": "display_data"
    }
   ],
   "source": [
    "cm = sk.confusion_matrix(testAYT, predict)\n",
    "cmDisplay = pd.DataFrame(data=cm, columns=['neutral', 'anger', 'joy', 'fear', 'disgust', 'surprise', 'sadness'], index=['neutral', 'anger', 'joy', 'fear', 'disgust', 'surprise', 'sadness'])\n",
    "sns.heatmap(cmDisplay, annot=True, fmt='d', cmap='viridis')\n",
    "plt.xlabel(\"Predicted Label\")\n",
    "plt.ylabel(\"Actual Label\")"
   ]
  },
  {
   "cell_type": "code",
   "execution_count": 717,
   "id": "eff22c65",
   "metadata": {},
   "outputs": [
    {
     "name": "stdout",
     "output_type": "stream",
     "text": [
      "              precision    recall  f1-score   support\n",
      "\n",
      "           0       0.23      0.14      0.17        22\n",
      "           1       0.00      0.00      0.00        25\n",
      "           2       0.25      0.18      0.21        17\n",
      "           3       0.20      0.33      0.25         9\n",
      "           4       0.33      0.29      0.31         7\n",
      "           5       0.12      0.42      0.18        12\n",
      "           6       0.50      0.38      0.43         8\n",
      "\n",
      "    accuracy                           0.19       100\n",
      "   macro avg       0.23      0.25      0.22       100\n",
      "weighted avg       0.19      0.19      0.17       100\n",
      "\n"
     ]
    }
   ],
   "source": [
    "print(sk.classification_report(testAYT, predict ,zero_division=0))"
   ]
  },
  {
   "cell_type": "markdown",
   "id": "7ca5dbcc",
   "metadata": {},
   "source": [
    "Position Detection"
   ]
  },
  {
   "cell_type": "code",
   "execution_count": null,
   "id": "604de879",
   "metadata": {},
   "outputs": [
    {
     "data": {
      "text/html": [
       "<pre style=\"white-space:pre;overflow-x:auto;line-height:normal;font-family:Menlo,'DejaVu Sans Mono',consolas,'Courier New',monospace\"><span style=\"font-weight: bold\">Model: \"sequential_75\"</span>\n",
       "</pre>\n"
      ],
      "text/plain": [
       "\u001b[1mModel: \"sequential_75\"\u001b[0m\n"
      ]
     },
     "metadata": {},
     "output_type": "display_data"
    },
    {
     "data": {
      "text/html": [
       "<pre style=\"white-space:pre;overflow-x:auto;line-height:normal;font-family:Menlo,'DejaVu Sans Mono',consolas,'Courier New',monospace\">┏━━━━━━━━━━━━━━━━━━━━━━━━━━━━━━━━━┳━━━━━━━━━━━━━━━━━━━━━━━━┳━━━━━━━━━━━━━━━┓\n",
       "┃<span style=\"font-weight: bold\"> Layer (type)                    </span>┃<span style=\"font-weight: bold\"> Output Shape           </span>┃<span style=\"font-weight: bold\">       Param # </span>┃\n",
       "┡━━━━━━━━━━━━━━━━━━━━━━━━━━━━━━━━━╇━━━━━━━━━━━━━━━━━━━━━━━━╇━━━━━━━━━━━━━━━┩\n",
       "│ simple_rnn_225 (<span style=\"color: #0087ff; text-decoration-color: #0087ff\">SimpleRNN</span>)      │ (<span style=\"color: #00d7ff; text-decoration-color: #00d7ff\">None</span>, <span style=\"color: #00d7ff; text-decoration-color: #00d7ff\">None</span>, <span style=\"color: #00af00; text-decoration-color: #00af00\">250</span>)      │        <span style=\"color: #00af00; text-decoration-color: #00af00\">63,250</span> │\n",
       "├─────────────────────────────────┼────────────────────────┼───────────────┤\n",
       "│ simple_rnn_226 (<span style=\"color: #0087ff; text-decoration-color: #0087ff\">SimpleRNN</span>)      │ (<span style=\"color: #00d7ff; text-decoration-color: #00d7ff\">None</span>, <span style=\"color: #00d7ff; text-decoration-color: #00d7ff\">None</span>, <span style=\"color: #00af00; text-decoration-color: #00af00\">100</span>)      │        <span style=\"color: #00af00; text-decoration-color: #00af00\">35,100</span> │\n",
       "├─────────────────────────────────┼────────────────────────┼───────────────┤\n",
       "│ simple_rnn_227 (<span style=\"color: #0087ff; text-decoration-color: #0087ff\">SimpleRNN</span>)      │ (<span style=\"color: #00d7ff; text-decoration-color: #00d7ff\">None</span>, <span style=\"color: #00af00; text-decoration-color: #00af00\">25</span>)             │         <span style=\"color: #00af00; text-decoration-color: #00af00\">3,150</span> │\n",
       "├─────────────────────────────────┼────────────────────────┼───────────────┤\n",
       "│ dropout_75 (<span style=\"color: #0087ff; text-decoration-color: #0087ff\">Dropout</span>)            │ (<span style=\"color: #00d7ff; text-decoration-color: #00d7ff\">None</span>, <span style=\"color: #00af00; text-decoration-color: #00af00\">25</span>)             │             <span style=\"color: #00af00; text-decoration-color: #00af00\">0</span> │\n",
       "├─────────────────────────────────┼────────────────────────┼───────────────┤\n",
       "│ dense_225 (<span style=\"color: #0087ff; text-decoration-color: #0087ff\">Dense</span>)               │ (<span style=\"color: #00d7ff; text-decoration-color: #00d7ff\">None</span>, <span style=\"color: #00af00; text-decoration-color: #00af00\">64</span>)             │         <span style=\"color: #00af00; text-decoration-color: #00af00\">1,664</span> │\n",
       "├─────────────────────────────────┼────────────────────────┼───────────────┤\n",
       "│ dense_226 (<span style=\"color: #0087ff; text-decoration-color: #0087ff\">Dense</span>)               │ (<span style=\"color: #00d7ff; text-decoration-color: #00d7ff\">None</span>, <span style=\"color: #00af00; text-decoration-color: #00af00\">32</span>)             │         <span style=\"color: #00af00; text-decoration-color: #00af00\">2,080</span> │\n",
       "├─────────────────────────────────┼────────────────────────┼───────────────┤\n",
       "│ dense_227 (<span style=\"color: #0087ff; text-decoration-color: #0087ff\">Dense</span>)               │ (<span style=\"color: #00d7ff; text-decoration-color: #00d7ff\">None</span>, <span style=\"color: #00af00; text-decoration-color: #00af00\">7</span>)              │           <span style=\"color: #00af00; text-decoration-color: #00af00\">231</span> │\n",
       "└─────────────────────────────────┴────────────────────────┴───────────────┘\n",
       "</pre>\n"
      ],
      "text/plain": [
       "┏━━━━━━━━━━━━━━━━━━━━━━━━━━━━━━━━━┳━━━━━━━━━━━━━━━━━━━━━━━━┳━━━━━━━━━━━━━━━┓\n",
       "┃\u001b[1m \u001b[0m\u001b[1mLayer (type)                   \u001b[0m\u001b[1m \u001b[0m┃\u001b[1m \u001b[0m\u001b[1mOutput Shape          \u001b[0m\u001b[1m \u001b[0m┃\u001b[1m \u001b[0m\u001b[1m      Param #\u001b[0m\u001b[1m \u001b[0m┃\n",
       "┡━━━━━━━━━━━━━━━━━━━━━━━━━━━━━━━━━╇━━━━━━━━━━━━━━━━━━━━━━━━╇━━━━━━━━━━━━━━━┩\n",
       "│ simple_rnn_225 (\u001b[38;5;33mSimpleRNN\u001b[0m)      │ (\u001b[38;5;45mNone\u001b[0m, \u001b[38;5;45mNone\u001b[0m, \u001b[38;5;34m250\u001b[0m)      │        \u001b[38;5;34m63,250\u001b[0m │\n",
       "├─────────────────────────────────┼────────────────────────┼───────────────┤\n",
       "│ simple_rnn_226 (\u001b[38;5;33mSimpleRNN\u001b[0m)      │ (\u001b[38;5;45mNone\u001b[0m, \u001b[38;5;45mNone\u001b[0m, \u001b[38;5;34m100\u001b[0m)      │        \u001b[38;5;34m35,100\u001b[0m │\n",
       "├─────────────────────────────────┼────────────────────────┼───────────────┤\n",
       "│ simple_rnn_227 (\u001b[38;5;33mSimpleRNN\u001b[0m)      │ (\u001b[38;5;45mNone\u001b[0m, \u001b[38;5;34m25\u001b[0m)             │         \u001b[38;5;34m3,150\u001b[0m │\n",
       "├─────────────────────────────────┼────────────────────────┼───────────────┤\n",
       "│ dropout_75 (\u001b[38;5;33mDropout\u001b[0m)            │ (\u001b[38;5;45mNone\u001b[0m, \u001b[38;5;34m25\u001b[0m)             │             \u001b[38;5;34m0\u001b[0m │\n",
       "├─────────────────────────────────┼────────────────────────┼───────────────┤\n",
       "│ dense_225 (\u001b[38;5;33mDense\u001b[0m)               │ (\u001b[38;5;45mNone\u001b[0m, \u001b[38;5;34m64\u001b[0m)             │         \u001b[38;5;34m1,664\u001b[0m │\n",
       "├─────────────────────────────────┼────────────────────────┼───────────────┤\n",
       "│ dense_226 (\u001b[38;5;33mDense\u001b[0m)               │ (\u001b[38;5;45mNone\u001b[0m, \u001b[38;5;34m32\u001b[0m)             │         \u001b[38;5;34m2,080\u001b[0m │\n",
       "├─────────────────────────────────┼────────────────────────┼───────────────┤\n",
       "│ dense_227 (\u001b[38;5;33mDense\u001b[0m)               │ (\u001b[38;5;45mNone\u001b[0m, \u001b[38;5;34m7\u001b[0m)              │           \u001b[38;5;34m231\u001b[0m │\n",
       "└─────────────────────────────────┴────────────────────────┴───────────────┘\n"
      ]
     },
     "metadata": {},
     "output_type": "display_data"
    },
    {
     "data": {
      "text/html": [
       "<pre style=\"white-space:pre;overflow-x:auto;line-height:normal;font-family:Menlo,'DejaVu Sans Mono',consolas,'Courier New',monospace\"><span style=\"font-weight: bold\"> Total params: </span><span style=\"color: #00af00; text-decoration-color: #00af00\">105,475</span> (412.01 KB)\n",
       "</pre>\n"
      ],
      "text/plain": [
       "\u001b[1m Total params: \u001b[0m\u001b[38;5;34m105,475\u001b[0m (412.01 KB)\n"
      ]
     },
     "metadata": {},
     "output_type": "display_data"
    },
    {
     "data": {
      "text/html": [
       "<pre style=\"white-space:pre;overflow-x:auto;line-height:normal;font-family:Menlo,'DejaVu Sans Mono',consolas,'Courier New',monospace\"><span style=\"font-weight: bold\"> Trainable params: </span><span style=\"color: #00af00; text-decoration-color: #00af00\">105,475</span> (412.01 KB)\n",
       "</pre>\n"
      ],
      "text/plain": [
       "\u001b[1m Trainable params: \u001b[0m\u001b[38;5;34m105,475\u001b[0m (412.01 KB)\n"
      ]
     },
     "metadata": {},
     "output_type": "display_data"
    },
    {
     "data": {
      "text/html": [
       "<pre style=\"white-space:pre;overflow-x:auto;line-height:normal;font-family:Menlo,'DejaVu Sans Mono',consolas,'Courier New',monospace\"><span style=\"font-weight: bold\"> Non-trainable params: </span><span style=\"color: #00af00; text-decoration-color: #00af00\">0</span> (0.00 B)\n",
       "</pre>\n"
      ],
      "text/plain": [
       "\u001b[1m Non-trainable params: \u001b[0m\u001b[38;5;34m0\u001b[0m (0.00 B)\n"
      ]
     },
     "metadata": {},
     "output_type": "display_data"
    }
   ],
   "source": [
    "# Construct the Recurrent Neural Net\n",
    "RNN = kr.Sequential()\n",
    "RNN.add(kr.layers.Input(shape=(6, len(trainingSetProcessed[\"Timings\"][0]))))\n",
    "RNN.add(kr.layers.SimpleRNN(250, return_sequences=True))\n",
    "RNN.add(kr.layers.SimpleRNN(100, return_sequences=True))\n",
    "RNN.add(kr.layers.SimpleRNN(25))\n",
    "RNN.add(kr.layers.Dropout(0.01))\n",
    "RNN.add(kr.layers.Dense(64, activation='relu'))\n",
    "RNN.add(kr.layers.Dense(32, activation='relu'))\n",
    "RNN.add(kr.layers.Dense(7, activation='softmax'))\n",
    "sgd = kr.optimizers.SGD(0.001)\n",
    "RNN.compile(optimizer='adam', loss='binary_crossentropy', metrics=['accuracy'])\n",
    "RNN.summary()"
   ]
  },
  {
   "cell_type": "code",
   "execution_count": null,
   "id": "a9fb5b01",
   "metadata": {},
   "outputs": [
    {
     "name": "stdout",
     "output_type": "stream",
     "text": [
      "Epoch 1/20\n"
     ]
    },
    {
     "ename": "ValueError",
     "evalue": "Exception encountered when calling Sequential.call().\n\n\u001b[1mInvalid input shape for input Tensor(\"data:0\", shape=(None, 2), dtype=float32). Expected shape (None, None, 2), but input has incompatible shape (None, 2)\u001b[0m\n\nArguments received by Sequential.call():\n  • inputs=tf.Tensor(shape=(None, 2), dtype=float32)\n  • training=True\n  • mask=None",
     "output_type": "error",
     "traceback": [
      "\u001b[1;31m---------------------------------------------------------------------------\u001b[0m",
      "\u001b[1;31mValueError\u001b[0m                                Traceback (most recent call last)",
      "Cell \u001b[1;32mIn[790], line 2\u001b[0m\n\u001b[0;32m      1\u001b[0m \u001b[38;5;66;03m# Fit the Recurrent Neural Net to the Data\u001b[39;00m\n\u001b[1;32m----> 2\u001b[0m \u001b[43mRNN\u001b[49m\u001b[38;5;241;43m.\u001b[39;49m\u001b[43mfit\u001b[49m\u001b[43m(\u001b[49m\u001b[43mtrainXPT\u001b[49m\u001b[43m,\u001b[49m\u001b[43m \u001b[49m\u001b[43mtrainYT\u001b[49m\u001b[43m,\u001b[49m\u001b[43m \u001b[49m\u001b[43mvalidation_data\u001b[49m\u001b[38;5;241;43m=\u001b[39;49m\u001b[43m(\u001b[49m\u001b[43mvalidXPT\u001b[49m\u001b[43m,\u001b[49m\u001b[43m \u001b[49m\u001b[43mvalidYT\u001b[49m\u001b[43m)\u001b[49m\u001b[43m,\u001b[49m\u001b[43m \u001b[49m\u001b[43mepochs\u001b[49m\u001b[38;5;241;43m=\u001b[39;49m\u001b[38;5;241;43m20\u001b[39;49m\u001b[43m,\u001b[49m\u001b[43m \u001b[49m\u001b[43mbatch_size\u001b[49m\u001b[38;5;241;43m=\u001b[39;49m\u001b[38;5;241;43m200\u001b[39;49m\u001b[43m)\u001b[49m\n",
      "File \u001b[1;32m~\\AppData\\Local\\Packages\\PythonSoftwareFoundation.Python.3.11_qbz5n2kfra8p0\\LocalCache\\local-packages\\Python311\\site-packages\\keras\\src\\utils\\traceback_utils.py:123\u001b[0m, in \u001b[0;36mfilter_traceback.<locals>.error_handler\u001b[1;34m(*args, **kwargs)\u001b[0m\n\u001b[0;32m    120\u001b[0m     filtered_tb \u001b[38;5;241m=\u001b[39m _process_traceback_frames(e\u001b[38;5;241m.\u001b[39m__traceback__)\n\u001b[0;32m    121\u001b[0m     \u001b[38;5;66;03m# To get the full stack trace, call:\u001b[39;00m\n\u001b[0;32m    122\u001b[0m     \u001b[38;5;66;03m# `keras.config.disable_traceback_filtering()`\u001b[39;00m\n\u001b[1;32m--> 123\u001b[0m     \u001b[38;5;28;01mraise\u001b[39;00m e\u001b[38;5;241m.\u001b[39mwith_traceback(filtered_tb) \u001b[38;5;28;01mfrom\u001b[39;00m \u001b[38;5;28;01mNone\u001b[39;00m\n\u001b[0;32m    124\u001b[0m \u001b[38;5;28;01mfinally\u001b[39;00m:\n\u001b[0;32m    125\u001b[0m     \u001b[38;5;28;01mdel\u001b[39;00m filtered_tb\n",
      "File \u001b[1;32m~\\AppData\\Local\\Packages\\PythonSoftwareFoundation.Python.3.11_qbz5n2kfra8p0\\LocalCache\\local-packages\\Python311\\site-packages\\keras\\src\\models\\functional.py:274\u001b[0m, in \u001b[0;36mFunctional._adjust_input_rank\u001b[1;34m(self, flat_inputs)\u001b[0m\n\u001b[0;32m    272\u001b[0m             adjusted\u001b[38;5;241m.\u001b[39mappend(ops\u001b[38;5;241m.\u001b[39mexpand_dims(x, axis\u001b[38;5;241m=\u001b[39m\u001b[38;5;241m-\u001b[39m\u001b[38;5;241m1\u001b[39m))\n\u001b[0;32m    273\u001b[0m             \u001b[38;5;28;01mcontinue\u001b[39;00m\n\u001b[1;32m--> 274\u001b[0m     \u001b[38;5;28;01mraise\u001b[39;00m \u001b[38;5;167;01mValueError\u001b[39;00m(\n\u001b[0;32m    275\u001b[0m         \u001b[38;5;124mf\u001b[39m\u001b[38;5;124m\"\u001b[39m\u001b[38;5;124mInvalid input shape for input \u001b[39m\u001b[38;5;132;01m{\u001b[39;00mx\u001b[38;5;132;01m}\u001b[39;00m\u001b[38;5;124m. Expected shape \u001b[39m\u001b[38;5;124m\"\u001b[39m\n\u001b[0;32m    276\u001b[0m         \u001b[38;5;124mf\u001b[39m\u001b[38;5;124m\"\u001b[39m\u001b[38;5;132;01m{\u001b[39;00mref_shape\u001b[38;5;132;01m}\u001b[39;00m\u001b[38;5;124m, but input has incompatible shape \u001b[39m\u001b[38;5;132;01m{\u001b[39;00mx\u001b[38;5;241m.\u001b[39mshape\u001b[38;5;132;01m}\u001b[39;00m\u001b[38;5;124m\"\u001b[39m\n\u001b[0;32m    277\u001b[0m     )\n\u001b[0;32m    278\u001b[0m \u001b[38;5;66;03m# Add back metadata.\u001b[39;00m\n\u001b[0;32m    279\u001b[0m \u001b[38;5;28;01mfor\u001b[39;00m i \u001b[38;5;129;01min\u001b[39;00m \u001b[38;5;28mrange\u001b[39m(\u001b[38;5;28mlen\u001b[39m(flat_inputs)):\n",
      "\u001b[1;31mValueError\u001b[0m: Exception encountered when calling Sequential.call().\n\n\u001b[1mInvalid input shape for input Tensor(\"data:0\", shape=(None, 2), dtype=float32). Expected shape (None, None, 2), but input has incompatible shape (None, 2)\u001b[0m\n\nArguments received by Sequential.call():\n  • inputs=tf.Tensor(shape=(None, 2), dtype=float32)\n  • training=True\n  • mask=None"
     ]
    }
   ],
   "source": [
    "# Fit the Recurrent Neural Net to the Data\n",
    "RNN.fit(trainXPT, trainYT, validation_data=(validXPT, validYT), epochs=20, batch_size=200)"
   ]
  },
  {
   "cell_type": "code",
   "execution_count": null,
   "id": "f334cba8",
   "metadata": {},
   "outputs": [],
   "source": [
    "# Evaluate the Recurrent Neural Net\n",
    "RNN.evaluate(testXPT, testYT)"
   ]
  }
 ],
 "metadata": {
  "kernelspec": {
   "display_name": "Python 3 (ipykernel)",
   "language": "python",
   "name": "python3"
  },
  "language_info": {
   "codemirror_mode": {
    "name": "ipython",
    "version": 3
   },
   "file_extension": ".py",
   "mimetype": "text/x-python",
   "name": "python",
   "nbconvert_exporter": "python",
   "pygments_lexer": "ipython3",
   "version": "3.11.9"
  }
 },
 "nbformat": 4,
 "nbformat_minor": 5
}
