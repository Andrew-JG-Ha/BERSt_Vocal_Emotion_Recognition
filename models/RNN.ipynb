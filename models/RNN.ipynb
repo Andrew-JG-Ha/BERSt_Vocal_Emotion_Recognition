{
 "cells": [
  {
   "cell_type": "markdown",
   "id": "8490ecc0-6f21-4139-bf33-bd30c7387f71",
   "metadata": {},
   "source": [
    "Recurrent Neural Network\n",
    "========================"
   ]
  },
  {
   "cell_type": "code",
   "execution_count": null,
   "id": "73b98d0b-c4be-486f-9845-afae743bab62",
   "metadata": {},
   "outputs": [],
   "source": []
  }
 ],
 "metadata": {
  "kernelspec": {
   "display_name": "Python 3 (ipykernel)",
   "language": "python",
   "name": "python3"
  },
  "language_info": {
   "codemirror_mode": {
    "name": "ipython",
    "version": 3
   },
   "file_extension": ".py",
   "mimetype": "text/x-python",
   "name": "python",
   "nbconvert_exporter": "python",
   "pygments_lexer": "ipython3",
   "version": "3.11.5"
  }
 },
 "nbformat": 4,
 "nbformat_minor": 5
}
